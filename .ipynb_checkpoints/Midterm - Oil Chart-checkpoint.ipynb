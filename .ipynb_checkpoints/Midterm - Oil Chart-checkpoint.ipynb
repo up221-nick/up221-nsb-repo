{
 "cells": [
  {
   "cell_type": "markdown",
   "id": "480c3616-74f8-4b48-acb8-04043844411c",
   "metadata": {},
   "source": [
    "This notebook uses Kern County CalGEM oil data to understand the breakdown of oil & gas well status and who owns them. As we find, very few companies own the majority of wells. In another notebook I found through simple arithmetic that 5 companies owned around 3/4 of the idle, active, and new wells. \n",
    "\n",
    "What the graph shows also is the high number of plugged wells. This corroborates with the oil production graph showing a declining rate of production statewide. "
   ]
  },
  {
   "cell_type": "code",
   "execution_count": 1,
   "id": "8e2aad5e-9905-4cd7-8d8c-6649ba6cdfd6",
   "metadata": {},
   "outputs": [],
   "source": [
    "import pandas as pd\n",
    "import numpy as np\n",
    "import seaborn\n",
    "import folium"
   ]
  },
  {
   "cell_type": "code",
   "execution_count": 2,
   "id": "573c0039-2d74-4b31-831c-e1381a368226",
   "metadata": {},
   "outputs": [],
   "source": [
    "import geopandas as gpd"
   ]
  },
  {
   "cell_type": "code",
   "execution_count": 3,
   "id": "15c6a90f-344f-4e7e-ac02-a5be24be9429",
   "metadata": {},
   "outputs": [],
   "source": [
    "import contextily as cx\n",
    "import matplotlib.pyplot as plt\n",
    "import plotly.express as px"
   ]
  },
  {
   "cell_type": "code",
   "execution_count": 4,
   "id": "a00a48af-d48b-41c7-85ee-ed1d5c8ad5cf",
   "metadata": {},
   "outputs": [
    {
     "data": {
      "text/html": [
       "<div>\n",
       "<style scoped>\n",
       "    .dataframe tbody tr th:only-of-type {\n",
       "        vertical-align: middle;\n",
       "    }\n",
       "\n",
       "    .dataframe tbody tr th {\n",
       "        vertical-align: top;\n",
       "    }\n",
       "\n",
       "    .dataframe thead th {\n",
       "        text-align: right;\n",
       "    }\n",
       "</style>\n",
       "<table border=\"1\" class=\"dataframe\">\n",
       "  <thead>\n",
       "    <tr style=\"text-align: right;\">\n",
       "      <th></th>\n",
       "      <th>LeaseName</th>\n",
       "      <th>WellDesign</th>\n",
       "      <th>WellStatus</th>\n",
       "      <th>WellType</th>\n",
       "      <th>WellTypeLa</th>\n",
       "      <th>OperatorNa</th>\n",
       "      <th>Place</th>\n",
       "      <th>CountyName</th>\n",
       "      <th>Latitude</th>\n",
       "      <th>Longitude</th>\n",
       "      <th>GISSource</th>\n",
       "      <th>isDirectio</th>\n",
       "      <th>WellSymbol</th>\n",
       "    </tr>\n",
       "  </thead>\n",
       "  <tbody>\n",
       "    <tr>\n",
       "      <th>0</th>\n",
       "      <td>Southern Pacific</td>\n",
       "      <td>Southern Pacific 11H</td>\n",
       "      <td>Canceled</td>\n",
       "      <td>OG</td>\n",
       "      <td>Oil &amp; Gas</td>\n",
       "      <td>California Resources Production Corporation</td>\n",
       "      <td>Kern County</td>\n",
       "      <td>Kern</td>\n",
       "      <td>35.401291</td>\n",
       "      <td>-118.860405</td>\n",
       "      <td>Operator</td>\n",
       "      <td>N</td>\n",
       "      <td>CanceledOG</td>\n",
       "    </tr>\n",
       "    <tr>\n",
       "      <th>1</th>\n",
       "      <td>Siegfus</td>\n",
       "      <td>Siegfus 31X-22</td>\n",
       "      <td>Canceled</td>\n",
       "      <td>OG</td>\n",
       "      <td>Oil &amp; Gas</td>\n",
       "      <td>California Resources Production Corporation</td>\n",
       "      <td>Kern County</td>\n",
       "      <td>Kern</td>\n",
       "      <td>35.397495</td>\n",
       "      <td>-118.855888</td>\n",
       "      <td>Operator</td>\n",
       "      <td>N</td>\n",
       "      <td>CanceledOG</td>\n",
       "    </tr>\n",
       "    <tr>\n",
       "      <th>2</th>\n",
       "      <td>Southern Pacific</td>\n",
       "      <td>Southern Pacific 5H</td>\n",
       "      <td>Canceled</td>\n",
       "      <td>OG</td>\n",
       "      <td>Oil &amp; Gas</td>\n",
       "      <td>Stockdale Oil &amp; Gas, Inc.</td>\n",
       "      <td>Kern County</td>\n",
       "      <td>Kern</td>\n",
       "      <td>35.404583</td>\n",
       "      <td>-118.850471</td>\n",
       "      <td>mip</td>\n",
       "      <td>N</td>\n",
       "      <td>CanceledOG</td>\n",
       "    </tr>\n",
       "    <tr>\n",
       "      <th>3</th>\n",
       "      <td>Southern Pacific</td>\n",
       "      <td>Southern Pacific 6H</td>\n",
       "      <td>Canceled</td>\n",
       "      <td>OG</td>\n",
       "      <td>Oil &amp; Gas</td>\n",
       "      <td>Stockdale Oil &amp; Gas, Inc.</td>\n",
       "      <td>Kern County</td>\n",
       "      <td>Kern</td>\n",
       "      <td>35.403610</td>\n",
       "      <td>-118.849937</td>\n",
       "      <td>mip</td>\n",
       "      <td>N</td>\n",
       "      <td>CanceledOG</td>\n",
       "    </tr>\n",
       "    <tr>\n",
       "      <th>4</th>\n",
       "      <td>Southern Pacific</td>\n",
       "      <td>Southern Pacific 7H</td>\n",
       "      <td>Canceled</td>\n",
       "      <td>OG</td>\n",
       "      <td>Oil &amp; Gas</td>\n",
       "      <td>Stockdale Oil &amp; Gas, Inc.</td>\n",
       "      <td>Kern County</td>\n",
       "      <td>Kern</td>\n",
       "      <td>35.405106</td>\n",
       "      <td>-118.856483</td>\n",
       "      <td>mip</td>\n",
       "      <td>N</td>\n",
       "      <td>CanceledOG</td>\n",
       "    </tr>\n",
       "    <tr>\n",
       "      <th>5</th>\n",
       "      <td>Lease by Stockdale Oil &amp; Gas, Inc.</td>\n",
       "      <td>UC75</td>\n",
       "      <td>Canceled</td>\n",
       "      <td>OG</td>\n",
       "      <td>Oil &amp; Gas</td>\n",
       "      <td>Stockdale Oil &amp; Gas, Inc.</td>\n",
       "      <td>Bakersfield</td>\n",
       "      <td>Kern</td>\n",
       "      <td>35.397018</td>\n",
       "      <td>-118.863434</td>\n",
       "      <td>mip</td>\n",
       "      <td>N</td>\n",
       "      <td>CanceledOG</td>\n",
       "    </tr>\n",
       "    <tr>\n",
       "      <th>6</th>\n",
       "      <td>Siegfus</td>\n",
       "      <td>Siegfus USC-2</td>\n",
       "      <td>Canceled</td>\n",
       "      <td>OG</td>\n",
       "      <td>Oil &amp; Gas</td>\n",
       "      <td>Stockdale Oil &amp; Gas, Inc.</td>\n",
       "      <td>Kern County</td>\n",
       "      <td>Kern</td>\n",
       "      <td>35.398052</td>\n",
       "      <td>-118.859688</td>\n",
       "      <td>mip</td>\n",
       "      <td>N</td>\n",
       "      <td>CanceledOG</td>\n",
       "    </tr>\n",
       "    <tr>\n",
       "      <th>7</th>\n",
       "      <td>Southern Pacific</td>\n",
       "      <td>Southern Pacific 10H</td>\n",
       "      <td>Idle</td>\n",
       "      <td>OG</td>\n",
       "      <td>Oil &amp; Gas</td>\n",
       "      <td>California Resources Production Corporation</td>\n",
       "      <td>Kern County</td>\n",
       "      <td>Kern</td>\n",
       "      <td>35.402748</td>\n",
       "      <td>-118.857201</td>\n",
       "      <td>GPS</td>\n",
       "      <td>N</td>\n",
       "      <td>IdleOG</td>\n",
       "    </tr>\n",
       "    <tr>\n",
       "      <th>8</th>\n",
       "      <td>Siegfus</td>\n",
       "      <td>Siegfus 122</td>\n",
       "      <td>Idle</td>\n",
       "      <td>OG</td>\n",
       "      <td>Oil &amp; Gas</td>\n",
       "      <td>California Resources Production Corporation</td>\n",
       "      <td>Kern County</td>\n",
       "      <td>Kern</td>\n",
       "      <td>35.397060</td>\n",
       "      <td>-118.860001</td>\n",
       "      <td>GPS</td>\n",
       "      <td>N</td>\n",
       "      <td>IdleOG</td>\n",
       "    </tr>\n",
       "    <tr>\n",
       "      <th>9</th>\n",
       "      <td>Siegfus</td>\n",
       "      <td>Siegfus 1H</td>\n",
       "      <td>Idle</td>\n",
       "      <td>OG</td>\n",
       "      <td>Oil &amp; Gas</td>\n",
       "      <td>California Resources Production Corporation</td>\n",
       "      <td>Kern County</td>\n",
       "      <td>Kern</td>\n",
       "      <td>35.393887</td>\n",
       "      <td>-118.860725</td>\n",
       "      <td>GPS</td>\n",
       "      <td>N</td>\n",
       "      <td>IdleOG</td>\n",
       "    </tr>\n",
       "  </tbody>\n",
       "</table>\n",
       "</div>"
      ],
      "text/plain": [
       "                            LeaseName            WellDesign WellStatus  \\\n",
       "0                    Southern Pacific  Southern Pacific 11H   Canceled   \n",
       "1                             Siegfus        Siegfus 31X-22   Canceled   \n",
       "2                    Southern Pacific   Southern Pacific 5H   Canceled   \n",
       "3                    Southern Pacific   Southern Pacific 6H   Canceled   \n",
       "4                    Southern Pacific   Southern Pacific 7H   Canceled   \n",
       "5  Lease by Stockdale Oil & Gas, Inc.                  UC75   Canceled   \n",
       "6                             Siegfus         Siegfus USC-2   Canceled   \n",
       "7                    Southern Pacific  Southern Pacific 10H       Idle   \n",
       "8                             Siegfus           Siegfus 122       Idle   \n",
       "9                             Siegfus            Siegfus 1H       Idle   \n",
       "\n",
       "  WellType WellTypeLa                                   OperatorNa  \\\n",
       "0       OG  Oil & Gas  California Resources Production Corporation   \n",
       "1       OG  Oil & Gas  California Resources Production Corporation   \n",
       "2       OG  Oil & Gas                    Stockdale Oil & Gas, Inc.   \n",
       "3       OG  Oil & Gas                    Stockdale Oil & Gas, Inc.   \n",
       "4       OG  Oil & Gas                    Stockdale Oil & Gas, Inc.   \n",
       "5       OG  Oil & Gas                    Stockdale Oil & Gas, Inc.   \n",
       "6       OG  Oil & Gas                    Stockdale Oil & Gas, Inc.   \n",
       "7       OG  Oil & Gas  California Resources Production Corporation   \n",
       "8       OG  Oil & Gas  California Resources Production Corporation   \n",
       "9       OG  Oil & Gas  California Resources Production Corporation   \n",
       "\n",
       "         Place CountyName   Latitude   Longitude GISSource isDirectio  \\\n",
       "0  Kern County       Kern  35.401291 -118.860405  Operator          N   \n",
       "1  Kern County       Kern  35.397495 -118.855888  Operator          N   \n",
       "2  Kern County       Kern  35.404583 -118.850471       mip          N   \n",
       "3  Kern County       Kern  35.403610 -118.849937       mip          N   \n",
       "4  Kern County       Kern  35.405106 -118.856483       mip          N   \n",
       "5  Bakersfield       Kern  35.397018 -118.863434       mip          N   \n",
       "6  Kern County       Kern  35.398052 -118.859688       mip          N   \n",
       "7  Kern County       Kern  35.402748 -118.857201       GPS          N   \n",
       "8  Kern County       Kern  35.397060 -118.860001       GPS          N   \n",
       "9  Kern County       Kern  35.393887 -118.860725       GPS          N   \n",
       "\n",
       "   WellSymbol  \n",
       "0  CanceledOG  \n",
       "1  CanceledOG  \n",
       "2  CanceledOG  \n",
       "3  CanceledOG  \n",
       "4  CanceledOG  \n",
       "5  CanceledOG  \n",
       "6  CanceledOG  \n",
       "7      IdleOG  \n",
       "8      IdleOG  \n",
       "9      IdleOG  "
      ]
     },
     "execution_count": 4,
     "metadata": {},
     "output_type": "execute_result"
    }
   ],
   "source": [
    "oil = pd.read_csv('data/kern_county_oil.csv')\n",
    "oil.head(10)"
   ]
  },
  {
   "cell_type": "code",
   "execution_count": 5,
   "id": "2075bcab-1491-46e8-a99b-25052351609d",
   "metadata": {},
   "outputs": [
    {
     "data": {
      "text/plain": [
       "['LeaseName',\n",
       " 'WellDesign',\n",
       " 'WellStatus',\n",
       " 'WellType',\n",
       " 'WellTypeLa',\n",
       " 'OperatorNa',\n",
       " 'Place',\n",
       " 'CountyName',\n",
       " 'Latitude',\n",
       " 'Longitude',\n",
       " 'GISSource',\n",
       " 'isDirectio',\n",
       " 'WellSymbol']"
      ]
     },
     "execution_count": 5,
     "metadata": {},
     "output_type": "execute_result"
    }
   ],
   "source": [
    "oil.columns.to_list()"
   ]
  },
  {
   "cell_type": "markdown",
   "id": "62eff838-e4eb-452b-9c28-a43335d3adc4",
   "metadata": {},
   "source": [
    "I start subsetting the data such that it is easier to work and also captures only oil & gas wells and excludes the cancelled category for well status. Additionally, to plot a stacked bar graph I subset each well status value and create a value count and merge it back to the original data set. "
   ]
  },
  {
   "cell_type": "code",
   "execution_count": 6,
   "id": "39e9d61c-52e0-4077-b173-30bb2555e4ca",
   "metadata": {},
   "outputs": [
    {
     "data": {
      "text/html": [
       "<div>\n",
       "<style scoped>\n",
       "    .dataframe tbody tr th:only-of-type {\n",
       "        vertical-align: middle;\n",
       "    }\n",
       "\n",
       "    .dataframe tbody tr th {\n",
       "        vertical-align: top;\n",
       "    }\n",
       "\n",
       "    .dataframe thead th {\n",
       "        text-align: right;\n",
       "    }\n",
       "</style>\n",
       "<table border=\"1\" class=\"dataframe\">\n",
       "  <thead>\n",
       "    <tr style=\"text-align: right;\">\n",
       "      <th></th>\n",
       "      <th>WellStatus</th>\n",
       "      <th>OperatorNa</th>\n",
       "      <th>WellTypeLa</th>\n",
       "      <th>Latitude</th>\n",
       "      <th>Longitude</th>\n",
       "      <th>WellSymbol</th>\n",
       "    </tr>\n",
       "  </thead>\n",
       "  <tbody>\n",
       "    <tr>\n",
       "      <th>0</th>\n",
       "      <td>Canceled</td>\n",
       "      <td>California Resources Production Corporation</td>\n",
       "      <td>Oil &amp; Gas</td>\n",
       "      <td>35.401291</td>\n",
       "      <td>-118.860405</td>\n",
       "      <td>CanceledOG</td>\n",
       "    </tr>\n",
       "    <tr>\n",
       "      <th>1</th>\n",
       "      <td>Canceled</td>\n",
       "      <td>California Resources Production Corporation</td>\n",
       "      <td>Oil &amp; Gas</td>\n",
       "      <td>35.397495</td>\n",
       "      <td>-118.855888</td>\n",
       "      <td>CanceledOG</td>\n",
       "    </tr>\n",
       "    <tr>\n",
       "      <th>2</th>\n",
       "      <td>Canceled</td>\n",
       "      <td>Stockdale Oil &amp; Gas, Inc.</td>\n",
       "      <td>Oil &amp; Gas</td>\n",
       "      <td>35.404583</td>\n",
       "      <td>-118.850471</td>\n",
       "      <td>CanceledOG</td>\n",
       "    </tr>\n",
       "    <tr>\n",
       "      <th>3</th>\n",
       "      <td>Canceled</td>\n",
       "      <td>Stockdale Oil &amp; Gas, Inc.</td>\n",
       "      <td>Oil &amp; Gas</td>\n",
       "      <td>35.403610</td>\n",
       "      <td>-118.849937</td>\n",
       "      <td>CanceledOG</td>\n",
       "    </tr>\n",
       "    <tr>\n",
       "      <th>4</th>\n",
       "      <td>Canceled</td>\n",
       "      <td>Stockdale Oil &amp; Gas, Inc.</td>\n",
       "      <td>Oil &amp; Gas</td>\n",
       "      <td>35.405106</td>\n",
       "      <td>-118.856483</td>\n",
       "      <td>CanceledOG</td>\n",
       "    </tr>\n",
       "  </tbody>\n",
       "</table>\n",
       "</div>"
      ],
      "text/plain": [
       "  WellStatus                                   OperatorNa WellTypeLa  \\\n",
       "0   Canceled  California Resources Production Corporation  Oil & Gas   \n",
       "1   Canceled  California Resources Production Corporation  Oil & Gas   \n",
       "2   Canceled                    Stockdale Oil & Gas, Inc.  Oil & Gas   \n",
       "3   Canceled                    Stockdale Oil & Gas, Inc.  Oil & Gas   \n",
       "4   Canceled                    Stockdale Oil & Gas, Inc.  Oil & Gas   \n",
       "\n",
       "    Latitude   Longitude  WellSymbol  \n",
       "0  35.401291 -118.860405  CanceledOG  \n",
       "1  35.397495 -118.855888  CanceledOG  \n",
       "2  35.404583 -118.850471  CanceledOG  \n",
       "3  35.403610 -118.849937  CanceledOG  \n",
       "4  35.405106 -118.856483  CanceledOG  "
      ]
     },
     "execution_count": 6,
     "metadata": {},
     "output_type": "execute_result"
    }
   ],
   "source": [
    "oilsubset = oil[['WellStatus', 'OperatorNa', 'WellTypeLa','Latitude','Longitude','WellSymbol']]\n",
    "oilsubset.head()"
   ]
  },
  {
   "cell_type": "code",
   "execution_count": 8,
   "id": "e84a14db-4c14-4d0c-9906-b11b577abf46",
   "metadata": {},
   "outputs": [],
   "source": [
    "oilsubset = oilsubset[oilsubset.WellStatus != 'Canceled']\n"
   ]
  },
  {
   "cell_type": "code",
   "execution_count": 9,
   "id": "2105b1ec-0ea7-41fe-b442-c9862e3fc8f1",
   "metadata": {},
   "outputs": [],
   "source": [
    "oilsubset = oilsubset.loc[oilsubset['WellTypeLa'] == 'Oil & Gas'] #subsets to just oil and gas data"
   ]
  },
  {
   "cell_type": "code",
   "execution_count": 10,
   "id": "d45e4936-5f7d-40f7-9268-9364801d37ac",
   "metadata": {},
   "outputs": [
    {
     "data": {
      "text/html": [
       "<div>\n",
       "<style scoped>\n",
       "    .dataframe tbody tr th:only-of-type {\n",
       "        vertical-align: middle;\n",
       "    }\n",
       "\n",
       "    .dataframe tbody tr th {\n",
       "        vertical-align: top;\n",
       "    }\n",
       "\n",
       "    .dataframe thead th {\n",
       "        text-align: right;\n",
       "    }\n",
       "</style>\n",
       "<table border=\"1\" class=\"dataframe\">\n",
       "  <thead>\n",
       "    <tr style=\"text-align: right;\">\n",
       "      <th></th>\n",
       "      <th>WellStatus</th>\n",
       "      <th>count_status</th>\n",
       "    </tr>\n",
       "  </thead>\n",
       "  <tbody>\n",
       "    <tr>\n",
       "      <th>0</th>\n",
       "      <td>Plugged</td>\n",
       "      <td>55058</td>\n",
       "    </tr>\n",
       "    <tr>\n",
       "      <th>1</th>\n",
       "      <td>Active</td>\n",
       "      <td>23491</td>\n",
       "    </tr>\n",
       "    <tr>\n",
       "      <th>2</th>\n",
       "      <td>Idle</td>\n",
       "      <td>16718</td>\n",
       "    </tr>\n",
       "    <tr>\n",
       "      <th>3</th>\n",
       "      <td>New</td>\n",
       "      <td>1337</td>\n",
       "    </tr>\n",
       "    <tr>\n",
       "      <th>4</th>\n",
       "      <td>PluggedOnly</td>\n",
       "      <td>102</td>\n",
       "    </tr>\n",
       "    <tr>\n",
       "      <th>5</th>\n",
       "      <td>Unknown</td>\n",
       "      <td>21</td>\n",
       "    </tr>\n",
       "  </tbody>\n",
       "</table>\n",
       "</div>"
      ],
      "text/plain": [
       "    WellStatus  count_status\n",
       "0      Plugged         55058\n",
       "1       Active         23491\n",
       "2         Idle         16718\n",
       "3          New          1337\n",
       "4  PluggedOnly           102\n",
       "5      Unknown            21"
      ]
     },
     "execution_count": 10,
     "metadata": {},
     "output_type": "execute_result"
    }
   ],
   "source": [
    "well_count = oilsubset.value_counts(['WellStatus']).reset_index(name=\"count_status\")\n",
    "well_count"
   ]
  },
  {
   "cell_type": "code",
   "execution_count": 11,
   "id": "f3280793-be99-46ca-b8a4-b4cc0cb65f26",
   "metadata": {},
   "outputs": [
    {
     "data": {
      "text/html": [
       "<div>\n",
       "<style scoped>\n",
       "    .dataframe tbody tr th:only-of-type {\n",
       "        vertical-align: middle;\n",
       "    }\n",
       "\n",
       "    .dataframe tbody tr th {\n",
       "        vertical-align: top;\n",
       "    }\n",
       "\n",
       "    .dataframe thead th {\n",
       "        text-align: right;\n",
       "    }\n",
       "</style>\n",
       "<table border=\"1\" class=\"dataframe\">\n",
       "  <thead>\n",
       "    <tr style=\"text-align: right;\">\n",
       "      <th></th>\n",
       "      <th>OperatorNa</th>\n",
       "      <th>count_wells</th>\n",
       "    </tr>\n",
       "  </thead>\n",
       "  <tbody>\n",
       "    <tr>\n",
       "      <th>0</th>\n",
       "      <td>Aera Energy LLC</td>\n",
       "      <td>34998</td>\n",
       "    </tr>\n",
       "    <tr>\n",
       "      <th>1</th>\n",
       "      <td>Chevron U.S.A. Inc.</td>\n",
       "      <td>20336</td>\n",
       "    </tr>\n",
       "    <tr>\n",
       "      <th>2</th>\n",
       "      <td>California Resources Elk Hills, LLC</td>\n",
       "      <td>8673</td>\n",
       "    </tr>\n",
       "    <tr>\n",
       "      <th>3</th>\n",
       "      <td>Berry Petroleum Company, LLC</td>\n",
       "      <td>5618</td>\n",
       "    </tr>\n",
       "    <tr>\n",
       "      <th>4</th>\n",
       "      <td>California Resources Production Corporation</td>\n",
       "      <td>5493</td>\n",
       "    </tr>\n",
       "    <tr>\n",
       "      <th>...</th>\n",
       "      <td>...</td>\n",
       "      <td>...</td>\n",
       "    </tr>\n",
       "    <tr>\n",
       "      <th>1498</th>\n",
       "      <td>Agey Petroleum Company</td>\n",
       "      <td>1</td>\n",
       "    </tr>\n",
       "    <tr>\n",
       "      <th>1499</th>\n",
       "      <td>Elmer C. Von Glahn</td>\n",
       "      <td>1</td>\n",
       "    </tr>\n",
       "    <tr>\n",
       "      <th>1500</th>\n",
       "      <td>National Iron Works, Oil Division</td>\n",
       "      <td>1</td>\n",
       "    </tr>\n",
       "    <tr>\n",
       "      <th>1501</th>\n",
       "      <td>National Oil Co.</td>\n",
       "      <td>1</td>\n",
       "    </tr>\n",
       "    <tr>\n",
       "      <th>1502</th>\n",
       "      <td>Anterra Services Inc.</td>\n",
       "      <td>1</td>\n",
       "    </tr>\n",
       "  </tbody>\n",
       "</table>\n",
       "<p>1503 rows × 2 columns</p>\n",
       "</div>"
      ],
      "text/plain": [
       "                                       OperatorNa  count_wells\n",
       "0                                 Aera Energy LLC        34998\n",
       "1                             Chevron U.S.A. Inc.        20336\n",
       "2             California Resources Elk Hills, LLC         8673\n",
       "3                    Berry Petroleum Company, LLC         5618\n",
       "4     California Resources Production Corporation         5493\n",
       "...                                           ...          ...\n",
       "1498                       Agey Petroleum Company            1\n",
       "1499                           Elmer C. Von Glahn            1\n",
       "1500            National Iron Works, Oil Division            1\n",
       "1501                             National Oil Co.            1\n",
       "1502                        Anterra Services Inc.            1\n",
       "\n",
       "[1503 rows x 2 columns]"
      ]
     },
     "execution_count": 11,
     "metadata": {},
     "output_type": "execute_result"
    }
   ],
   "source": [
    "operator_count = oilsubset.value_counts(['OperatorNa']).reset_index(name=\"count_wells\")\n",
    "operator_count"
   ]
  },
  {
   "cell_type": "code",
   "execution_count": 13,
   "id": "27f4b9c9-3f14-4910-bd36-98882a957e5c",
   "metadata": {},
   "outputs": [
    {
     "data": {
      "text/html": [
       "<div>\n",
       "<style scoped>\n",
       "    .dataframe tbody tr th:only-of-type {\n",
       "        vertical-align: middle;\n",
       "    }\n",
       "\n",
       "    .dataframe tbody tr th {\n",
       "        vertical-align: top;\n",
       "    }\n",
       "\n",
       "    .dataframe thead th {\n",
       "        text-align: right;\n",
       "    }\n",
       "</style>\n",
       "<table border=\"1\" class=\"dataframe\">\n",
       "  <thead>\n",
       "    <tr style=\"text-align: right;\">\n",
       "      <th></th>\n",
       "      <th>WellStatus</th>\n",
       "      <th>OperatorNa</th>\n",
       "      <th>WellTypeLa</th>\n",
       "      <th>Latitude</th>\n",
       "      <th>Longitude</th>\n",
       "      <th>WellSymbol</th>\n",
       "      <th>count_wells</th>\n",
       "    </tr>\n",
       "  </thead>\n",
       "  <tbody>\n",
       "    <tr>\n",
       "      <th>0</th>\n",
       "      <td>Idle</td>\n",
       "      <td>Aera Energy LLC</td>\n",
       "      <td>Oil &amp; Gas</td>\n",
       "      <td>35.614941</td>\n",
       "      <td>-119.616722</td>\n",
       "      <td>IdleOG</td>\n",
       "      <td>34998</td>\n",
       "    </tr>\n",
       "    <tr>\n",
       "      <th>1</th>\n",
       "      <td>Idle</td>\n",
       "      <td>Aera Energy LLC</td>\n",
       "      <td>Oil &amp; Gas</td>\n",
       "      <td>35.614777</td>\n",
       "      <td>-119.616730</td>\n",
       "      <td>IdleOG</td>\n",
       "      <td>34998</td>\n",
       "    </tr>\n",
       "    <tr>\n",
       "      <th>2</th>\n",
       "      <td>Idle</td>\n",
       "      <td>Aera Energy LLC</td>\n",
       "      <td>Oil &amp; Gas</td>\n",
       "      <td>35.542637</td>\n",
       "      <td>-119.700081</td>\n",
       "      <td>IdleOG</td>\n",
       "      <td>34998</td>\n",
       "    </tr>\n",
       "    <tr>\n",
       "      <th>3</th>\n",
       "      <td>Idle</td>\n",
       "      <td>Aera Energy LLC</td>\n",
       "      <td>Oil &amp; Gas</td>\n",
       "      <td>35.510620</td>\n",
       "      <td>-119.725693</td>\n",
       "      <td>IdleOG</td>\n",
       "      <td>34998</td>\n",
       "    </tr>\n",
       "    <tr>\n",
       "      <th>4</th>\n",
       "      <td>Plugged</td>\n",
       "      <td>Aera Energy LLC</td>\n",
       "      <td>Oil &amp; Gas</td>\n",
       "      <td>35.460857</td>\n",
       "      <td>-119.688995</td>\n",
       "      <td>PluggedOG</td>\n",
       "      <td>34998</td>\n",
       "    </tr>\n",
       "  </tbody>\n",
       "</table>\n",
       "</div>"
      ],
      "text/plain": [
       "  WellStatus       OperatorNa WellTypeLa   Latitude   Longitude WellSymbol  \\\n",
       "0       Idle  Aera Energy LLC  Oil & Gas  35.614941 -119.616722     IdleOG   \n",
       "1       Idle  Aera Energy LLC  Oil & Gas  35.614777 -119.616730     IdleOG   \n",
       "2       Idle  Aera Energy LLC  Oil & Gas  35.542637 -119.700081     IdleOG   \n",
       "3       Idle  Aera Energy LLC  Oil & Gas  35.510620 -119.725693     IdleOG   \n",
       "4    Plugged  Aera Energy LLC  Oil & Gas  35.460857 -119.688995  PluggedOG   \n",
       "\n",
       "   count_wells  \n",
       "0        34998  \n",
       "1        34998  \n",
       "2        34998  \n",
       "3        34998  \n",
       "4        34998  "
      ]
     },
     "execution_count": 13,
     "metadata": {},
     "output_type": "execute_result"
    }
   ],
   "source": [
    "oilsubset = oilsubset.merge(operator_count, how='right')\n",
    "oilsubset.head(5)\n",
    "#not sure why I am getting so many columns of count x and count y "
   ]
  },
  {
   "cell_type": "code",
   "execution_count": 15,
   "id": "b96e7cf1-19b5-4eaa-9e65-0e5463290054",
   "metadata": {},
   "outputs": [
    {
     "data": {
      "text/plain": [
       "(96727, 7)"
      ]
     },
     "execution_count": 15,
     "metadata": {},
     "output_type": "execute_result"
    }
   ],
   "source": [
    "oilsubset.shape"
   ]
  },
  {
   "cell_type": "code",
   "execution_count": 16,
   "id": "f82546a4-1d1a-49ef-8c60-354f899f9357",
   "metadata": {},
   "outputs": [
    {
     "data": {
      "application/vnd.plotly.v1+json": {
       "config": {
        "plotlyServerURL": "https://plot.ly"
       },
       "data": [
        {
         "alignmentgroup": "True",
         "hovertemplate": "Oil & Gas Operator=%{x}<br>Number of wells=%{y}<extra></extra>",
         "legendgroup": "",
         "marker": {
          "color": "slategray",
          "pattern": {
           "shape": ""
          }
         },
         "name": "",
         "offsetgroup": "",
         "orientation": "v",
         "showlegend": false,
         "textfont": {
          "color": "#444",
          "size": 10
         },
         "textposition": "outside",
         "texttemplate": "%{y}",
         "type": "bar",
         "x": [
          "Aera Energy LLC",
          "Chevron U.S.A. Inc.",
          "California Resources Elk Hills, LLC",
          "Berry Petroleum Company, LLC",
          "California Resources Production Corporation"
         ],
         "xaxis": "x",
         "y": [
          34998,
          20336,
          8673,
          5618,
          5493
         ],
         "yaxis": "y"
        }
       ],
       "layout": {
        "barmode": "relative",
        "height": 600,
        "legend": {
         "tracegroupgap": 0
        },
        "template": {
         "data": {
          "bar": [
           {
            "error_x": {
             "color": "#2a3f5f"
            },
            "error_y": {
             "color": "#2a3f5f"
            },
            "marker": {
             "line": {
              "color": "#E5ECF6",
              "width": 0.5
             },
             "pattern": {
              "fillmode": "overlay",
              "size": 10,
              "solidity": 0.2
             }
            },
            "type": "bar"
           }
          ],
          "barpolar": [
           {
            "marker": {
             "line": {
              "color": "#E5ECF6",
              "width": 0.5
             },
             "pattern": {
              "fillmode": "overlay",
              "size": 10,
              "solidity": 0.2
             }
            },
            "type": "barpolar"
           }
          ],
          "carpet": [
           {
            "aaxis": {
             "endlinecolor": "#2a3f5f",
             "gridcolor": "white",
             "linecolor": "white",
             "minorgridcolor": "white",
             "startlinecolor": "#2a3f5f"
            },
            "baxis": {
             "endlinecolor": "#2a3f5f",
             "gridcolor": "white",
             "linecolor": "white",
             "minorgridcolor": "white",
             "startlinecolor": "#2a3f5f"
            },
            "type": "carpet"
           }
          ],
          "choropleth": [
           {
            "colorbar": {
             "outlinewidth": 0,
             "ticks": ""
            },
            "type": "choropleth"
           }
          ],
          "contour": [
           {
            "colorbar": {
             "outlinewidth": 0,
             "ticks": ""
            },
            "colorscale": [
             [
              0,
              "#0d0887"
             ],
             [
              0.1111111111111111,
              "#46039f"
             ],
             [
              0.2222222222222222,
              "#7201a8"
             ],
             [
              0.3333333333333333,
              "#9c179e"
             ],
             [
              0.4444444444444444,
              "#bd3786"
             ],
             [
              0.5555555555555556,
              "#d8576b"
             ],
             [
              0.6666666666666666,
              "#ed7953"
             ],
             [
              0.7777777777777778,
              "#fb9f3a"
             ],
             [
              0.8888888888888888,
              "#fdca26"
             ],
             [
              1,
              "#f0f921"
             ]
            ],
            "type": "contour"
           }
          ],
          "contourcarpet": [
           {
            "colorbar": {
             "outlinewidth": 0,
             "ticks": ""
            },
            "type": "contourcarpet"
           }
          ],
          "heatmap": [
           {
            "colorbar": {
             "outlinewidth": 0,
             "ticks": ""
            },
            "colorscale": [
             [
              0,
              "#0d0887"
             ],
             [
              0.1111111111111111,
              "#46039f"
             ],
             [
              0.2222222222222222,
              "#7201a8"
             ],
             [
              0.3333333333333333,
              "#9c179e"
             ],
             [
              0.4444444444444444,
              "#bd3786"
             ],
             [
              0.5555555555555556,
              "#d8576b"
             ],
             [
              0.6666666666666666,
              "#ed7953"
             ],
             [
              0.7777777777777778,
              "#fb9f3a"
             ],
             [
              0.8888888888888888,
              "#fdca26"
             ],
             [
              1,
              "#f0f921"
             ]
            ],
            "type": "heatmap"
           }
          ],
          "heatmapgl": [
           {
            "colorbar": {
             "outlinewidth": 0,
             "ticks": ""
            },
            "colorscale": [
             [
              0,
              "#0d0887"
             ],
             [
              0.1111111111111111,
              "#46039f"
             ],
             [
              0.2222222222222222,
              "#7201a8"
             ],
             [
              0.3333333333333333,
              "#9c179e"
             ],
             [
              0.4444444444444444,
              "#bd3786"
             ],
             [
              0.5555555555555556,
              "#d8576b"
             ],
             [
              0.6666666666666666,
              "#ed7953"
             ],
             [
              0.7777777777777778,
              "#fb9f3a"
             ],
             [
              0.8888888888888888,
              "#fdca26"
             ],
             [
              1,
              "#f0f921"
             ]
            ],
            "type": "heatmapgl"
           }
          ],
          "histogram": [
           {
            "marker": {
             "pattern": {
              "fillmode": "overlay",
              "size": 10,
              "solidity": 0.2
             }
            },
            "type": "histogram"
           }
          ],
          "histogram2d": [
           {
            "colorbar": {
             "outlinewidth": 0,
             "ticks": ""
            },
            "colorscale": [
             [
              0,
              "#0d0887"
             ],
             [
              0.1111111111111111,
              "#46039f"
             ],
             [
              0.2222222222222222,
              "#7201a8"
             ],
             [
              0.3333333333333333,
              "#9c179e"
             ],
             [
              0.4444444444444444,
              "#bd3786"
             ],
             [
              0.5555555555555556,
              "#d8576b"
             ],
             [
              0.6666666666666666,
              "#ed7953"
             ],
             [
              0.7777777777777778,
              "#fb9f3a"
             ],
             [
              0.8888888888888888,
              "#fdca26"
             ],
             [
              1,
              "#f0f921"
             ]
            ],
            "type": "histogram2d"
           }
          ],
          "histogram2dcontour": [
           {
            "colorbar": {
             "outlinewidth": 0,
             "ticks": ""
            },
            "colorscale": [
             [
              0,
              "#0d0887"
             ],
             [
              0.1111111111111111,
              "#46039f"
             ],
             [
              0.2222222222222222,
              "#7201a8"
             ],
             [
              0.3333333333333333,
              "#9c179e"
             ],
             [
              0.4444444444444444,
              "#bd3786"
             ],
             [
              0.5555555555555556,
              "#d8576b"
             ],
             [
              0.6666666666666666,
              "#ed7953"
             ],
             [
              0.7777777777777778,
              "#fb9f3a"
             ],
             [
              0.8888888888888888,
              "#fdca26"
             ],
             [
              1,
              "#f0f921"
             ]
            ],
            "type": "histogram2dcontour"
           }
          ],
          "mesh3d": [
           {
            "colorbar": {
             "outlinewidth": 0,
             "ticks": ""
            },
            "type": "mesh3d"
           }
          ],
          "parcoords": [
           {
            "line": {
             "colorbar": {
              "outlinewidth": 0,
              "ticks": ""
             }
            },
            "type": "parcoords"
           }
          ],
          "pie": [
           {
            "automargin": true,
            "type": "pie"
           }
          ],
          "scatter": [
           {
            "fillpattern": {
             "fillmode": "overlay",
             "size": 10,
             "solidity": 0.2
            },
            "type": "scatter"
           }
          ],
          "scatter3d": [
           {
            "line": {
             "colorbar": {
              "outlinewidth": 0,
              "ticks": ""
             }
            },
            "marker": {
             "colorbar": {
              "outlinewidth": 0,
              "ticks": ""
             }
            },
            "type": "scatter3d"
           }
          ],
          "scattercarpet": [
           {
            "marker": {
             "colorbar": {
              "outlinewidth": 0,
              "ticks": ""
             }
            },
            "type": "scattercarpet"
           }
          ],
          "scattergeo": [
           {
            "marker": {
             "colorbar": {
              "outlinewidth": 0,
              "ticks": ""
             }
            },
            "type": "scattergeo"
           }
          ],
          "scattergl": [
           {
            "marker": {
             "colorbar": {
              "outlinewidth": 0,
              "ticks": ""
             }
            },
            "type": "scattergl"
           }
          ],
          "scattermapbox": [
           {
            "marker": {
             "colorbar": {
              "outlinewidth": 0,
              "ticks": ""
             }
            },
            "type": "scattermapbox"
           }
          ],
          "scatterpolar": [
           {
            "marker": {
             "colorbar": {
              "outlinewidth": 0,
              "ticks": ""
             }
            },
            "type": "scatterpolar"
           }
          ],
          "scatterpolargl": [
           {
            "marker": {
             "colorbar": {
              "outlinewidth": 0,
              "ticks": ""
             }
            },
            "type": "scatterpolargl"
           }
          ],
          "scatterternary": [
           {
            "marker": {
             "colorbar": {
              "outlinewidth": 0,
              "ticks": ""
             }
            },
            "type": "scatterternary"
           }
          ],
          "surface": [
           {
            "colorbar": {
             "outlinewidth": 0,
             "ticks": ""
            },
            "colorscale": [
             [
              0,
              "#0d0887"
             ],
             [
              0.1111111111111111,
              "#46039f"
             ],
             [
              0.2222222222222222,
              "#7201a8"
             ],
             [
              0.3333333333333333,
              "#9c179e"
             ],
             [
              0.4444444444444444,
              "#bd3786"
             ],
             [
              0.5555555555555556,
              "#d8576b"
             ],
             [
              0.6666666666666666,
              "#ed7953"
             ],
             [
              0.7777777777777778,
              "#fb9f3a"
             ],
             [
              0.8888888888888888,
              "#fdca26"
             ],
             [
              1,
              "#f0f921"
             ]
            ],
            "type": "surface"
           }
          ],
          "table": [
           {
            "cells": {
             "fill": {
              "color": "#EBF0F8"
             },
             "line": {
              "color": "white"
             }
            },
            "header": {
             "fill": {
              "color": "#C8D4E3"
             },
             "line": {
              "color": "white"
             }
            },
            "type": "table"
           }
          ]
         },
         "layout": {
          "annotationdefaults": {
           "arrowcolor": "#2a3f5f",
           "arrowhead": 0,
           "arrowwidth": 1
          },
          "autotypenumbers": "strict",
          "coloraxis": {
           "colorbar": {
            "outlinewidth": 0,
            "ticks": ""
           }
          },
          "colorscale": {
           "diverging": [
            [
             0,
             "#8e0152"
            ],
            [
             0.1,
             "#c51b7d"
            ],
            [
             0.2,
             "#de77ae"
            ],
            [
             0.3,
             "#f1b6da"
            ],
            [
             0.4,
             "#fde0ef"
            ],
            [
             0.5,
             "#f7f7f7"
            ],
            [
             0.6,
             "#e6f5d0"
            ],
            [
             0.7,
             "#b8e186"
            ],
            [
             0.8,
             "#7fbc41"
            ],
            [
             0.9,
             "#4d9221"
            ],
            [
             1,
             "#276419"
            ]
           ],
           "sequential": [
            [
             0,
             "#0d0887"
            ],
            [
             0.1111111111111111,
             "#46039f"
            ],
            [
             0.2222222222222222,
             "#7201a8"
            ],
            [
             0.3333333333333333,
             "#9c179e"
            ],
            [
             0.4444444444444444,
             "#bd3786"
            ],
            [
             0.5555555555555556,
             "#d8576b"
            ],
            [
             0.6666666666666666,
             "#ed7953"
            ],
            [
             0.7777777777777778,
             "#fb9f3a"
            ],
            [
             0.8888888888888888,
             "#fdca26"
            ],
            [
             1,
             "#f0f921"
            ]
           ],
           "sequentialminus": [
            [
             0,
             "#0d0887"
            ],
            [
             0.1111111111111111,
             "#46039f"
            ],
            [
             0.2222222222222222,
             "#7201a8"
            ],
            [
             0.3333333333333333,
             "#9c179e"
            ],
            [
             0.4444444444444444,
             "#bd3786"
            ],
            [
             0.5555555555555556,
             "#d8576b"
            ],
            [
             0.6666666666666666,
             "#ed7953"
            ],
            [
             0.7777777777777778,
             "#fb9f3a"
            ],
            [
             0.8888888888888888,
             "#fdca26"
            ],
            [
             1,
             "#f0f921"
            ]
           ]
          },
          "colorway": [
           "#636efa",
           "#EF553B",
           "#00cc96",
           "#ab63fa",
           "#FFA15A",
           "#19d3f3",
           "#FF6692",
           "#B6E880",
           "#FF97FF",
           "#FECB52"
          ],
          "font": {
           "color": "#2a3f5f"
          },
          "geo": {
           "bgcolor": "white",
           "lakecolor": "white",
           "landcolor": "#E5ECF6",
           "showlakes": true,
           "showland": true,
           "subunitcolor": "white"
          },
          "hoverlabel": {
           "align": "left"
          },
          "hovermode": "closest",
          "mapbox": {
           "style": "light"
          },
          "paper_bgcolor": "white",
          "plot_bgcolor": "#E5ECF6",
          "polar": {
           "angularaxis": {
            "gridcolor": "white",
            "linecolor": "white",
            "ticks": ""
           },
           "bgcolor": "#E5ECF6",
           "radialaxis": {
            "gridcolor": "white",
            "linecolor": "white",
            "ticks": ""
           }
          },
          "scene": {
           "xaxis": {
            "backgroundcolor": "#E5ECF6",
            "gridcolor": "white",
            "gridwidth": 2,
            "linecolor": "white",
            "showbackground": true,
            "ticks": "",
            "zerolinecolor": "white"
           },
           "yaxis": {
            "backgroundcolor": "#E5ECF6",
            "gridcolor": "white",
            "gridwidth": 2,
            "linecolor": "white",
            "showbackground": true,
            "ticks": "",
            "zerolinecolor": "white"
           },
           "zaxis": {
            "backgroundcolor": "#E5ECF6",
            "gridcolor": "white",
            "gridwidth": 2,
            "linecolor": "white",
            "showbackground": true,
            "ticks": "",
            "zerolinecolor": "white"
           }
          },
          "shapedefaults": {
           "line": {
            "color": "#2a3f5f"
           }
          },
          "ternary": {
           "aaxis": {
            "gridcolor": "white",
            "linecolor": "white",
            "ticks": ""
           },
           "baxis": {
            "gridcolor": "white",
            "linecolor": "white",
            "ticks": ""
           },
           "bgcolor": "#E5ECF6",
           "caxis": {
            "gridcolor": "white",
            "linecolor": "white",
            "ticks": ""
           }
          },
          "title": {
           "x": 0.05
          },
          "xaxis": {
           "automargin": true,
           "gridcolor": "white",
           "linecolor": "white",
           "ticks": "",
           "title": {
            "standoff": 15
           },
           "zerolinecolor": "white",
           "zerolinewidth": 2
          },
          "yaxis": {
           "automargin": true,
           "gridcolor": "white",
           "linecolor": "white",
           "ticks": "",
           "title": {
            "standoff": 15
           },
           "zerolinecolor": "white",
           "zerolinewidth": 2
          }
         }
        },
        "title": {
         "text": "Oil & Gas Wells by Ownership in Kern County"
        },
        "width": 900,
        "xaxis": {
         "anchor": "y",
         "autorange": true,
         "domain": [
          0,
          1
         ],
         "range": [
          -0.5,
          4.5
         ],
         "tickfont": {
          "color": "#aaa",
          "size": 9
         },
         "title": {
          "font": {
           "color": "#aaa",
           "size": 10
          },
          "text": "Oil & Gas Operator"
         },
         "type": "category"
        },
        "yaxis": {
         "anchor": "x",
         "autorange": true,
         "domain": [
          0,
          1
         ],
         "range": [
          0,
          36840
         ],
         "tickfont": {
          "color": "#aaa",
          "size": 9
         },
         "title": {
          "font": {
           "color": "#aaa",
           "size": 12
          },
          "text": "Number of wells"
         },
         "type": "linear"
        }
       }
      },
      "image/png": "[encoded data removed]",
      "text/html": [
       "<div>                            <div id=\"1160b2c7-b0fe-49e0-b68d-1da7e60d62e0\" class=\"plotly-graph-div\" style=\"height:600px; width:900px;\"></div>            <script type=\"text/javascript\">                require([\"plotly\"], function(Plotly) {                    window.PLOTLYENV=window.PLOTLYENV || {};                                    if (document.getElementById(\"1160b2c7-b0fe-49e0-b68d-1da7e60d62e0\")) {                    Plotly.newPlot(                        \"1160b2c7-b0fe-49e0-b68d-1da7e60d62e0\",                        [{\"alignmentgroup\":\"True\",\"hovertemplate\":\"Oil & Gas Operator=%{x}<br>Number of wells=%{y}<extra></extra>\",\"legendgroup\":\"\",\"marker\":{\"color\":\"slategray\",\"pattern\":{\"shape\":\"\"}},\"name\":\"\",\"offsetgroup\":\"\",\"orientation\":\"v\",\"showlegend\":false,\"textposition\":\"outside\",\"texttemplate\":\"%{y}\",\"x\":[\"Aera Energy LLC\",\"Chevron U.S.A. Inc.\",\"California Resources Elk Hills, LLC\",\"Berry Petroleum Company, LLC\",\"California Resources Production Corporation\"],\"xaxis\":\"x\",\"y\":[34998,20336,8673,5618,5493],\"yaxis\":\"y\",\"type\":\"bar\",\"textfont\":{\"color\":\"#444\",\"size\":10}}],                        {\"template\":{\"data\":{\"histogram2dcontour\":[{\"type\":\"histogram2dcontour\",\"colorbar\":{\"outlinewidth\":0,\"ticks\":\"\"},\"colorscale\":[[0.0,\"#0d0887\"],[0.1111111111111111,\"#46039f\"],[0.2222222222222222,\"#7201a8\"],[0.3333333333333333,\"#9c179e\"],[0.4444444444444444,\"#bd3786\"],[0.5555555555555556,\"#d8576b\"],[0.6666666666666666,\"#ed7953\"],[0.7777777777777778,\"#fb9f3a\"],[0.8888888888888888,\"#fdca26\"],[1.0,\"#f0f921\"]]}],\"choropleth\":[{\"type\":\"choropleth\",\"colorbar\":{\"outlinewidth\":0,\"ticks\":\"\"}}],\"histogram2d\":[{\"type\":\"histogram2d\",\"colorbar\":{\"outlinewidth\":0,\"ticks\":\"\"},\"colorscale\":[[0.0,\"#0d0887\"],[0.1111111111111111,\"#46039f\"],[0.2222222222222222,\"#7201a8\"],[0.3333333333333333,\"#9c179e\"],[0.4444444444444444,\"#bd3786\"],[0.5555555555555556,\"#d8576b\"],[0.6666666666666666,\"#ed7953\"],[0.7777777777777778,\"#fb9f3a\"],[0.8888888888888888,\"#fdca26\"],[1.0,\"#f0f921\"]]}],\"heatmap\":[{\"type\":\"heatmap\",\"colorbar\":{\"outlinewidth\":0,\"ticks\":\"\"},\"colorscale\":[[0.0,\"#0d0887\"],[0.1111111111111111,\"#46039f\"],[0.2222222222222222,\"#7201a8\"],[0.3333333333333333,\"#9c179e\"],[0.4444444444444444,\"#bd3786\"],[0.5555555555555556,\"#d8576b\"],[0.6666666666666666,\"#ed7953\"],[0.7777777777777778,\"#fb9f3a\"],[0.8888888888888888,\"#fdca26\"],[1.0,\"#f0f921\"]]}],\"heatmapgl\":[{\"type\":\"heatmapgl\",\"colorbar\":{\"outlinewidth\":0,\"ticks\":\"\"},\"colorscale\":[[0.0,\"#0d0887\"],[0.1111111111111111,\"#46039f\"],[0.2222222222222222,\"#7201a8\"],[0.3333333333333333,\"#9c179e\"],[0.4444444444444444,\"#bd3786\"],[0.5555555555555556,\"#d8576b\"],[0.6666666666666666,\"#ed7953\"],[0.7777777777777778,\"#fb9f3a\"],[0.8888888888888888,\"#fdca26\"],[1.0,\"#f0f921\"]]}],\"contourcarpet\":[{\"type\":\"contourcarpet\",\"colorbar\":{\"outlinewidth\":0,\"ticks\":\"\"}}],\"contour\":[{\"type\":\"contour\",\"colorbar\":{\"outlinewidth\":0,\"ticks\":\"\"},\"colorscale\":[[0.0,\"#0d0887\"],[0.1111111111111111,\"#46039f\"],[0.2222222222222222,\"#7201a8\"],[0.3333333333333333,\"#9c179e\"],[0.4444444444444444,\"#bd3786\"],[0.5555555555555556,\"#d8576b\"],[0.6666666666666666,\"#ed7953\"],[0.7777777777777778,\"#fb9f3a\"],[0.8888888888888888,\"#fdca26\"],[1.0,\"#f0f921\"]]}],\"surface\":[{\"type\":\"surface\",\"colorbar\":{\"outlinewidth\":0,\"ticks\":\"\"},\"colorscale\":[[0.0,\"#0d0887\"],[0.1111111111111111,\"#46039f\"],[0.2222222222222222,\"#7201a8\"],[0.3333333333333333,\"#9c179e\"],[0.4444444444444444,\"#bd3786\"],[0.5555555555555556,\"#d8576b\"],[0.6666666666666666,\"#ed7953\"],[0.7777777777777778,\"#fb9f3a\"],[0.8888888888888888,\"#fdca26\"],[1.0,\"#f0f921\"]]}],\"mesh3d\":[{\"type\":\"mesh3d\",\"colorbar\":{\"outlinewidth\":0,\"ticks\":\"\"}}],\"scatter\":[{\"fillpattern\":{\"fillmode\":\"overlay\",\"size\":10,\"solidity\":0.2},\"type\":\"scatter\"}],\"parcoords\":[{\"type\":\"parcoords\",\"line\":{\"colorbar\":{\"outlinewidth\":0,\"ticks\":\"\"}}}],\"scatterpolargl\":[{\"type\":\"scatterpolargl\",\"marker\":{\"colorbar\":{\"outlinewidth\":0,\"ticks\":\"\"}}}],\"bar\":[{\"error_x\":{\"color\":\"#2a3f5f\"},\"error_y\":{\"color\":\"#2a3f5f\"},\"marker\":{\"line\":{\"color\":\"#E5ECF6\",\"width\":0.5},\"pattern\":{\"fillmode\":\"overlay\",\"size\":10,\"solidity\":0.2}},\"type\":\"bar\"}],\"scattergeo\":[{\"type\":\"scattergeo\",\"marker\":{\"colorbar\":{\"outlinewidth\":0,\"ticks\":\"\"}}}],\"scatterpolar\":[{\"type\":\"scatterpolar\",\"marker\":{\"colorbar\":{\"outlinewidth\":0,\"ticks\":\"\"}}}],\"histogram\":[{\"marker\":{\"pattern\":{\"fillmode\":\"overlay\",\"size\":10,\"solidity\":0.2}},\"type\":\"histogram\"}],\"scattergl\":[{\"type\":\"scattergl\",\"marker\":{\"colorbar\":{\"outlinewidth\":0,\"ticks\":\"\"}}}],\"scatter3d\":[{\"type\":\"scatter3d\",\"line\":{\"colorbar\":{\"outlinewidth\":0,\"ticks\":\"\"}},\"marker\":{\"colorbar\":{\"outlinewidth\":0,\"ticks\":\"\"}}}],\"scattermapbox\":[{\"type\":\"scattermapbox\",\"marker\":{\"colorbar\":{\"outlinewidth\":0,\"ticks\":\"\"}}}],\"scatterternary\":[{\"type\":\"scatterternary\",\"marker\":{\"colorbar\":{\"outlinewidth\":0,\"ticks\":\"\"}}}],\"scattercarpet\":[{\"type\":\"scattercarpet\",\"marker\":{\"colorbar\":{\"outlinewidth\":0,\"ticks\":\"\"}}}],\"carpet\":[{\"aaxis\":{\"endlinecolor\":\"#2a3f5f\",\"gridcolor\":\"white\",\"linecolor\":\"white\",\"minorgridcolor\":\"white\",\"startlinecolor\":\"#2a3f5f\"},\"baxis\":{\"endlinecolor\":\"#2a3f5f\",\"gridcolor\":\"white\",\"linecolor\":\"white\",\"minorgridcolor\":\"white\",\"startlinecolor\":\"#2a3f5f\"},\"type\":\"carpet\"}],\"table\":[{\"cells\":{\"fill\":{\"color\":\"#EBF0F8\"},\"line\":{\"color\":\"white\"}},\"header\":{\"fill\":{\"color\":\"#C8D4E3\"},\"line\":{\"color\":\"white\"}},\"type\":\"table\"}],\"barpolar\":[{\"marker\":{\"line\":{\"color\":\"#E5ECF6\",\"width\":0.5},\"pattern\":{\"fillmode\":\"overlay\",\"size\":10,\"solidity\":0.2}},\"type\":\"barpolar\"}],\"pie\":[{\"automargin\":true,\"type\":\"pie\"}]},\"layout\":{\"autotypenumbers\":\"strict\",\"colorway\":[\"#636efa\",\"#EF553B\",\"#00cc96\",\"#ab63fa\",\"#FFA15A\",\"#19d3f3\",\"#FF6692\",\"#B6E880\",\"#FF97FF\",\"#FECB52\"],\"font\":{\"color\":\"#2a3f5f\"},\"hovermode\":\"closest\",\"hoverlabel\":{\"align\":\"left\"},\"paper_bgcolor\":\"white\",\"plot_bgcolor\":\"#E5ECF6\",\"polar\":{\"bgcolor\":\"#E5ECF6\",\"angularaxis\":{\"gridcolor\":\"white\",\"linecolor\":\"white\",\"ticks\":\"\"},\"radialaxis\":{\"gridcolor\":\"white\",\"linecolor\":\"white\",\"ticks\":\"\"}},\"ternary\":{\"bgcolor\":\"#E5ECF6\",\"aaxis\":{\"gridcolor\":\"white\",\"linecolor\":\"white\",\"ticks\":\"\"},\"baxis\":{\"gridcolor\":\"white\",\"linecolor\":\"white\",\"ticks\":\"\"},\"caxis\":{\"gridcolor\":\"white\",\"linecolor\":\"white\",\"ticks\":\"\"}},\"coloraxis\":{\"colorbar\":{\"outlinewidth\":0,\"ticks\":\"\"}},\"colorscale\":{\"sequential\":[[0.0,\"#0d0887\"],[0.1111111111111111,\"#46039f\"],[0.2222222222222222,\"#7201a8\"],[0.3333333333333333,\"#9c179e\"],[0.4444444444444444,\"#bd3786\"],[0.5555555555555556,\"#d8576b\"],[0.6666666666666666,\"#ed7953\"],[0.7777777777777778,\"#fb9f3a\"],[0.8888888888888888,\"#fdca26\"],[1.0,\"#f0f921\"]],\"sequentialminus\":[[0.0,\"#0d0887\"],[0.1111111111111111,\"#46039f\"],[0.2222222222222222,\"#7201a8\"],[0.3333333333333333,\"#9c179e\"],[0.4444444444444444,\"#bd3786\"],[0.5555555555555556,\"#d8576b\"],[0.6666666666666666,\"#ed7953\"],[0.7777777777777778,\"#fb9f3a\"],[0.8888888888888888,\"#fdca26\"],[1.0,\"#f0f921\"]],\"diverging\":[[0,\"#8e0152\"],[0.1,\"#c51b7d\"],[0.2,\"#de77ae\"],[0.3,\"#f1b6da\"],[0.4,\"#fde0ef\"],[0.5,\"#f7f7f7\"],[0.6,\"#e6f5d0\"],[0.7,\"#b8e186\"],[0.8,\"#7fbc41\"],[0.9,\"#4d9221\"],[1,\"#276419\"]]},\"xaxis\":{\"gridcolor\":\"white\",\"linecolor\":\"white\",\"ticks\":\"\",\"title\":{\"standoff\":15},\"zerolinecolor\":\"white\",\"automargin\":true,\"zerolinewidth\":2},\"yaxis\":{\"gridcolor\":\"white\",\"linecolor\":\"white\",\"ticks\":\"\",\"title\":{\"standoff\":15},\"zerolinecolor\":\"white\",\"automargin\":true,\"zerolinewidth\":2},\"scene\":{\"xaxis\":{\"backgroundcolor\":\"#E5ECF6\",\"gridcolor\":\"white\",\"linecolor\":\"white\",\"showbackground\":true,\"ticks\":\"\",\"zerolinecolor\":\"white\",\"gridwidth\":2},\"yaxis\":{\"backgroundcolor\":\"#E5ECF6\",\"gridcolor\":\"white\",\"linecolor\":\"white\",\"showbackground\":true,\"ticks\":\"\",\"zerolinecolor\":\"white\",\"gridwidth\":2},\"zaxis\":{\"backgroundcolor\":\"#E5ECF6\",\"gridcolor\":\"white\",\"linecolor\":\"white\",\"showbackground\":true,\"ticks\":\"\",\"zerolinecolor\":\"white\",\"gridwidth\":2}},\"shapedefaults\":{\"line\":{\"color\":\"#2a3f5f\"}},\"annotationdefaults\":{\"arrowcolor\":\"#2a3f5f\",\"arrowhead\":0,\"arrowwidth\":1},\"geo\":{\"bgcolor\":\"white\",\"landcolor\":\"#E5ECF6\",\"subunitcolor\":\"white\",\"showland\":true,\"showlakes\":true,\"lakecolor\":\"white\"},\"title\":{\"x\":0.05},\"mapbox\":{\"style\":\"light\"}}},\"xaxis\":{\"anchor\":\"y\",\"domain\":[0.0,1.0],\"title\":{\"text\":\"Oil & Gas Operator\",\"font\":{\"size\":10,\"color\":\"#aaa\"}},\"tickfont\":{\"color\":\"#aaa\",\"size\":9}},\"yaxis\":{\"anchor\":\"x\",\"domain\":[0.0,1.0],\"title\":{\"text\":\"Number of wells\",\"font\":{\"size\":12,\"color\":\"#aaa\"}},\"tickfont\":{\"color\":\"#aaa\",\"size\":9}},\"legend\":{\"tracegroupgap\":0},\"title\":{\"text\":\"Oil & Gas Wells by Ownership in Kern County\"},\"barmode\":\"relative\",\"height\":600,\"width\":900},                        {\"responsive\": true}                    ).then(function(){\n",
       "                            \n",
       "var gd = document.getElementById('1160b2c7-b0fe-49e0-b68d-1da7e60d62e0');\n",
       "var x = new MutationObserver(function (mutations, observer) {{\n",
       "        var display = window.getComputedStyle(gd).display;\n",
       "        if (!display || display === 'none') {{\n",
       "            console.log([gd, 'removed!']);\n",
       "            Plotly.purge(gd);\n",
       "            observer.disconnect();\n",
       "        }}\n",
       "}});\n",
       "\n",
       "// Listen for the removal of the full notebook cells\n",
       "var notebookContainer = gd.closest('#notebook-container');\n",
       "if (notebookContainer) {{\n",
       "    x.observe(notebookContainer, {childList: true});\n",
       "}}\n",
       "\n",
       "// Listen for the clearing of the current output cell\n",
       "var outputEl = gd.closest('.output');\n",
       "if (outputEl) {{\n",
       "    x.observe(outputEl, {childList: true});\n",
       "}}\n",
       "\n",
       "                        })                };                });            </script>        </div>"
      ]
     },
     "metadata": {},
     "output_type": "display_data"
    }
   ],
   "source": [
    "# bar chart\n",
    "fig = px.bar(operator_count.head(5),\n",
    "        x='OperatorNa',\n",
    "        y='count_wells',\n",
    "        title=\"Oil & Gas Wells by Ownership in Kern County\", # title\n",
    "        text_auto = True,\n",
    "        height=600,\n",
    "        width=900,\n",
    "        color_discrete_sequence =['slategray']*len(operator_count), # single color for all the bars\n",
    "        labels={'count_wells': 'Number of wells','OperatorNa': 'Oil & Gas Operator'})\n",
    "# bar label\n",
    "fig.update_traces(textposition='outside',textfont_size=10,textfont_color='#444')\n",
    "# axes labels\n",
    "fig.update_yaxes(title_font_size=12,title_font_color='#aaa',tickfont_color='#aaa',tickfont_size=9)\n",
    "fig.update_xaxes(title_font_size=10,title_font_color='#aaa',tickfont_color='#aaa',tickfont_size=9)\n",
    "# show the figure\n",
    "fig.show()"
   ]
  },
  {
   "cell_type": "code",
   "execution_count": 17,
   "id": "09efdfd2-dc0f-4fcb-9031-99648040c3d4",
   "metadata": {},
   "outputs": [
    {
     "data": {
      "text/html": [
       "<div>\n",
       "<style scoped>\n",
       "    .dataframe tbody tr th:only-of-type {\n",
       "        vertical-align: middle;\n",
       "    }\n",
       "\n",
       "    .dataframe tbody tr th {\n",
       "        vertical-align: top;\n",
       "    }\n",
       "\n",
       "    .dataframe thead th {\n",
       "        text-align: right;\n",
       "    }\n",
       "</style>\n",
       "<table border=\"1\" class=\"dataframe\">\n",
       "  <thead>\n",
       "    <tr style=\"text-align: right;\">\n",
       "      <th></th>\n",
       "      <th>WellStatus</th>\n",
       "      <th>OperatorNa</th>\n",
       "      <th>WellTypeLa</th>\n",
       "      <th>Latitude</th>\n",
       "      <th>Longitude</th>\n",
       "      <th>WellSymbol</th>\n",
       "      <th>count_wells</th>\n",
       "    </tr>\n",
       "  </thead>\n",
       "  <tbody>\n",
       "    <tr>\n",
       "      <th>75593</th>\n",
       "      <td>Idle</td>\n",
       "      <td>Sentinel Peak Resources California LLC</td>\n",
       "      <td>Oil &amp; Gas</td>\n",
       "      <td>35.353035</td>\n",
       "      <td>-119.659676</td>\n",
       "      <td>IdleOG</td>\n",
       "      <td>4864</td>\n",
       "    </tr>\n",
       "    <tr>\n",
       "      <th>64995</th>\n",
       "      <td>Idle</td>\n",
       "      <td>Berry Petroleum Company, LLC</td>\n",
       "      <td>Oil &amp; Gas</td>\n",
       "      <td>35.308006</td>\n",
       "      <td>-119.617996</td>\n",
       "      <td>IdleOG</td>\n",
       "      <td>5618</td>\n",
       "    </tr>\n",
       "    <tr>\n",
       "      <th>83119</th>\n",
       "      <td>Idle</td>\n",
       "      <td>Holmes Western Oil Corporation</td>\n",
       "      <td>Oil &amp; Gas</td>\n",
       "      <td>35.393990</td>\n",
       "      <td>-119.719040</td>\n",
       "      <td>IdleOG</td>\n",
       "      <td>1030</td>\n",
       "    </tr>\n",
       "    <tr>\n",
       "      <th>59572</th>\n",
       "      <td>Idle</td>\n",
       "      <td>California Resources Elk Hills, LLC</td>\n",
       "      <td>Oil &amp; Gas</td>\n",
       "      <td>35.261467</td>\n",
       "      <td>-119.379639</td>\n",
       "      <td>IdleOG</td>\n",
       "      <td>8673</td>\n",
       "    </tr>\n",
       "    <tr>\n",
       "      <th>70620</th>\n",
       "      <td>Idle</td>\n",
       "      <td>California Resources Production Corporation</td>\n",
       "      <td>Oil &amp; Gas</td>\n",
       "      <td>35.479076</td>\n",
       "      <td>-119.056457</td>\n",
       "      <td>IdleOG</td>\n",
       "      <td>5493</td>\n",
       "    </tr>\n",
       "  </tbody>\n",
       "</table>\n",
       "</div>"
      ],
      "text/plain": [
       "      WellStatus                                   OperatorNa WellTypeLa  \\\n",
       "75593       Idle       Sentinel Peak Resources California LLC  Oil & Gas   \n",
       "64995       Idle                 Berry Petroleum Company, LLC  Oil & Gas   \n",
       "83119       Idle               Holmes Western Oil Corporation  Oil & Gas   \n",
       "59572       Idle          California Resources Elk Hills, LLC  Oil & Gas   \n",
       "70620       Idle  California Resources Production Corporation  Oil & Gas   \n",
       "\n",
       "        Latitude   Longitude WellSymbol  count_wells  \n",
       "75593  35.353035 -119.659676     IdleOG         4864  \n",
       "64995  35.308006 -119.617996     IdleOG         5618  \n",
       "83119  35.393990 -119.719040     IdleOG         1030  \n",
       "59572  35.261467 -119.379639     IdleOG         8673  \n",
       "70620  35.479076 -119.056457     IdleOG         5493  "
      ]
     },
     "execution_count": 17,
     "metadata": {},
     "output_type": "execute_result"
    }
   ],
   "source": [
    "#need to merge operator_count back to original gdf to get Well Status column again \n",
    "operator_count_idle = oilsubset.loc[oilsubset['WellStatus'] == 'Idle']\n",
    "operator_count_idle.sample(5)"
   ]
  },
  {
   "cell_type": "code",
   "execution_count": 18,
   "id": "9ff671a3-77a8-4aa4-86cd-313bb77a201d",
   "metadata": {},
   "outputs": [],
   "source": [
    "operator_count_plugged = oilsubset.loc[oilsubset['WellStatus'] == 'Plugged']\n"
   ]
  },
  {
   "cell_type": "code",
   "execution_count": 25,
   "id": "c887df32-b5b7-49e6-9215-72414159993a",
   "metadata": {},
   "outputs": [
    {
     "data": {
      "text/html": [
       "<div>\n",
       "<style scoped>\n",
       "    .dataframe tbody tr th:only-of-type {\n",
       "        vertical-align: middle;\n",
       "    }\n",
       "\n",
       "    .dataframe tbody tr th {\n",
       "        vertical-align: top;\n",
       "    }\n",
       "\n",
       "    .dataframe thead th {\n",
       "        text-align: right;\n",
       "    }\n",
       "</style>\n",
       "<table border=\"1\" class=\"dataframe\">\n",
       "  <thead>\n",
       "    <tr style=\"text-align: right;\">\n",
       "      <th></th>\n",
       "      <th>WellStatus</th>\n",
       "      <th>OperatorNa</th>\n",
       "      <th>WellTypeLa</th>\n",
       "      <th>Latitude</th>\n",
       "      <th>Longitude</th>\n",
       "      <th>WellSymbol</th>\n",
       "      <th>count_wells</th>\n",
       "    </tr>\n",
       "  </thead>\n",
       "  <tbody>\n",
       "    <tr>\n",
       "      <th>63254</th>\n",
       "      <td>New</td>\n",
       "      <td>California Resources Elk Hills, LLC</td>\n",
       "      <td>Oil &amp; Gas</td>\n",
       "      <td>35.316884</td>\n",
       "      <td>-119.508737</td>\n",
       "      <td>NewOG</td>\n",
       "      <td>8673</td>\n",
       "    </tr>\n",
       "    <tr>\n",
       "      <th>68650</th>\n",
       "      <td>New</td>\n",
       "      <td>Berry Petroleum Company, LLC</td>\n",
       "      <td>Oil &amp; Gas</td>\n",
       "      <td>35.250636</td>\n",
       "      <td>-119.579334</td>\n",
       "      <td>NewOG</td>\n",
       "      <td>5618</td>\n",
       "    </tr>\n",
       "    <tr>\n",
       "      <th>63273</th>\n",
       "      <td>New</td>\n",
       "      <td>California Resources Elk Hills, LLC</td>\n",
       "      <td>Oil &amp; Gas</td>\n",
       "      <td>35.276598</td>\n",
       "      <td>-119.347280</td>\n",
       "      <td>NewOG</td>\n",
       "      <td>8673</td>\n",
       "    </tr>\n",
       "    <tr>\n",
       "      <th>2083</th>\n",
       "      <td>New</td>\n",
       "      <td>Aera Energy LLC</td>\n",
       "      <td>Oil &amp; Gas</td>\n",
       "      <td>35.515787</td>\n",
       "      <td>-119.767968</td>\n",
       "      <td>NewOG</td>\n",
       "      <td>34998</td>\n",
       "    </tr>\n",
       "    <tr>\n",
       "      <th>69276</th>\n",
       "      <td>New</td>\n",
       "      <td>Berry Petroleum Company, LLC</td>\n",
       "      <td>Oil &amp; Gas</td>\n",
       "      <td>35.076706</td>\n",
       "      <td>-119.386587</td>\n",
       "      <td>NewOG</td>\n",
       "      <td>5618</td>\n",
       "    </tr>\n",
       "  </tbody>\n",
       "</table>\n",
       "</div>"
      ],
      "text/plain": [
       "      WellStatus                           OperatorNa WellTypeLa   Latitude  \\\n",
       "63254        New  California Resources Elk Hills, LLC  Oil & Gas  35.316884   \n",
       "68650        New         Berry Petroleum Company, LLC  Oil & Gas  35.250636   \n",
       "63273        New  California Resources Elk Hills, LLC  Oil & Gas  35.276598   \n",
       "2083         New                      Aera Energy LLC  Oil & Gas  35.515787   \n",
       "69276        New         Berry Petroleum Company, LLC  Oil & Gas  35.076706   \n",
       "\n",
       "        Longitude WellSymbol  count_wells  \n",
       "63254 -119.508737      NewOG         8673  \n",
       "68650 -119.579334      NewOG         5618  \n",
       "63273 -119.347280      NewOG         8673  \n",
       "2083  -119.767968      NewOG        34998  \n",
       "69276 -119.386587      NewOG         5618  "
      ]
     },
     "execution_count": 25,
     "metadata": {},
     "output_type": "execute_result"
    }
   ],
   "source": [
    "operator_count_new = oilsubset.loc[oilsubset['WellStatus'] == 'New']\n",
    "operator_count_new.sample(5)"
   ]
  },
  {
   "cell_type": "code",
   "execution_count": 20,
   "id": "b633a13d-f3f4-41db-93f2-5912169fcd54",
   "metadata": {},
   "outputs": [],
   "source": [
    "operator_count_pluggedo = oilsubset.loc[oilsubset['WellStatus'] == 'PluggedOnly']\n"
   ]
  },
  {
   "cell_type": "code",
   "execution_count": 23,
   "id": "9071ee93-e832-4a2d-a701-ce9b1494196d",
   "metadata": {},
   "outputs": [
    {
     "data": {
      "text/html": [
       "<div>\n",
       "<style scoped>\n",
       "    .dataframe tbody tr th:only-of-type {\n",
       "        vertical-align: middle;\n",
       "    }\n",
       "\n",
       "    .dataframe tbody tr th {\n",
       "        vertical-align: top;\n",
       "    }\n",
       "\n",
       "    .dataframe thead th {\n",
       "        text-align: right;\n",
       "    }\n",
       "</style>\n",
       "<table border=\"1\" class=\"dataframe\">\n",
       "  <thead>\n",
       "    <tr style=\"text-align: right;\">\n",
       "      <th></th>\n",
       "      <th>WellStatus</th>\n",
       "      <th>OperatorNa</th>\n",
       "      <th>WellTypeLa</th>\n",
       "      <th>Latitude</th>\n",
       "      <th>Longitude</th>\n",
       "      <th>WellSymbol</th>\n",
       "      <th>count_wells</th>\n",
       "    </tr>\n",
       "  </thead>\n",
       "  <tbody>\n",
       "    <tr>\n",
       "      <th>6226</th>\n",
       "      <td>Active</td>\n",
       "      <td>Aera Energy LLC</td>\n",
       "      <td>Oil &amp; Gas</td>\n",
       "      <td>35.498627</td>\n",
       "      <td>-119.763342</td>\n",
       "      <td>ActiveOG</td>\n",
       "      <td>34998</td>\n",
       "    </tr>\n",
       "    <tr>\n",
       "      <th>24007</th>\n",
       "      <td>Active</td>\n",
       "      <td>Aera Energy LLC</td>\n",
       "      <td>Oil &amp; Gas</td>\n",
       "      <td>35.673145</td>\n",
       "      <td>-119.773376</td>\n",
       "      <td>ActiveOG</td>\n",
       "      <td>34998</td>\n",
       "    </tr>\n",
       "    <tr>\n",
       "      <th>30276</th>\n",
       "      <td>Active</td>\n",
       "      <td>Aera Energy LLC</td>\n",
       "      <td>Oil &amp; Gas</td>\n",
       "      <td>35.079044</td>\n",
       "      <td>-119.416328</td>\n",
       "      <td>ActiveOG</td>\n",
       "      <td>34998</td>\n",
       "    </tr>\n",
       "    <tr>\n",
       "      <th>6758</th>\n",
       "      <td>Active</td>\n",
       "      <td>Aera Energy LLC</td>\n",
       "      <td>Oil &amp; Gas</td>\n",
       "      <td>35.438278</td>\n",
       "      <td>-119.711197</td>\n",
       "      <td>ActiveOG</td>\n",
       "      <td>34998</td>\n",
       "    </tr>\n",
       "    <tr>\n",
       "      <th>71391</th>\n",
       "      <td>Active</td>\n",
       "      <td>California Resources Production Corporation</td>\n",
       "      <td>Oil &amp; Gas</td>\n",
       "      <td>35.478283</td>\n",
       "      <td>-119.050964</td>\n",
       "      <td>ActiveOG</td>\n",
       "      <td>5493</td>\n",
       "    </tr>\n",
       "  </tbody>\n",
       "</table>\n",
       "</div>"
      ],
      "text/plain": [
       "      WellStatus                                   OperatorNa WellTypeLa  \\\n",
       "6226      Active                              Aera Energy LLC  Oil & Gas   \n",
       "24007     Active                              Aera Energy LLC  Oil & Gas   \n",
       "30276     Active                              Aera Energy LLC  Oil & Gas   \n",
       "6758      Active                              Aera Energy LLC  Oil & Gas   \n",
       "71391     Active  California Resources Production Corporation  Oil & Gas   \n",
       "\n",
       "        Latitude   Longitude WellSymbol  count_wells  \n",
       "6226   35.498627 -119.763342   ActiveOG        34998  \n",
       "24007  35.673145 -119.773376   ActiveOG        34998  \n",
       "30276  35.079044 -119.416328   ActiveOG        34998  \n",
       "6758   35.438278 -119.711197   ActiveOG        34998  \n",
       "71391  35.478283 -119.050964   ActiveOG         5493  "
      ]
     },
     "execution_count": 23,
     "metadata": {},
     "output_type": "execute_result"
    }
   ],
   "source": [
    "operator_count_active = oilsubset.loc[oilsubset['WellStatus'] == 'Active']\n",
    "operator_count_active.sample(5)"
   ]
  },
  {
   "cell_type": "code",
   "execution_count": 19,
   "id": "19044ed4-2045-45b2-a18a-df4f98995aea",
   "metadata": {},
   "outputs": [
    {
     "data": {
      "text/html": [
       "<div>\n",
       "<style scoped>\n",
       "    .dataframe tbody tr th:only-of-type {\n",
       "        vertical-align: middle;\n",
       "    }\n",
       "\n",
       "    .dataframe tbody tr th {\n",
       "        vertical-align: top;\n",
       "    }\n",
       "\n",
       "    .dataframe thead th {\n",
       "        text-align: right;\n",
       "    }\n",
       "</style>\n",
       "<table border=\"1\" class=\"dataframe\">\n",
       "  <thead>\n",
       "    <tr style=\"text-align: right;\">\n",
       "      <th></th>\n",
       "      <th>OperatorNa</th>\n",
       "      <th>plugged</th>\n",
       "    </tr>\n",
       "  </thead>\n",
       "  <tbody>\n",
       "    <tr>\n",
       "      <th>0</th>\n",
       "      <td>Aera Energy LLC</td>\n",
       "      <td>21089</td>\n",
       "    </tr>\n",
       "    <tr>\n",
       "      <th>1</th>\n",
       "      <td>Chevron U.S.A. Inc.</td>\n",
       "      <td>15657</td>\n",
       "    </tr>\n",
       "    <tr>\n",
       "      <th>2</th>\n",
       "      <td>Berry Petroleum Company, LLC</td>\n",
       "      <td>2348</td>\n",
       "    </tr>\n",
       "    <tr>\n",
       "      <th>3</th>\n",
       "      <td>California Resources Elk Hills, LLC</td>\n",
       "      <td>2345</td>\n",
       "    </tr>\n",
       "    <tr>\n",
       "      <th>4</th>\n",
       "      <td>Sentinel Peak Resources California LLC</td>\n",
       "      <td>2052</td>\n",
       "    </tr>\n",
       "    <tr>\n",
       "      <th>...</th>\n",
       "      <td>...</td>\n",
       "      <td>...</td>\n",
       "    </tr>\n",
       "    <tr>\n",
       "      <th>1420</th>\n",
       "      <td>E. T. Willard</td>\n",
       "      <td>1</td>\n",
       "    </tr>\n",
       "    <tr>\n",
       "      <th>1421</th>\n",
       "      <td>Moriqui Exploration Co.</td>\n",
       "      <td>1</td>\n",
       "    </tr>\n",
       "    <tr>\n",
       "      <th>1422</th>\n",
       "      <td>Morrell's Electro-Plating, Inc.</td>\n",
       "      <td>1</td>\n",
       "    </tr>\n",
       "    <tr>\n",
       "      <th>1423</th>\n",
       "      <td>Morris Berman and Associates</td>\n",
       "      <td>1</td>\n",
       "    </tr>\n",
       "    <tr>\n",
       "      <th>1424</th>\n",
       "      <td>Zynergy, LLC</td>\n",
       "      <td>1</td>\n",
       "    </tr>\n",
       "  </tbody>\n",
       "</table>\n",
       "<p>1425 rows × 2 columns</p>\n",
       "</div>"
      ],
      "text/plain": [
       "                                  OperatorNa  plugged\n",
       "0                            Aera Energy LLC    21089\n",
       "1                        Chevron U.S.A. Inc.    15657\n",
       "2               Berry Petroleum Company, LLC     2348\n",
       "3        California Resources Elk Hills, LLC     2345\n",
       "4     Sentinel Peak Resources California LLC     2052\n",
       "...                                      ...      ...\n",
       "1420                           E. T. Willard        1\n",
       "1421                 Moriqui Exploration Co.        1\n",
       "1422         Morrell's Electro-Plating, Inc.        1\n",
       "1423            Morris Berman and Associates        1\n",
       "1424                            Zynergy, LLC        1\n",
       "\n",
       "[1425 rows x 2 columns]"
      ]
     },
     "execution_count": 19,
     "metadata": {},
     "output_type": "execute_result"
    }
   ],
   "source": [
    "operator_count_plugged = operator_count_plugged.value_counts(['OperatorNa']).reset_index(name=\"plugged\")\n",
    "operator_count_plugged"
   ]
  },
  {
   "cell_type": "code",
   "execution_count": 21,
   "id": "ec8cb3b8-a729-44e7-9c35-3100dc078aa0",
   "metadata": {},
   "outputs": [
    {
     "data": {
      "text/html": [
       "<div>\n",
       "<style scoped>\n",
       "    .dataframe tbody tr th:only-of-type {\n",
       "        vertical-align: middle;\n",
       "    }\n",
       "\n",
       "    .dataframe tbody tr th {\n",
       "        vertical-align: top;\n",
       "    }\n",
       "\n",
       "    .dataframe thead th {\n",
       "        text-align: right;\n",
       "    }\n",
       "</style>\n",
       "<table border=\"1\" class=\"dataframe\">\n",
       "  <thead>\n",
       "    <tr style=\"text-align: right;\">\n",
       "      <th></th>\n",
       "      <th>OperatorNa</th>\n",
       "      <th>pluggedonly</th>\n",
       "    </tr>\n",
       "  </thead>\n",
       "  <tbody>\n",
       "    <tr>\n",
       "      <th>0</th>\n",
       "      <td>Aera Energy LLC</td>\n",
       "      <td>96</td>\n",
       "    </tr>\n",
       "    <tr>\n",
       "      <th>1</th>\n",
       "      <td>Chevron U.S.A. Inc.</td>\n",
       "      <td>3</td>\n",
       "    </tr>\n",
       "    <tr>\n",
       "      <th>2</th>\n",
       "      <td>California Resources Elk Hills, LLC</td>\n",
       "      <td>1</td>\n",
       "    </tr>\n",
       "    <tr>\n",
       "      <th>3</th>\n",
       "      <td>Holmes Western Oil Corporation</td>\n",
       "      <td>1</td>\n",
       "    </tr>\n",
       "    <tr>\n",
       "      <th>4</th>\n",
       "      <td>Sentinel Peak Resources California LLC</td>\n",
       "      <td>1</td>\n",
       "    </tr>\n",
       "  </tbody>\n",
       "</table>\n",
       "</div>"
      ],
      "text/plain": [
       "                               OperatorNa  pluggedonly\n",
       "0                         Aera Energy LLC           96\n",
       "1                     Chevron U.S.A. Inc.            3\n",
       "2     California Resources Elk Hills, LLC            1\n",
       "3          Holmes Western Oil Corporation            1\n",
       "4  Sentinel Peak Resources California LLC            1"
      ]
     },
     "execution_count": 21,
     "metadata": {},
     "output_type": "execute_result"
    }
   ],
   "source": [
    "operator_count_pluggedo = operator_count_pluggedo.value_counts(['OperatorNa']).reset_index(name=\"pluggedonly\")\n",
    "operator_count_pluggedo"
   ]
  },
  {
   "cell_type": "code",
   "execution_count": 22,
   "id": "1ff57bdb-d465-47f8-b5ea-6e9ad7f12802",
   "metadata": {},
   "outputs": [
    {
     "data": {
      "text/html": [
       "<div>\n",
       "<style scoped>\n",
       "    .dataframe tbody tr th:only-of-type {\n",
       "        vertical-align: middle;\n",
       "    }\n",
       "\n",
       "    .dataframe tbody tr th {\n",
       "        vertical-align: top;\n",
       "    }\n",
       "\n",
       "    .dataframe thead th {\n",
       "        text-align: right;\n",
       "    }\n",
       "</style>\n",
       "<table border=\"1\" class=\"dataframe\">\n",
       "  <thead>\n",
       "    <tr style=\"text-align: right;\">\n",
       "      <th></th>\n",
       "      <th>OperatorNa</th>\n",
       "      <th>idle</th>\n",
       "    </tr>\n",
       "  </thead>\n",
       "  <tbody>\n",
       "    <tr>\n",
       "      <th>0</th>\n",
       "      <td>Aera Energy LLC</td>\n",
       "      <td>5213</td>\n",
       "    </tr>\n",
       "    <tr>\n",
       "      <th>1</th>\n",
       "      <td>California Resources Elk Hills, LLC</td>\n",
       "      <td>2305</td>\n",
       "    </tr>\n",
       "    <tr>\n",
       "      <th>2</th>\n",
       "      <td>Chevron U.S.A. Inc.</td>\n",
       "      <td>1830</td>\n",
       "    </tr>\n",
       "    <tr>\n",
       "      <th>3</th>\n",
       "      <td>Berry Petroleum Company, LLC</td>\n",
       "      <td>1677</td>\n",
       "    </tr>\n",
       "    <tr>\n",
       "      <th>4</th>\n",
       "      <td>California Resources Production Corporation</td>\n",
       "      <td>1661</td>\n",
       "    </tr>\n",
       "    <tr>\n",
       "      <th>...</th>\n",
       "      <td>...</td>\n",
       "      <td>...</td>\n",
       "    </tr>\n",
       "    <tr>\n",
       "      <th>143</th>\n",
       "      <td>F. C. Rhodes</td>\n",
       "      <td>1</td>\n",
       "    </tr>\n",
       "    <tr>\n",
       "      <th>144</th>\n",
       "      <td>Shadow Wolf Energy, LLC</td>\n",
       "      <td>1</td>\n",
       "    </tr>\n",
       "    <tr>\n",
       "      <th>145</th>\n",
       "      <td>Shale Hills Dev. Co.</td>\n",
       "      <td>1</td>\n",
       "    </tr>\n",
       "    <tr>\n",
       "      <th>146</th>\n",
       "      <td>B &amp; L Pump &amp; Supply Company</td>\n",
       "      <td>1</td>\n",
       "    </tr>\n",
       "    <tr>\n",
       "      <th>147</th>\n",
       "      <td>NewBridge Resources, LLC</td>\n",
       "      <td>1</td>\n",
       "    </tr>\n",
       "  </tbody>\n",
       "</table>\n",
       "<p>148 rows × 2 columns</p>\n",
       "</div>"
      ],
      "text/plain": [
       "                                      OperatorNa  idle\n",
       "0                                Aera Energy LLC  5213\n",
       "1            California Resources Elk Hills, LLC  2305\n",
       "2                            Chevron U.S.A. Inc.  1830\n",
       "3                   Berry Petroleum Company, LLC  1677\n",
       "4    California Resources Production Corporation  1661\n",
       "..                                           ...   ...\n",
       "143                                 F. C. Rhodes     1\n",
       "144                      Shadow Wolf Energy, LLC     1\n",
       "145                         Shale Hills Dev. Co.     1\n",
       "146                  B & L Pump & Supply Company     1\n",
       "147                     NewBridge Resources, LLC     1\n",
       "\n",
       "[148 rows x 2 columns]"
      ]
     },
     "execution_count": 22,
     "metadata": {},
     "output_type": "execute_result"
    }
   ],
   "source": [
    "#this works sometimes and I have no idea why \n",
    "operator_count_idle = operator_count_idle.value_counts(['OperatorNa']).reset_index(name=\"idle\")\n",
    "operator_count_idle"
   ]
  },
  {
   "cell_type": "code",
   "execution_count": 24,
   "id": "40e1be3f-bd89-4016-b66c-e1a2903e6021",
   "metadata": {},
   "outputs": [
    {
     "data": {
      "text/html": [
       "<div>\n",
       "<style scoped>\n",
       "    .dataframe tbody tr th:only-of-type {\n",
       "        vertical-align: middle;\n",
       "    }\n",
       "\n",
       "    .dataframe tbody tr th {\n",
       "        vertical-align: top;\n",
       "    }\n",
       "\n",
       "    .dataframe thead th {\n",
       "        text-align: right;\n",
       "    }\n",
       "</style>\n",
       "<table border=\"1\" class=\"dataframe\">\n",
       "  <thead>\n",
       "    <tr style=\"text-align: right;\">\n",
       "      <th></th>\n",
       "      <th>OperatorNa</th>\n",
       "      <th>active</th>\n",
       "    </tr>\n",
       "  </thead>\n",
       "  <tbody>\n",
       "    <tr>\n",
       "      <th>0</th>\n",
       "      <td>Aera Energy LLC</td>\n",
       "      <td>8223</td>\n",
       "    </tr>\n",
       "    <tr>\n",
       "      <th>1</th>\n",
       "      <td>California Resources Elk Hills, LLC</td>\n",
       "      <td>3670</td>\n",
       "    </tr>\n",
       "    <tr>\n",
       "      <th>2</th>\n",
       "      <td>Chevron U.S.A. Inc.</td>\n",
       "      <td>2610</td>\n",
       "    </tr>\n",
       "    <tr>\n",
       "      <th>3</th>\n",
       "      <td>Sentinel Peak Resources California LLC</td>\n",
       "      <td>1828</td>\n",
       "    </tr>\n",
       "    <tr>\n",
       "      <th>4</th>\n",
       "      <td>California Resources Production Corporation</td>\n",
       "      <td>1748</td>\n",
       "    </tr>\n",
       "    <tr>\n",
       "      <th>...</th>\n",
       "      <td>...</td>\n",
       "      <td>...</td>\n",
       "    </tr>\n",
       "    <tr>\n",
       "      <th>102</th>\n",
       "      <td>Mountain View Resources, LLC</td>\n",
       "      <td>1</td>\n",
       "    </tr>\n",
       "    <tr>\n",
       "      <th>103</th>\n",
       "      <td>NMT Oil Company, Inc.</td>\n",
       "      <td>1</td>\n",
       "    </tr>\n",
       "    <tr>\n",
       "      <th>104</th>\n",
       "      <td>Edison Beneficial Reuse</td>\n",
       "      <td>1</td>\n",
       "    </tr>\n",
       "    <tr>\n",
       "      <th>105</th>\n",
       "      <td>P. C. Oil Company</td>\n",
       "      <td>1</td>\n",
       "    </tr>\n",
       "    <tr>\n",
       "      <th>106</th>\n",
       "      <td>West Bay Exploration Company</td>\n",
       "      <td>1</td>\n",
       "    </tr>\n",
       "  </tbody>\n",
       "</table>\n",
       "<p>107 rows × 2 columns</p>\n",
       "</div>"
      ],
      "text/plain": [
       "                                      OperatorNa  active\n",
       "0                                Aera Energy LLC    8223\n",
       "1            California Resources Elk Hills, LLC    3670\n",
       "2                            Chevron U.S.A. Inc.    2610\n",
       "3         Sentinel Peak Resources California LLC    1828\n",
       "4    California Resources Production Corporation    1748\n",
       "..                                           ...     ...\n",
       "102                 Mountain View Resources, LLC       1\n",
       "103                        NMT Oil Company, Inc.       1\n",
       "104                      Edison Beneficial Reuse       1\n",
       "105                            P. C. Oil Company       1\n",
       "106                 West Bay Exploration Company       1\n",
       "\n",
       "[107 rows x 2 columns]"
      ]
     },
     "execution_count": 24,
     "metadata": {},
     "output_type": "execute_result"
    }
   ],
   "source": [
    "operator_count_active = operator_count_active.value_counts(['OperatorNa']).reset_index(name=\"active\")\n",
    "operator_count_active"
   ]
  },
  {
   "cell_type": "code",
   "execution_count": 26,
   "id": "02704ddd-c75a-4c53-a077-41a244a0e703",
   "metadata": {},
   "outputs": [
    {
     "data": {
      "text/html": [
       "<div>\n",
       "<style scoped>\n",
       "    .dataframe tbody tr th:only-of-type {\n",
       "        vertical-align: middle;\n",
       "    }\n",
       "\n",
       "    .dataframe tbody tr th {\n",
       "        vertical-align: top;\n",
       "    }\n",
       "\n",
       "    .dataframe thead th {\n",
       "        text-align: right;\n",
       "    }\n",
       "</style>\n",
       "<table border=\"1\" class=\"dataframe\">\n",
       "  <thead>\n",
       "    <tr style=\"text-align: right;\">\n",
       "      <th></th>\n",
       "      <th>OperatorNa</th>\n",
       "      <th>new</th>\n",
       "    </tr>\n",
       "  </thead>\n",
       "  <tbody>\n",
       "    <tr>\n",
       "      <th>0</th>\n",
       "      <td>Aera Energy LLC</td>\n",
       "      <td>372</td>\n",
       "    </tr>\n",
       "    <tr>\n",
       "      <th>1</th>\n",
       "      <td>California Resources Elk Hills, LLC</td>\n",
       "      <td>352</td>\n",
       "    </tr>\n",
       "    <tr>\n",
       "      <th>2</th>\n",
       "      <td>Chevron U.S.A. Inc.</td>\n",
       "      <td>226</td>\n",
       "    </tr>\n",
       "    <tr>\n",
       "      <th>3</th>\n",
       "      <td>Berry Petroleum Company, LLC</td>\n",
       "      <td>174</td>\n",
       "    </tr>\n",
       "    <tr>\n",
       "      <th>4</th>\n",
       "      <td>California Resources Production Corporation</td>\n",
       "      <td>91</td>\n",
       "    </tr>\n",
       "    <tr>\n",
       "      <th>5</th>\n",
       "      <td>Holmes Western Oil Corporation</td>\n",
       "      <td>57</td>\n",
       "    </tr>\n",
       "    <tr>\n",
       "      <th>6</th>\n",
       "      <td>Crimson Resource Management Corp.</td>\n",
       "      <td>19</td>\n",
       "    </tr>\n",
       "    <tr>\n",
       "      <th>7</th>\n",
       "      <td>TRC Operating Company, Inc.</td>\n",
       "      <td>12</td>\n",
       "    </tr>\n",
       "    <tr>\n",
       "      <th>8</th>\n",
       "      <td>Macpherson Oil Company</td>\n",
       "      <td>8</td>\n",
       "    </tr>\n",
       "    <tr>\n",
       "      <th>9</th>\n",
       "      <td>Sentinel Peak Resources California LLC</td>\n",
       "      <td>7</td>\n",
       "    </tr>\n",
       "    <tr>\n",
       "      <th>10</th>\n",
       "      <td>E &amp; B Natural Resources Management Corporation</td>\n",
       "      <td>4</td>\n",
       "    </tr>\n",
       "    <tr>\n",
       "      <th>11</th>\n",
       "      <td>Maranatha Petroleum, Inc.</td>\n",
       "      <td>4</td>\n",
       "    </tr>\n",
       "    <tr>\n",
       "      <th>12</th>\n",
       "      <td>San Joaquin Facilities Management, Inc.</td>\n",
       "      <td>4</td>\n",
       "    </tr>\n",
       "    <tr>\n",
       "      <th>13</th>\n",
       "      <td>Petro-Lud, Inc.</td>\n",
       "      <td>2</td>\n",
       "    </tr>\n",
       "    <tr>\n",
       "      <th>14</th>\n",
       "      <td>Trio Petroleum LLC</td>\n",
       "      <td>2</td>\n",
       "    </tr>\n",
       "    <tr>\n",
       "      <th>15</th>\n",
       "      <td>California Petroleum Group Inc.</td>\n",
       "      <td>1</td>\n",
       "    </tr>\n",
       "    <tr>\n",
       "      <th>16</th>\n",
       "      <td>The Termo Company</td>\n",
       "      <td>1</td>\n",
       "    </tr>\n",
       "    <tr>\n",
       "      <th>17</th>\n",
       "      <td>Valley Resources, LLC</td>\n",
       "      <td>1</td>\n",
       "    </tr>\n",
       "  </tbody>\n",
       "</table>\n",
       "</div>"
      ],
      "text/plain": [
       "                                        OperatorNa  new\n",
       "0                                  Aera Energy LLC  372\n",
       "1              California Resources Elk Hills, LLC  352\n",
       "2                              Chevron U.S.A. Inc.  226\n",
       "3                     Berry Petroleum Company, LLC  174\n",
       "4      California Resources Production Corporation   91\n",
       "5                   Holmes Western Oil Corporation   57\n",
       "6                Crimson Resource Management Corp.   19\n",
       "7                      TRC Operating Company, Inc.   12\n",
       "8                           Macpherson Oil Company    8\n",
       "9           Sentinel Peak Resources California LLC    7\n",
       "10  E & B Natural Resources Management Corporation    4\n",
       "11                       Maranatha Petroleum, Inc.    4\n",
       "12         San Joaquin Facilities Management, Inc.    4\n",
       "13                                 Petro-Lud, Inc.    2\n",
       "14                              Trio Petroleum LLC    2\n",
       "15                 California Petroleum Group Inc.    1\n",
       "16                               The Termo Company    1\n",
       "17                           Valley Resources, LLC    1"
      ]
     },
     "execution_count": 26,
     "metadata": {},
     "output_type": "execute_result"
    }
   ],
   "source": [
    "operator_count_new = operator_count_new.value_counts(['OperatorNa']).reset_index(name=\"new\")\n",
    "operator_count_new"
   ]
  },
  {
   "cell_type": "code",
   "execution_count": 27,
   "id": "f4d78da6-d9bb-44f0-bac8-3912305c3191",
   "metadata": {},
   "outputs": [
    {
     "data": {
      "text/html": [
       "<div>\n",
       "<style scoped>\n",
       "    .dataframe tbody tr th:only-of-type {\n",
       "        vertical-align: middle;\n",
       "    }\n",
       "\n",
       "    .dataframe tbody tr th {\n",
       "        vertical-align: top;\n",
       "    }\n",
       "\n",
       "    .dataframe thead th {\n",
       "        text-align: right;\n",
       "    }\n",
       "</style>\n",
       "<table border=\"1\" class=\"dataframe\">\n",
       "  <thead>\n",
       "    <tr style=\"text-align: right;\">\n",
       "      <th></th>\n",
       "      <th>WellStatus</th>\n",
       "      <th>OperatorNa</th>\n",
       "      <th>WellTypeLa</th>\n",
       "      <th>Latitude</th>\n",
       "      <th>Longitude</th>\n",
       "      <th>WellSymbol</th>\n",
       "      <th>count_wells</th>\n",
       "      <th>new</th>\n",
       "    </tr>\n",
       "  </thead>\n",
       "  <tbody>\n",
       "    <tr>\n",
       "      <th>3587</th>\n",
       "      <td>Idle</td>\n",
       "      <td>Aera Energy LLC</td>\n",
       "      <td>Oil &amp; Gas</td>\n",
       "      <td>35.436939</td>\n",
       "      <td>-119.687073</td>\n",
       "      <td>IdleOG</td>\n",
       "      <td>34998</td>\n",
       "      <td>372</td>\n",
       "    </tr>\n",
       "    <tr>\n",
       "      <th>9705</th>\n",
       "      <td>Plugged</td>\n",
       "      <td>Aera Energy LLC</td>\n",
       "      <td>Oil &amp; Gas</td>\n",
       "      <td>35.446957</td>\n",
       "      <td>-119.706123</td>\n",
       "      <td>PluggedOG</td>\n",
       "      <td>34998</td>\n",
       "      <td>372</td>\n",
       "    </tr>\n",
       "    <tr>\n",
       "      <th>6963</th>\n",
       "      <td>Active</td>\n",
       "      <td>Aera Energy LLC</td>\n",
       "      <td>Oil &amp; Gas</td>\n",
       "      <td>35.435066</td>\n",
       "      <td>-119.691078</td>\n",
       "      <td>ActiveOG</td>\n",
       "      <td>34998</td>\n",
       "      <td>372</td>\n",
       "    </tr>\n",
       "    <tr>\n",
       "      <th>76878</th>\n",
       "      <td>Plugged</td>\n",
       "      <td>Crimson Resource Management Corp.</td>\n",
       "      <td>Oil &amp; Gas</td>\n",
       "      <td>35.184246</td>\n",
       "      <td>-119.547287</td>\n",
       "      <td>PluggedOG</td>\n",
       "      <td>1042</td>\n",
       "      <td>19</td>\n",
       "    </tr>\n",
       "    <tr>\n",
       "      <th>52882</th>\n",
       "      <td>Plugged</td>\n",
       "      <td>Chevron U.S.A. Inc.</td>\n",
       "      <td>Oil &amp; Gas</td>\n",
       "      <td>35.441780</td>\n",
       "      <td>-118.954956</td>\n",
       "      <td>PluggedOG</td>\n",
       "      <td>20336</td>\n",
       "      <td>226</td>\n",
       "    </tr>\n",
       "  </tbody>\n",
       "</table>\n",
       "</div>"
      ],
      "text/plain": [
       "      WellStatus                         OperatorNa WellTypeLa   Latitude  \\\n",
       "3587        Idle                    Aera Energy LLC  Oil & Gas  35.436939   \n",
       "9705     Plugged                    Aera Energy LLC  Oil & Gas  35.446957   \n",
       "6963      Active                    Aera Energy LLC  Oil & Gas  35.435066   \n",
       "76878    Plugged  Crimson Resource Management Corp.  Oil & Gas  35.184246   \n",
       "52882    Plugged                Chevron U.S.A. Inc.  Oil & Gas  35.441780   \n",
       "\n",
       "        Longitude WellSymbol  count_wells  new  \n",
       "3587  -119.687073     IdleOG        34998  372  \n",
       "9705  -119.706123  PluggedOG        34998  372  \n",
       "6963  -119.691078   ActiveOG        34998  372  \n",
       "76878 -119.547287  PluggedOG         1042   19  \n",
       "52882 -118.954956  PluggedOG        20336  226  "
      ]
     },
     "execution_count": 27,
     "metadata": {},
     "output_type": "execute_result"
    }
   ],
   "source": [
    "oilsubset = oilsubset.merge(operator_count_new, how='right')\n",
    "oilsubset.sample(5)\n",
    "#not sure why I am getting so many columns of count x and count y "
   ]
  },
  {
   "cell_type": "code",
   "execution_count": 28,
   "id": "6524d18e-2d2f-401c-a734-a1d329d85e22",
   "metadata": {},
   "outputs": [
    {
     "data": {
      "text/html": [
       "<div>\n",
       "<style scoped>\n",
       "    .dataframe tbody tr th:only-of-type {\n",
       "        vertical-align: middle;\n",
       "    }\n",
       "\n",
       "    .dataframe tbody tr th {\n",
       "        vertical-align: top;\n",
       "    }\n",
       "\n",
       "    .dataframe thead th {\n",
       "        text-align: right;\n",
       "    }\n",
       "</style>\n",
       "<table border=\"1\" class=\"dataframe\">\n",
       "  <thead>\n",
       "    <tr style=\"text-align: right;\">\n",
       "      <th></th>\n",
       "      <th>WellStatus</th>\n",
       "      <th>OperatorNa</th>\n",
       "      <th>WellTypeLa</th>\n",
       "      <th>Latitude</th>\n",
       "      <th>Longitude</th>\n",
       "      <th>WellSymbol</th>\n",
       "      <th>count_wells</th>\n",
       "      <th>new</th>\n",
       "      <th>plugged</th>\n",
       "    </tr>\n",
       "  </thead>\n",
       "  <tbody>\n",
       "    <tr>\n",
       "      <th>33115</th>\n",
       "      <td>Plugged</td>\n",
       "      <td>Aera Energy LLC</td>\n",
       "      <td>Oil &amp; Gas</td>\n",
       "      <td>35.213448</td>\n",
       "      <td>-119.598686</td>\n",
       "      <td>PluggedOG</td>\n",
       "      <td>34998.0</td>\n",
       "      <td>372.0</td>\n",
       "      <td>21089</td>\n",
       "    </tr>\n",
       "    <tr>\n",
       "      <th>31668</th>\n",
       "      <td>Plugged</td>\n",
       "      <td>Aera Energy LLC</td>\n",
       "      <td>Oil &amp; Gas</td>\n",
       "      <td>35.229759</td>\n",
       "      <td>-119.583672</td>\n",
       "      <td>PluggedOG</td>\n",
       "      <td>34998.0</td>\n",
       "      <td>372.0</td>\n",
       "      <td>21089</td>\n",
       "    </tr>\n",
       "    <tr>\n",
       "      <th>60749</th>\n",
       "      <td>Active</td>\n",
       "      <td>Berry Petroleum Company, LLC</td>\n",
       "      <td>Oil &amp; Gas</td>\n",
       "      <td>35.583801</td>\n",
       "      <td>-119.039902</td>\n",
       "      <td>ActiveOG</td>\n",
       "      <td>5618.0</td>\n",
       "      <td>174.0</td>\n",
       "      <td>2348</td>\n",
       "    </tr>\n",
       "    <tr>\n",
       "      <th>64076</th>\n",
       "      <td>Active</td>\n",
       "      <td>California Resources Elk Hills, LLC</td>\n",
       "      <td>Oil &amp; Gas</td>\n",
       "      <td>35.253723</td>\n",
       "      <td>-119.264877</td>\n",
       "      <td>ActiveOG</td>\n",
       "      <td>8673.0</td>\n",
       "      <td>352.0</td>\n",
       "      <td>2345</td>\n",
       "    </tr>\n",
       "    <tr>\n",
       "      <th>84601</th>\n",
       "      <td>Active</td>\n",
       "      <td>Macpherson Oil Company</td>\n",
       "      <td>Oil &amp; Gas</td>\n",
       "      <td>35.489578</td>\n",
       "      <td>-118.888657</td>\n",
       "      <td>ActiveOG</td>\n",
       "      <td>755.0</td>\n",
       "      <td>8.0</td>\n",
       "      <td>237</td>\n",
       "    </tr>\n",
       "  </tbody>\n",
       "</table>\n",
       "</div>"
      ],
      "text/plain": [
       "      WellStatus                           OperatorNa WellTypeLa   Latitude  \\\n",
       "33115    Plugged                      Aera Energy LLC  Oil & Gas  35.213448   \n",
       "31668    Plugged                      Aera Energy LLC  Oil & Gas  35.229759   \n",
       "60749     Active         Berry Petroleum Company, LLC  Oil & Gas  35.583801   \n",
       "64076     Active  California Resources Elk Hills, LLC  Oil & Gas  35.253723   \n",
       "84601     Active               Macpherson Oil Company  Oil & Gas  35.489578   \n",
       "\n",
       "        Longitude WellSymbol  count_wells    new  plugged  \n",
       "33115 -119.598686  PluggedOG      34998.0  372.0    21089  \n",
       "31668 -119.583672  PluggedOG      34998.0  372.0    21089  \n",
       "60749 -119.039902   ActiveOG       5618.0  174.0     2348  \n",
       "64076 -119.264877   ActiveOG       8673.0  352.0     2345  \n",
       "84601 -118.888657   ActiveOG        755.0    8.0      237  "
      ]
     },
     "execution_count": 28,
     "metadata": {},
     "output_type": "execute_result"
    }
   ],
   "source": [
    "oilsubset = oilsubset.merge(operator_count_plugged, how='right')\n",
    "oilsubset.sample(5)"
   ]
  },
  {
   "cell_type": "code",
   "execution_count": 29,
   "id": "a96b67a1-f6d7-429d-b03d-91deee11b981",
   "metadata": {},
   "outputs": [
    {
     "data": {
      "text/html": [
       "<div>\n",
       "<style scoped>\n",
       "    .dataframe tbody tr th:only-of-type {\n",
       "        vertical-align: middle;\n",
       "    }\n",
       "\n",
       "    .dataframe tbody tr th {\n",
       "        vertical-align: top;\n",
       "    }\n",
       "\n",
       "    .dataframe thead th {\n",
       "        text-align: right;\n",
       "    }\n",
       "</style>\n",
       "<table border=\"1\" class=\"dataframe\">\n",
       "  <thead>\n",
       "    <tr style=\"text-align: right;\">\n",
       "      <th></th>\n",
       "      <th>WellStatus</th>\n",
       "      <th>OperatorNa</th>\n",
       "      <th>WellTypeLa</th>\n",
       "      <th>Latitude</th>\n",
       "      <th>Longitude</th>\n",
       "      <th>WellSymbol</th>\n",
       "      <th>count_wells</th>\n",
       "      <th>new</th>\n",
       "      <th>plugged</th>\n",
       "      <th>pluggedonly</th>\n",
       "    </tr>\n",
       "  </thead>\n",
       "  <tbody>\n",
       "    <tr>\n",
       "      <th>35910</th>\n",
       "      <td>Plugged</td>\n",
       "      <td>Chevron U.S.A. Inc.</td>\n",
       "      <td>Oil &amp; Gas</td>\n",
       "      <td>35.342075</td>\n",
       "      <td>-119.654503</td>\n",
       "      <td>PluggedOG</td>\n",
       "      <td>20336.0</td>\n",
       "      <td>226.0</td>\n",
       "      <td>15657</td>\n",
       "      <td>3</td>\n",
       "    </tr>\n",
       "    <tr>\n",
       "      <th>57501</th>\n",
       "      <td>Plugged</td>\n",
       "      <td>California Resources Elk Hills, LLC</td>\n",
       "      <td>Oil &amp; Gas</td>\n",
       "      <td>35.190258</td>\n",
       "      <td>-119.452934</td>\n",
       "      <td>PluggedOG</td>\n",
       "      <td>8673.0</td>\n",
       "      <td>352.0</td>\n",
       "      <td>2345</td>\n",
       "      <td>1</td>\n",
       "    </tr>\n",
       "    <tr>\n",
       "      <th>41219</th>\n",
       "      <td>Plugged</td>\n",
       "      <td>Chevron U.S.A. Inc.</td>\n",
       "      <td>Oil &amp; Gas</td>\n",
       "      <td>35.465446</td>\n",
       "      <td>-119.015587</td>\n",
       "      <td>PluggedOG</td>\n",
       "      <td>20336.0</td>\n",
       "      <td>226.0</td>\n",
       "      <td>15657</td>\n",
       "      <td>3</td>\n",
       "    </tr>\n",
       "    <tr>\n",
       "      <th>21660</th>\n",
       "      <td>Plugged</td>\n",
       "      <td>Aera Energy LLC</td>\n",
       "      <td>Oil &amp; Gas</td>\n",
       "      <td>35.416508</td>\n",
       "      <td>-119.679176</td>\n",
       "      <td>PluggedOG</td>\n",
       "      <td>34998.0</td>\n",
       "      <td>372.0</td>\n",
       "      <td>21089</td>\n",
       "      <td>96</td>\n",
       "    </tr>\n",
       "    <tr>\n",
       "      <th>17265</th>\n",
       "      <td>Plugged</td>\n",
       "      <td>Aera Energy LLC</td>\n",
       "      <td>Oil &amp; Gas</td>\n",
       "      <td>35.499409</td>\n",
       "      <td>-119.768326</td>\n",
       "      <td>PluggedOG</td>\n",
       "      <td>34998.0</td>\n",
       "      <td>372.0</td>\n",
       "      <td>21089</td>\n",
       "      <td>96</td>\n",
       "    </tr>\n",
       "  </tbody>\n",
       "</table>\n",
       "</div>"
      ],
      "text/plain": [
       "      WellStatus                           OperatorNa WellTypeLa   Latitude  \\\n",
       "35910    Plugged                  Chevron U.S.A. Inc.  Oil & Gas  35.342075   \n",
       "57501    Plugged  California Resources Elk Hills, LLC  Oil & Gas  35.190258   \n",
       "41219    Plugged                  Chevron U.S.A. Inc.  Oil & Gas  35.465446   \n",
       "21660    Plugged                      Aera Energy LLC  Oil & Gas  35.416508   \n",
       "17265    Plugged                      Aera Energy LLC  Oil & Gas  35.499409   \n",
       "\n",
       "        Longitude WellSymbol  count_wells    new  plugged  pluggedonly  \n",
       "35910 -119.654503  PluggedOG      20336.0  226.0    15657            3  \n",
       "57501 -119.452934  PluggedOG       8673.0  352.0     2345            1  \n",
       "41219 -119.015587  PluggedOG      20336.0  226.0    15657            3  \n",
       "21660 -119.679176  PluggedOG      34998.0  372.0    21089           96  \n",
       "17265 -119.768326  PluggedOG      34998.0  372.0    21089           96  "
      ]
     },
     "execution_count": 29,
     "metadata": {},
     "output_type": "execute_result"
    }
   ],
   "source": [
    "oilsubset = oilsubset.merge(operator_count_pluggedo, how='right')\n",
    "oilsubset.sample(5)"
   ]
  },
  {
   "cell_type": "code",
   "execution_count": 31,
   "id": "4250d5c6-c7cd-4484-904e-7aea24fc20ad",
   "metadata": {},
   "outputs": [
    {
     "data": {
      "text/html": [
       "<div>\n",
       "<style scoped>\n",
       "    .dataframe tbody tr th:only-of-type {\n",
       "        vertical-align: middle;\n",
       "    }\n",
       "\n",
       "    .dataframe tbody tr th {\n",
       "        vertical-align: top;\n",
       "    }\n",
       "\n",
       "    .dataframe thead th {\n",
       "        text-align: right;\n",
       "    }\n",
       "</style>\n",
       "<table border=\"1\" class=\"dataframe\">\n",
       "  <thead>\n",
       "    <tr style=\"text-align: right;\">\n",
       "      <th></th>\n",
       "      <th>WellStatus</th>\n",
       "      <th>OperatorNa</th>\n",
       "      <th>WellTypeLa</th>\n",
       "      <th>Latitude</th>\n",
       "      <th>Longitude</th>\n",
       "      <th>WellSymbol</th>\n",
       "      <th>count_wells</th>\n",
       "      <th>new</th>\n",
       "      <th>plugged</th>\n",
       "      <th>pluggedonly</th>\n",
       "      <th>active</th>\n",
       "    </tr>\n",
       "  </thead>\n",
       "  <tbody>\n",
       "    <tr>\n",
       "      <th>39897</th>\n",
       "      <td>Active</td>\n",
       "      <td>California Resources Elk Hills, LLC</td>\n",
       "      <td>Oil &amp; Gas</td>\n",
       "      <td>35.292675</td>\n",
       "      <td>-119.445648</td>\n",
       "      <td>ActiveOG</td>\n",
       "      <td>8673.0</td>\n",
       "      <td>352.0</td>\n",
       "      <td>2345.0</td>\n",
       "      <td>1.0</td>\n",
       "      <td>3670</td>\n",
       "    </tr>\n",
       "    <tr>\n",
       "      <th>20225</th>\n",
       "      <td>Plugged</td>\n",
       "      <td>Aera Energy LLC</td>\n",
       "      <td>Oil &amp; Gas</td>\n",
       "      <td>35.497520</td>\n",
       "      <td>-119.763199</td>\n",
       "      <td>PluggedOG</td>\n",
       "      <td>34998.0</td>\n",
       "      <td>372.0</td>\n",
       "      <td>21089.0</td>\n",
       "      <td>96.0</td>\n",
       "      <td>8223</td>\n",
       "    </tr>\n",
       "    <tr>\n",
       "      <th>59389</th>\n",
       "      <td>Plugged</td>\n",
       "      <td>Chevron U.S.A. Inc.</td>\n",
       "      <td>Oil &amp; Gas</td>\n",
       "      <td>35.118458</td>\n",
       "      <td>-119.456062</td>\n",
       "      <td>PluggedOG</td>\n",
       "      <td>20336.0</td>\n",
       "      <td>226.0</td>\n",
       "      <td>15657.0</td>\n",
       "      <td>3.0</td>\n",
       "      <td>2610</td>\n",
       "    </tr>\n",
       "    <tr>\n",
       "      <th>56202</th>\n",
       "      <td>Idle</td>\n",
       "      <td>Chevron U.S.A. Inc.</td>\n",
       "      <td>Oil &amp; Gas</td>\n",
       "      <td>35.322315</td>\n",
       "      <td>-119.623245</td>\n",
       "      <td>IdleOG</td>\n",
       "      <td>20336.0</td>\n",
       "      <td>226.0</td>\n",
       "      <td>15657.0</td>\n",
       "      <td>3.0</td>\n",
       "      <td>2610</td>\n",
       "    </tr>\n",
       "    <tr>\n",
       "      <th>30368</th>\n",
       "      <td>Active</td>\n",
       "      <td>Aera Energy LLC</td>\n",
       "      <td>Oil &amp; Gas</td>\n",
       "      <td>35.078012</td>\n",
       "      <td>-119.406913</td>\n",
       "      <td>ActiveOG</td>\n",
       "      <td>34998.0</td>\n",
       "      <td>372.0</td>\n",
       "      <td>21089.0</td>\n",
       "      <td>96.0</td>\n",
       "      <td>8223</td>\n",
       "    </tr>\n",
       "  </tbody>\n",
       "</table>\n",
       "</div>"
      ],
      "text/plain": [
       "      WellStatus                           OperatorNa WellTypeLa   Latitude  \\\n",
       "39897     Active  California Resources Elk Hills, LLC  Oil & Gas  35.292675   \n",
       "20225    Plugged                      Aera Energy LLC  Oil & Gas  35.497520   \n",
       "59389    Plugged                  Chevron U.S.A. Inc.  Oil & Gas  35.118458   \n",
       "56202       Idle                  Chevron U.S.A. Inc.  Oil & Gas  35.322315   \n",
       "30368     Active                      Aera Energy LLC  Oil & Gas  35.078012   \n",
       "\n",
       "        Longitude WellSymbol  count_wells    new  plugged  pluggedonly  active  \n",
       "39897 -119.445648   ActiveOG       8673.0  352.0   2345.0          1.0    3670  \n",
       "20225 -119.763199  PluggedOG      34998.0  372.0  21089.0         96.0    8223  \n",
       "59389 -119.456062  PluggedOG      20336.0  226.0  15657.0          3.0    2610  \n",
       "56202 -119.623245     IdleOG      20336.0  226.0  15657.0          3.0    2610  \n",
       "30368 -119.406913   ActiveOG      34998.0  372.0  21089.0         96.0    8223  "
      ]
     },
     "execution_count": 31,
     "metadata": {},
     "output_type": "execute_result"
    }
   ],
   "source": [
    "oilsubset = oilsubset.merge(operator_count_active, how='right')\n",
    "oilsubset.sample(5)\n",
    "#not sure why I am getting so many columns of count x and count y "
   ]
  },
  {
   "cell_type": "code",
   "execution_count": 32,
   "id": "e59a7972-939a-469a-b06d-1b0be6a52755",
   "metadata": {},
   "outputs": [
    {
     "data": {
      "text/html": [
       "<div>\n",
       "<style scoped>\n",
       "    .dataframe tbody tr th:only-of-type {\n",
       "        vertical-align: middle;\n",
       "    }\n",
       "\n",
       "    .dataframe tbody tr th {\n",
       "        vertical-align: top;\n",
       "    }\n",
       "\n",
       "    .dataframe thead th {\n",
       "        text-align: right;\n",
       "    }\n",
       "</style>\n",
       "<table border=\"1\" class=\"dataframe\">\n",
       "  <thead>\n",
       "    <tr style=\"text-align: right;\">\n",
       "      <th></th>\n",
       "      <th>WellStatus</th>\n",
       "      <th>OperatorNa</th>\n",
       "      <th>WellTypeLa</th>\n",
       "      <th>Latitude</th>\n",
       "      <th>Longitude</th>\n",
       "      <th>WellSymbol</th>\n",
       "      <th>count_wells</th>\n",
       "      <th>new</th>\n",
       "      <th>plugged</th>\n",
       "      <th>pluggedonly</th>\n",
       "      <th>active</th>\n",
       "      <th>idle</th>\n",
       "    </tr>\n",
       "  </thead>\n",
       "  <tbody>\n",
       "    <tr>\n",
       "      <th>0</th>\n",
       "      <td>Idle</td>\n",
       "      <td>Aera Energy LLC</td>\n",
       "      <td>Oil &amp; Gas</td>\n",
       "      <td>35.614941</td>\n",
       "      <td>-119.616722</td>\n",
       "      <td>IdleOG</td>\n",
       "      <td>34998.0</td>\n",
       "      <td>372.0</td>\n",
       "      <td>21089.0</td>\n",
       "      <td>96.0</td>\n",
       "      <td>8223.0</td>\n",
       "      <td>5213</td>\n",
       "    </tr>\n",
       "    <tr>\n",
       "      <th>1</th>\n",
       "      <td>Idle</td>\n",
       "      <td>Aera Energy LLC</td>\n",
       "      <td>Oil &amp; Gas</td>\n",
       "      <td>35.614777</td>\n",
       "      <td>-119.616730</td>\n",
       "      <td>IdleOG</td>\n",
       "      <td>34998.0</td>\n",
       "      <td>372.0</td>\n",
       "      <td>21089.0</td>\n",
       "      <td>96.0</td>\n",
       "      <td>8223.0</td>\n",
       "      <td>5213</td>\n",
       "    </tr>\n",
       "    <tr>\n",
       "      <th>2</th>\n",
       "      <td>Idle</td>\n",
       "      <td>Aera Energy LLC</td>\n",
       "      <td>Oil &amp; Gas</td>\n",
       "      <td>35.542637</td>\n",
       "      <td>-119.700081</td>\n",
       "      <td>IdleOG</td>\n",
       "      <td>34998.0</td>\n",
       "      <td>372.0</td>\n",
       "      <td>21089.0</td>\n",
       "      <td>96.0</td>\n",
       "      <td>8223.0</td>\n",
       "      <td>5213</td>\n",
       "    </tr>\n",
       "    <tr>\n",
       "      <th>3</th>\n",
       "      <td>Idle</td>\n",
       "      <td>Aera Energy LLC</td>\n",
       "      <td>Oil &amp; Gas</td>\n",
       "      <td>35.510620</td>\n",
       "      <td>-119.725693</td>\n",
       "      <td>IdleOG</td>\n",
       "      <td>34998.0</td>\n",
       "      <td>372.0</td>\n",
       "      <td>21089.0</td>\n",
       "      <td>96.0</td>\n",
       "      <td>8223.0</td>\n",
       "      <td>5213</td>\n",
       "    </tr>\n",
       "    <tr>\n",
       "      <th>4</th>\n",
       "      <td>Plugged</td>\n",
       "      <td>Aera Energy LLC</td>\n",
       "      <td>Oil &amp; Gas</td>\n",
       "      <td>35.460857</td>\n",
       "      <td>-119.688995</td>\n",
       "      <td>PluggedOG</td>\n",
       "      <td>34998.0</td>\n",
       "      <td>372.0</td>\n",
       "      <td>21089.0</td>\n",
       "      <td>96.0</td>\n",
       "      <td>8223.0</td>\n",
       "      <td>5213</td>\n",
       "    </tr>\n",
       "  </tbody>\n",
       "</table>\n",
       "</div>"
      ],
      "text/plain": [
       "  WellStatus       OperatorNa WellTypeLa   Latitude   Longitude WellSymbol  \\\n",
       "0       Idle  Aera Energy LLC  Oil & Gas  35.614941 -119.616722     IdleOG   \n",
       "1       Idle  Aera Energy LLC  Oil & Gas  35.614777 -119.616730     IdleOG   \n",
       "2       Idle  Aera Energy LLC  Oil & Gas  35.542637 -119.700081     IdleOG   \n",
       "3       Idle  Aera Energy LLC  Oil & Gas  35.510620 -119.725693     IdleOG   \n",
       "4    Plugged  Aera Energy LLC  Oil & Gas  35.460857 -119.688995  PluggedOG   \n",
       "\n",
       "   count_wells    new  plugged  pluggedonly  active  idle  \n",
       "0      34998.0  372.0  21089.0         96.0  8223.0  5213  \n",
       "1      34998.0  372.0  21089.0         96.0  8223.0  5213  \n",
       "2      34998.0  372.0  21089.0         96.0  8223.0  5213  \n",
       "3      34998.0  372.0  21089.0         96.0  8223.0  5213  \n",
       "4      34998.0  372.0  21089.0         96.0  8223.0  5213  "
      ]
     },
     "execution_count": 32,
     "metadata": {},
     "output_type": "execute_result"
    }
   ],
   "source": [
    "#only need one row per operator with active, idle, and new count. subset further to have one row of each operator\n",
    "#group by (command) - group by operator - can even manually create five rows in excel \n",
    "oilsubset = oilsubset.merge(operator_count_idle, how='right')\n",
    "oilsubset.head()"
   ]
  },
  {
   "cell_type": "markdown",
   "id": "1acfadea-64d8-4f28-ab51-3e438485f931",
   "metadata": {},
   "source": [
    "To code the stacked bar chart in such a way that I am able to plot the top five producers without duplicating rows, I eliminate duplicate values. "
   ]
  },
  {
   "cell_type": "code",
   "execution_count": 35,
   "id": "f4d8ab3e-845a-4dd6-89c5-4549acae9c02",
   "metadata": {},
   "outputs": [],
   "source": [
    "oilsubset2 = oilsubset.drop_duplicates(subset=['count_wells'])"
   ]
  },
  {
   "cell_type": "code",
   "execution_count": 36,
   "id": "02dc4bea-7400-4c76-be59-0c9d45219e9a",
   "metadata": {},
   "outputs": [
    {
     "data": {
      "text/plain": [
       "(6, 12)"
      ]
     },
     "execution_count": 36,
     "metadata": {},
     "output_type": "execute_result"
    }
   ],
   "source": [
    "oilsubset2.shape\n"
   ]
  },
  {
   "cell_type": "code",
   "execution_count": 37,
   "id": "5b8413a4-55cb-463d-b82e-f580b02eb108",
   "metadata": {},
   "outputs": [
    {
     "data": {
      "text/html": [
       "<div>\n",
       "<style scoped>\n",
       "    .dataframe tbody tr th:only-of-type {\n",
       "        vertical-align: middle;\n",
       "    }\n",
       "\n",
       "    .dataframe tbody tr th {\n",
       "        vertical-align: top;\n",
       "    }\n",
       "\n",
       "    .dataframe thead th {\n",
       "        text-align: right;\n",
       "    }\n",
       "</style>\n",
       "<table border=\"1\" class=\"dataframe\">\n",
       "  <thead>\n",
       "    <tr style=\"text-align: right;\">\n",
       "      <th></th>\n",
       "      <th>WellStatus</th>\n",
       "      <th>OperatorNa</th>\n",
       "      <th>WellTypeLa</th>\n",
       "      <th>Latitude</th>\n",
       "      <th>Longitude</th>\n",
       "      <th>WellSymbol</th>\n",
       "      <th>count_wells</th>\n",
       "      <th>new</th>\n",
       "      <th>plugged</th>\n",
       "      <th>pluggedonly</th>\n",
       "      <th>active</th>\n",
       "      <th>idle</th>\n",
       "    </tr>\n",
       "  </thead>\n",
       "  <tbody>\n",
       "    <tr>\n",
       "      <th>0</th>\n",
       "      <td>Idle</td>\n",
       "      <td>Aera Energy LLC</td>\n",
       "      <td>Oil &amp; Gas</td>\n",
       "      <td>35.614941</td>\n",
       "      <td>-119.616722</td>\n",
       "      <td>IdleOG</td>\n",
       "      <td>34998.0</td>\n",
       "      <td>372.0</td>\n",
       "      <td>21089.0</td>\n",
       "      <td>96.0</td>\n",
       "      <td>8223.0</td>\n",
       "      <td>5213</td>\n",
       "    </tr>\n",
       "    <tr>\n",
       "      <th>34998</th>\n",
       "      <td>Idle</td>\n",
       "      <td>California Resources Elk Hills, LLC</td>\n",
       "      <td>Oil &amp; Gas</td>\n",
       "      <td>35.152786</td>\n",
       "      <td>-119.316727</td>\n",
       "      <td>IdleOG</td>\n",
       "      <td>8673.0</td>\n",
       "      <td>352.0</td>\n",
       "      <td>2345.0</td>\n",
       "      <td>1.0</td>\n",
       "      <td>3670.0</td>\n",
       "      <td>2305</td>\n",
       "    </tr>\n",
       "    <tr>\n",
       "      <th>43671</th>\n",
       "      <td>Plugged</td>\n",
       "      <td>Chevron U.S.A. Inc.</td>\n",
       "      <td>Oil &amp; Gas</td>\n",
       "      <td>35.395443</td>\n",
       "      <td>-118.866119</td>\n",
       "      <td>PluggedOG</td>\n",
       "      <td>20336.0</td>\n",
       "      <td>226.0</td>\n",
       "      <td>15657.0</td>\n",
       "      <td>3.0</td>\n",
       "      <td>2610.0</td>\n",
       "      <td>1830</td>\n",
       "    </tr>\n",
       "    <tr>\n",
       "      <th>64007</th>\n",
       "      <td>NaN</td>\n",
       "      <td>Berry Petroleum Company, LLC</td>\n",
       "      <td>NaN</td>\n",
       "      <td>NaN</td>\n",
       "      <td>NaN</td>\n",
       "      <td>NaN</td>\n",
       "      <td>NaN</td>\n",
       "      <td>NaN</td>\n",
       "      <td>NaN</td>\n",
       "      <td>NaN</td>\n",
       "      <td>1417.0</td>\n",
       "      <td>1677</td>\n",
       "    </tr>\n",
       "    <tr>\n",
       "      <th>64009</th>\n",
       "      <td>Plugged</td>\n",
       "      <td>Sentinel Peak Resources California LLC</td>\n",
       "      <td>Oil &amp; Gas</td>\n",
       "      <td>35.585564</td>\n",
       "      <td>-119.918198</td>\n",
       "      <td>PluggedOG</td>\n",
       "      <td>4864.0</td>\n",
       "      <td>7.0</td>\n",
       "      <td>2052.0</td>\n",
       "      <td>1.0</td>\n",
       "      <td>1828.0</td>\n",
       "      <td>976</td>\n",
       "    </tr>\n",
       "    <tr>\n",
       "      <th>68875</th>\n",
       "      <td>Idle</td>\n",
       "      <td>Holmes Western Oil Corporation</td>\n",
       "      <td>Oil &amp; Gas</td>\n",
       "      <td>35.010387</td>\n",
       "      <td>-119.330612</td>\n",
       "      <td>IdleOG</td>\n",
       "      <td>1030.0</td>\n",
       "      <td>57.0</td>\n",
       "      <td>407.0</td>\n",
       "      <td>1.0</td>\n",
       "      <td>380.0</td>\n",
       "      <td>185</td>\n",
       "    </tr>\n",
       "  </tbody>\n",
       "</table>\n",
       "</div>"
      ],
      "text/plain": [
       "      WellStatus                              OperatorNa WellTypeLa  \\\n",
       "0           Idle                         Aera Energy LLC  Oil & Gas   \n",
       "34998       Idle     California Resources Elk Hills, LLC  Oil & Gas   \n",
       "43671    Plugged                     Chevron U.S.A. Inc.  Oil & Gas   \n",
       "64007        NaN            Berry Petroleum Company, LLC        NaN   \n",
       "64009    Plugged  Sentinel Peak Resources California LLC  Oil & Gas   \n",
       "68875       Idle          Holmes Western Oil Corporation  Oil & Gas   \n",
       "\n",
       "        Latitude   Longitude WellSymbol  count_wells    new  plugged  \\\n",
       "0      35.614941 -119.616722     IdleOG      34998.0  372.0  21089.0   \n",
       "34998  35.152786 -119.316727     IdleOG       8673.0  352.0   2345.0   \n",
       "43671  35.395443 -118.866119  PluggedOG      20336.0  226.0  15657.0   \n",
       "64007        NaN         NaN        NaN          NaN    NaN      NaN   \n",
       "64009  35.585564 -119.918198  PluggedOG       4864.0    7.0   2052.0   \n",
       "68875  35.010387 -119.330612     IdleOG       1030.0   57.0    407.0   \n",
       "\n",
       "       pluggedonly  active  idle  \n",
       "0             96.0  8223.0  5213  \n",
       "34998          1.0  3670.0  2305  \n",
       "43671          3.0  2610.0  1830  \n",
       "64007          NaN  1417.0  1677  \n",
       "64009          1.0  1828.0   976  \n",
       "68875          1.0   380.0   185  "
      ]
     },
     "execution_count": 37,
     "metadata": {},
     "output_type": "execute_result"
    }
   ],
   "source": [
    "oilsubset2"
   ]
  },
  {
   "cell_type": "code",
   "execution_count": 38,
   "id": "e5da7c69-aa6b-47d6-8241-9635c427f4bd",
   "metadata": {},
   "outputs": [
    {
     "name": "stdout",
     "output_type": "stream",
     "text": [
      "OperatorNa     Aera Energy LLCCalifornia Resources Elk Hills,...\n",
      "Latitude                                              141.748734\n",
      "Longitude                                            -477.717766\n",
      "count_wells                                              68871.0\n",
      "new                                                        957.0\n",
      "plugged                                                  41143.0\n",
      "pluggedonly                                                101.0\n",
      "active                                                   17748.0\n",
      "idle                                                       12001\n",
      "dtype: object\n"
     ]
    },
    {
     "name": "stderr",
     "output_type": "stream",
     "text": [
      "/tmp/ipykernel_249/3788318747.py:1: FutureWarning:\n",
      "\n",
      "The default value of numeric_only in DataFrame.sum is deprecated. In a future version, it will default to False. In addition, specifying 'numeric_only=None' is deprecated. Select only valid columns or specify the value of numeric_only to silence this warning.\n",
      "\n"
     ]
    }
   ],
   "source": [
    "sum = oilsubset2.iloc[0:5].sum()\n",
    "print(sum)"
   ]
  },
  {
   "cell_type": "code",
   "execution_count": 39,
   "id": "73dce724-3341-4cc9-a434-73c2ef0aa524",
   "metadata": {},
   "outputs": [
    {
     "data": {
      "application/vnd.plotly.v1+json": {
       "config": {
        "plotlyServerURL": "https://plot.ly"
       },
       "data": [
        {
         "alignmentgroup": "True",
         "hovertemplate": "variable=active<br>OperatorNa=%{x}<br>value=%{y}<extra></extra>",
         "legendgroup": "active",
         "marker": {
          "color": "#636efa",
          "pattern": {
           "shape": ""
          }
         },
         "name": "active",
         "offsetgroup": "active",
         "orientation": "v",
         "showlegend": true,
         "textposition": "auto",
         "type": "bar",
         "x": [
          "Aera Energy LLC",
          "California Resources Elk Hills, LLC",
          "Chevron U.S.A. Inc.",
          "Berry Petroleum Company, LLC",
          "Sentinel Peak Resources California LLC"
         ],
         "xaxis": "x",
         "y": [
          8223,
          3670,
          2610,
          1417,
          1828
         ],
         "yaxis": "y"
        },
        {
         "alignmentgroup": "True",
         "hovertemplate": "variable=new<br>OperatorNa=%{x}<br>value=%{y}<extra></extra>",
         "legendgroup": "new",
         "marker": {
          "color": "#EF553B",
          "pattern": {
           "shape": ""
          }
         },
         "name": "new",
         "offsetgroup": "new",
         "orientation": "v",
         "showlegend": true,
         "textposition": "auto",
         "type": "bar",
         "x": [
          "Aera Energy LLC",
          "California Resources Elk Hills, LLC",
          "Chevron U.S.A. Inc.",
          "Berry Petroleum Company, LLC",
          "Sentinel Peak Resources California LLC"
         ],
         "xaxis": "x",
         "y": [
          372,
          352,
          226,
          null,
          7
         ],
         "yaxis": "y"
        },
        {
         "alignmentgroup": "True",
         "hovertemplate": "variable=idle<br>OperatorNa=%{x}<br>value=%{y}<extra></extra>",
         "legendgroup": "idle",
         "marker": {
          "color": "#00cc96",
          "pattern": {
           "shape": ""
          }
         },
         "name": "idle",
         "offsetgroup": "idle",
         "orientation": "v",
         "showlegend": true,
         "textposition": "auto",
         "type": "bar",
         "x": [
          "Aera Energy LLC",
          "California Resources Elk Hills, LLC",
          "Chevron U.S.A. Inc.",
          "Berry Petroleum Company, LLC",
          "Sentinel Peak Resources California LLC"
         ],
         "xaxis": "x",
         "y": [
          5213,
          2305,
          1830,
          1677,
          976
         ],
         "yaxis": "y"
        },
        {
         "alignmentgroup": "True",
         "hovertemplate": "variable=plugged<br>OperatorNa=%{x}<br>value=%{y}<extra></extra>",
         "legendgroup": "plugged",
         "marker": {
          "color": "#ab63fa",
          "pattern": {
           "shape": ""
          }
         },
         "name": "plugged",
         "offsetgroup": "plugged",
         "orientation": "v",
         "showlegend": true,
         "textposition": "auto",
         "type": "bar",
         "x": [
          "Aera Energy LLC",
          "California Resources Elk Hills, LLC",
          "Chevron U.S.A. Inc.",
          "Berry Petroleum Company, LLC",
          "Sentinel Peak Resources California LLC"
         ],
         "xaxis": "x",
         "y": [
          21089,
          2345,
          15657,
          null,
          2052
         ],
         "yaxis": "y"
        },
        {
         "alignmentgroup": "True",
         "hovertemplate": "variable=pluggedonly<br>OperatorNa=%{x}<br>value=%{y}<extra></extra>",
         "legendgroup": "pluggedonly",
         "marker": {
          "color": "#FFA15A",
          "pattern": {
           "shape": ""
          }
         },
         "name": "pluggedonly",
         "offsetgroup": "pluggedonly",
         "orientation": "v",
         "showlegend": true,
         "textposition": "auto",
         "type": "bar",
         "x": [
          "Aera Energy LLC",
          "California Resources Elk Hills, LLC",
          "Chevron U.S.A. Inc.",
          "Berry Petroleum Company, LLC",
          "Sentinel Peak Resources California LLC"
         ],
         "xaxis": "x",
         "y": [
          96,
          1,
          3,
          null,
          1
         ],
         "yaxis": "y"
        }
       ],
       "layout": {
        "autosize": true,
        "barmode": "relative",
        "legend": {
         "title": {
          "text": "variable"
         },
         "tracegroupgap": 0
        },
        "template": {
         "data": {
          "bar": [
           {
            "error_x": {
             "color": "#2a3f5f"
            },
            "error_y": {
             "color": "#2a3f5f"
            },
            "marker": {
             "line": {
              "color": "#E5ECF6",
              "width": 0.5
             },
             "pattern": {
              "fillmode": "overlay",
              "size": 10,
              "solidity": 0.2
             }
            },
            "type": "bar"
           }
          ],
          "barpolar": [
           {
            "marker": {
             "line": {
              "color": "#E5ECF6",
              "width": 0.5
             },
             "pattern": {
              "fillmode": "overlay",
              "size": 10,
              "solidity": 0.2
             }
            },
            "type": "barpolar"
           }
          ],
          "carpet": [
           {
            "aaxis": {
             "endlinecolor": "#2a3f5f",
             "gridcolor": "white",
             "linecolor": "white",
             "minorgridcolor": "white",
             "startlinecolor": "#2a3f5f"
            },
            "baxis": {
             "endlinecolor": "#2a3f5f",
             "gridcolor": "white",
             "linecolor": "white",
             "minorgridcolor": "white",
             "startlinecolor": "#2a3f5f"
            },
            "type": "carpet"
           }
          ],
          "choropleth": [
           {
            "colorbar": {
             "outlinewidth": 0,
             "ticks": ""
            },
            "type": "choropleth"
           }
          ],
          "contour": [
           {
            "colorbar": {
             "outlinewidth": 0,
             "ticks": ""
            },
            "colorscale": [
             [
              0,
              "#0d0887"
             ],
             [
              0.1111111111111111,
              "#46039f"
             ],
             [
              0.2222222222222222,
              "#7201a8"
             ],
             [
              0.3333333333333333,
              "#9c179e"
             ],
             [
              0.4444444444444444,
              "#bd3786"
             ],
             [
              0.5555555555555556,
              "#d8576b"
             ],
             [
              0.6666666666666666,
              "#ed7953"
             ],
             [
              0.7777777777777778,
              "#fb9f3a"
             ],
             [
              0.8888888888888888,
              "#fdca26"
             ],
             [
              1,
              "#f0f921"
             ]
            ],
            "type": "contour"
           }
          ],
          "contourcarpet": [
           {
            "colorbar": {
             "outlinewidth": 0,
             "ticks": ""
            },
            "type": "contourcarpet"
           }
          ],
          "heatmap": [
           {
            "colorbar": {
             "outlinewidth": 0,
             "ticks": ""
            },
            "colorscale": [
             [
              0,
              "#0d0887"
             ],
             [
              0.1111111111111111,
              "#46039f"
             ],
             [
              0.2222222222222222,
              "#7201a8"
             ],
             [
              0.3333333333333333,
              "#9c179e"
             ],
             [
              0.4444444444444444,
              "#bd3786"
             ],
             [
              0.5555555555555556,
              "#d8576b"
             ],
             [
              0.6666666666666666,
              "#ed7953"
             ],
             [
              0.7777777777777778,
              "#fb9f3a"
             ],
             [
              0.8888888888888888,
              "#fdca26"
             ],
             [
              1,
              "#f0f921"
             ]
            ],
            "type": "heatmap"
           }
          ],
          "heatmapgl": [
           {
            "colorbar": {
             "outlinewidth": 0,
             "ticks": ""
            },
            "colorscale": [
             [
              0,
              "#0d0887"
             ],
             [
              0.1111111111111111,
              "#46039f"
             ],
             [
              0.2222222222222222,
              "#7201a8"
             ],
             [
              0.3333333333333333,
              "#9c179e"
             ],
             [
              0.4444444444444444,
              "#bd3786"
             ],
             [
              0.5555555555555556,
              "#d8576b"
             ],
             [
              0.6666666666666666,
              "#ed7953"
             ],
             [
              0.7777777777777778,
              "#fb9f3a"
             ],
             [
              0.8888888888888888,
              "#fdca26"
             ],
             [
              1,
              "#f0f921"
             ]
            ],
            "type": "heatmapgl"
           }
          ],
          "histogram": [
           {
            "marker": {
             "pattern": {
              "fillmode": "overlay",
              "size": 10,
              "solidity": 0.2
             }
            },
            "type": "histogram"
           }
          ],
          "histogram2d": [
           {
            "colorbar": {
             "outlinewidth": 0,
             "ticks": ""
            },
            "colorscale": [
             [
              0,
              "#0d0887"
             ],
             [
              0.1111111111111111,
              "#46039f"
             ],
             [
              0.2222222222222222,
              "#7201a8"
             ],
             [
              0.3333333333333333,
              "#9c179e"
             ],
             [
              0.4444444444444444,
              "#bd3786"
             ],
             [
              0.5555555555555556,
              "#d8576b"
             ],
             [
              0.6666666666666666,
              "#ed7953"
             ],
             [
              0.7777777777777778,
              "#fb9f3a"
             ],
             [
              0.8888888888888888,
              "#fdca26"
             ],
             [
              1,
              "#f0f921"
             ]
            ],
            "type": "histogram2d"
           }
          ],
          "histogram2dcontour": [
           {
            "colorbar": {
             "outlinewidth": 0,
             "ticks": ""
            },
            "colorscale": [
             [
              0,
              "#0d0887"
             ],
             [
              0.1111111111111111,
              "#46039f"
             ],
             [
              0.2222222222222222,
              "#7201a8"
             ],
             [
              0.3333333333333333,
              "#9c179e"
             ],
             [
              0.4444444444444444,
              "#bd3786"
             ],
             [
              0.5555555555555556,
              "#d8576b"
             ],
             [
              0.6666666666666666,
              "#ed7953"
             ],
             [
              0.7777777777777778,
              "#fb9f3a"
             ],
             [
              0.8888888888888888,
              "#fdca26"
             ],
             [
              1,
              "#f0f921"
             ]
            ],
            "type": "histogram2dcontour"
           }
          ],
          "mesh3d": [
           {
            "colorbar": {
             "outlinewidth": 0,
             "ticks": ""
            },
            "type": "mesh3d"
           }
          ],
          "parcoords": [
           {
            "line": {
             "colorbar": {
              "outlinewidth": 0,
              "ticks": ""
             }
            },
            "type": "parcoords"
           }
          ],
          "pie": [
           {
            "automargin": true,
            "type": "pie"
           }
          ],
          "scatter": [
           {
            "fillpattern": {
             "fillmode": "overlay",
             "size": 10,
             "solidity": 0.2
            },
            "type": "scatter"
           }
          ],
          "scatter3d": [
           {
            "line": {
             "colorbar": {
              "outlinewidth": 0,
              "ticks": ""
             }
            },
            "marker": {
             "colorbar": {
              "outlinewidth": 0,
              "ticks": ""
             }
            },
            "type": "scatter3d"
           }
          ],
          "scattercarpet": [
           {
            "marker": {
             "colorbar": {
              "outlinewidth": 0,
              "ticks": ""
             }
            },
            "type": "scattercarpet"
           }
          ],
          "scattergeo": [
           {
            "marker": {
             "colorbar": {
              "outlinewidth": 0,
              "ticks": ""
             }
            },
            "type": "scattergeo"
           }
          ],
          "scattergl": [
           {
            "marker": {
             "colorbar": {
              "outlinewidth": 0,
              "ticks": ""
             }
            },
            "type": "scattergl"
           }
          ],
          "scattermapbox": [
           {
            "marker": {
             "colorbar": {
              "outlinewidth": 0,
              "ticks": ""
             }
            },
            "type": "scattermapbox"
           }
          ],
          "scatterpolar": [
           {
            "marker": {
             "colorbar": {
              "outlinewidth": 0,
              "ticks": ""
             }
            },
            "type": "scatterpolar"
           }
          ],
          "scatterpolargl": [
           {
            "marker": {
             "colorbar": {
              "outlinewidth": 0,
              "ticks": ""
             }
            },
            "type": "scatterpolargl"
           }
          ],
          "scatterternary": [
           {
            "marker": {
             "colorbar": {
              "outlinewidth": 0,
              "ticks": ""
             }
            },
            "type": "scatterternary"
           }
          ],
          "surface": [
           {
            "colorbar": {
             "outlinewidth": 0,
             "ticks": ""
            },
            "colorscale": [
             [
              0,
              "#0d0887"
             ],
             [
              0.1111111111111111,
              "#46039f"
             ],
             [
              0.2222222222222222,
              "#7201a8"
             ],
             [
              0.3333333333333333,
              "#9c179e"
             ],
             [
              0.4444444444444444,
              "#bd3786"
             ],
             [
              0.5555555555555556,
              "#d8576b"
             ],
             [
              0.6666666666666666,
              "#ed7953"
             ],
             [
              0.7777777777777778,
              "#fb9f3a"
             ],
             [
              0.8888888888888888,
              "#fdca26"
             ],
             [
              1,
              "#f0f921"
             ]
            ],
            "type": "surface"
           }
          ],
          "table": [
           {
            "cells": {
             "fill": {
              "color": "#EBF0F8"
             },
             "line": {
              "color": "white"
             }
            },
            "header": {
             "fill": {
              "color": "#C8D4E3"
             },
             "line": {
              "color": "white"
             }
            },
            "type": "table"
           }
          ]
         },
         "layout": {
          "annotationdefaults": {
           "arrowcolor": "#2a3f5f",
           "arrowhead": 0,
           "arrowwidth": 1
          },
          "autotypenumbers": "strict",
          "coloraxis": {
           "colorbar": {
            "outlinewidth": 0,
            "ticks": ""
           }
          },
          "colorscale": {
           "diverging": [
            [
             0,
             "#8e0152"
            ],
            [
             0.1,
             "#c51b7d"
            ],
            [
             0.2,
             "#de77ae"
            ],
            [
             0.3,
             "#f1b6da"
            ],
            [
             0.4,
             "#fde0ef"
            ],
            [
             0.5,
             "#f7f7f7"
            ],
            [
             0.6,
             "#e6f5d0"
            ],
            [
             0.7,
             "#b8e186"
            ],
            [
             0.8,
             "#7fbc41"
            ],
            [
             0.9,
             "#4d9221"
            ],
            [
             1,
             "#276419"
            ]
           ],
           "sequential": [
            [
             0,
             "#0d0887"
            ],
            [
             0.1111111111111111,
             "#46039f"
            ],
            [
             0.2222222222222222,
             "#7201a8"
            ],
            [
             0.3333333333333333,
             "#9c179e"
            ],
            [
             0.4444444444444444,
             "#bd3786"
            ],
            [
             0.5555555555555556,
             "#d8576b"
            ],
            [
             0.6666666666666666,
             "#ed7953"
            ],
            [
             0.7777777777777778,
             "#fb9f3a"
            ],
            [
             0.8888888888888888,
             "#fdca26"
            ],
            [
             1,
             "#f0f921"
            ]
           ],
           "sequentialminus": [
            [
             0,
             "#0d0887"
            ],
            [
             0.1111111111111111,
             "#46039f"
            ],
            [
             0.2222222222222222,
             "#7201a8"
            ],
            [
             0.3333333333333333,
             "#9c179e"
            ],
            [
             0.4444444444444444,
             "#bd3786"
            ],
            [
             0.5555555555555556,
             "#d8576b"
            ],
            [
             0.6666666666666666,
             "#ed7953"
            ],
            [
             0.7777777777777778,
             "#fb9f3a"
            ],
            [
             0.8888888888888888,
             "#fdca26"
            ],
            [
             1,
             "#f0f921"
            ]
           ]
          },
          "colorway": [
           "#636efa",
           "#EF553B",
           "#00cc96",
           "#ab63fa",
           "#FFA15A",
           "#19d3f3",
           "#FF6692",
           "#B6E880",
           "#FF97FF",
           "#FECB52"
          ],
          "font": {
           "color": "#2a3f5f"
          },
          "geo": {
           "bgcolor": "white",
           "lakecolor": "white",
           "landcolor": "#E5ECF6",
           "showlakes": true,
           "showland": true,
           "subunitcolor": "white"
          },
          "hoverlabel": {
           "align": "left"
          },
          "hovermode": "closest",
          "mapbox": {
           "style": "light"
          },
          "paper_bgcolor": "white",
          "plot_bgcolor": "#E5ECF6",
          "polar": {
           "angularaxis": {
            "gridcolor": "white",
            "linecolor": "white",
            "ticks": ""
           },
           "bgcolor": "#E5ECF6",
           "radialaxis": {
            "gridcolor": "white",
            "linecolor": "white",
            "ticks": ""
           }
          },
          "scene": {
           "xaxis": {
            "backgroundcolor": "#E5ECF6",
            "gridcolor": "white",
            "gridwidth": 2,
            "linecolor": "white",
            "showbackground": true,
            "ticks": "",
            "zerolinecolor": "white"
           },
           "yaxis": {
            "backgroundcolor": "#E5ECF6",
            "gridcolor": "white",
            "gridwidth": 2,
            "linecolor": "white",
            "showbackground": true,
            "ticks": "",
            "zerolinecolor": "white"
           },
           "zaxis": {
            "backgroundcolor": "#E5ECF6",
            "gridcolor": "white",
            "gridwidth": 2,
            "linecolor": "white",
            "showbackground": true,
            "ticks": "",
            "zerolinecolor": "white"
           }
          },
          "shapedefaults": {
           "line": {
            "color": "#2a3f5f"
           }
          },
          "ternary": {
           "aaxis": {
            "gridcolor": "white",
            "linecolor": "white",
            "ticks": ""
           },
           "baxis": {
            "gridcolor": "white",
            "linecolor": "white",
            "ticks": ""
           },
           "bgcolor": "#E5ECF6",
           "caxis": {
            "gridcolor": "white",
            "linecolor": "white",
            "ticks": ""
           }
          },
          "title": {
           "x": 0.05
          },
          "xaxis": {
           "automargin": true,
           "gridcolor": "white",
           "linecolor": "white",
           "ticks": "",
           "title": {
            "standoff": 15
           },
           "zerolinecolor": "white",
           "zerolinewidth": 2
          },
          "yaxis": {
           "automargin": true,
           "gridcolor": "white",
           "linecolor": "white",
           "ticks": "",
           "title": {
            "standoff": 15
           },
           "zerolinecolor": "white",
           "zerolinewidth": 2
          }
         }
        },
        "title": {
         "text": "Oil & Gas Wells in Kern County"
        },
        "xaxis": {
         "anchor": "y",
         "autorange": true,
         "domain": [
          0,
          1
         ],
         "range": [
          -0.5,
          4.5
         ],
         "title": {
          "text": "OperatorNa"
         },
         "type": "category"
        },
        "yaxis": {
         "anchor": "x",
         "autorange": true,
         "domain": [
          0,
          1
         ],
         "range": [
          0,
          36834.73684210526
         ],
         "title": {
          "text": "value"
         },
         "type": "linear"
        }
       }
      },
      "image/png": "[encoded data removed]",
      "text/html": [
       "<div>                            <div id=\"ac23620a-5f68-410e-ad99-ff1d7814c1f4\" class=\"plotly-graph-div\" style=\"height:525px; width:100%;\"></div>            <script type=\"text/javascript\">                require([\"plotly\"], function(Plotly) {                    window.PLOTLYENV=window.PLOTLYENV || {};                                    if (document.getElementById(\"ac23620a-5f68-410e-ad99-ff1d7814c1f4\")) {                    Plotly.newPlot(                        \"ac23620a-5f68-410e-ad99-ff1d7814c1f4\",                        [{\"alignmentgroup\":\"True\",\"hovertemplate\":\"variable=active<br>OperatorNa=%{x}<br>value=%{y}<extra></extra>\",\"legendgroup\":\"active\",\"marker\":{\"color\":\"#636efa\",\"pattern\":{\"shape\":\"\"}},\"name\":\"active\",\"offsetgroup\":\"active\",\"orientation\":\"v\",\"showlegend\":true,\"textposition\":\"auto\",\"x\":[\"Aera Energy LLC\",\"California Resources Elk Hills, LLC\",\"Chevron U.S.A. Inc.\",\"Berry Petroleum Company, LLC\",\"Sentinel Peak Resources California LLC\"],\"xaxis\":\"x\",\"y\":[8223.0,3670.0,2610.0,1417.0,1828.0],\"yaxis\":\"y\",\"type\":\"bar\"},{\"alignmentgroup\":\"True\",\"hovertemplate\":\"variable=new<br>OperatorNa=%{x}<br>value=%{y}<extra></extra>\",\"legendgroup\":\"new\",\"marker\":{\"color\":\"#EF553B\",\"pattern\":{\"shape\":\"\"}},\"name\":\"new\",\"offsetgroup\":\"new\",\"orientation\":\"v\",\"showlegend\":true,\"textposition\":\"auto\",\"x\":[\"Aera Energy LLC\",\"California Resources Elk Hills, LLC\",\"Chevron U.S.A. Inc.\",\"Berry Petroleum Company, LLC\",\"Sentinel Peak Resources California LLC\"],\"xaxis\":\"x\",\"y\":[372.0,352.0,226.0,null,7.0],\"yaxis\":\"y\",\"type\":\"bar\"},{\"alignmentgroup\":\"True\",\"hovertemplate\":\"variable=idle<br>OperatorNa=%{x}<br>value=%{y}<extra></extra>\",\"legendgroup\":\"idle\",\"marker\":{\"color\":\"#00cc96\",\"pattern\":{\"shape\":\"\"}},\"name\":\"idle\",\"offsetgroup\":\"idle\",\"orientation\":\"v\",\"showlegend\":true,\"textposition\":\"auto\",\"x\":[\"Aera Energy LLC\",\"California Resources Elk Hills, LLC\",\"Chevron U.S.A. Inc.\",\"Berry Petroleum Company, LLC\",\"Sentinel Peak Resources California LLC\"],\"xaxis\":\"x\",\"y\":[5213.0,2305.0,1830.0,1677.0,976.0],\"yaxis\":\"y\",\"type\":\"bar\"},{\"alignmentgroup\":\"True\",\"hovertemplate\":\"variable=plugged<br>OperatorNa=%{x}<br>value=%{y}<extra></extra>\",\"legendgroup\":\"plugged\",\"marker\":{\"color\":\"#ab63fa\",\"pattern\":{\"shape\":\"\"}},\"name\":\"plugged\",\"offsetgroup\":\"plugged\",\"orientation\":\"v\",\"showlegend\":true,\"textposition\":\"auto\",\"x\":[\"Aera Energy LLC\",\"California Resources Elk Hills, LLC\",\"Chevron U.S.A. Inc.\",\"Berry Petroleum Company, LLC\",\"Sentinel Peak Resources California LLC\"],\"xaxis\":\"x\",\"y\":[21089.0,2345.0,15657.0,null,2052.0],\"yaxis\":\"y\",\"type\":\"bar\"},{\"alignmentgroup\":\"True\",\"hovertemplate\":\"variable=pluggedonly<br>OperatorNa=%{x}<br>value=%{y}<extra></extra>\",\"legendgroup\":\"pluggedonly\",\"marker\":{\"color\":\"#FFA15A\",\"pattern\":{\"shape\":\"\"}},\"name\":\"pluggedonly\",\"offsetgroup\":\"pluggedonly\",\"orientation\":\"v\",\"showlegend\":true,\"textposition\":\"auto\",\"x\":[\"Aera Energy LLC\",\"California Resources Elk Hills, LLC\",\"Chevron U.S.A. Inc.\",\"Berry Petroleum Company, LLC\",\"Sentinel Peak Resources California LLC\"],\"xaxis\":\"x\",\"y\":[96.0,1.0,3.0,null,1.0],\"yaxis\":\"y\",\"type\":\"bar\"}],                        {\"template\":{\"data\":{\"histogram2dcontour\":[{\"type\":\"histogram2dcontour\",\"colorbar\":{\"outlinewidth\":0,\"ticks\":\"\"},\"colorscale\":[[0.0,\"#0d0887\"],[0.1111111111111111,\"#46039f\"],[0.2222222222222222,\"#7201a8\"],[0.3333333333333333,\"#9c179e\"],[0.4444444444444444,\"#bd3786\"],[0.5555555555555556,\"#d8576b\"],[0.6666666666666666,\"#ed7953\"],[0.7777777777777778,\"#fb9f3a\"],[0.8888888888888888,\"#fdca26\"],[1.0,\"#f0f921\"]]}],\"choropleth\":[{\"type\":\"choropleth\",\"colorbar\":{\"outlinewidth\":0,\"ticks\":\"\"}}],\"histogram2d\":[{\"type\":\"histogram2d\",\"colorbar\":{\"outlinewidth\":0,\"ticks\":\"\"},\"colorscale\":[[0.0,\"#0d0887\"],[0.1111111111111111,\"#46039f\"],[0.2222222222222222,\"#7201a8\"],[0.3333333333333333,\"#9c179e\"],[0.4444444444444444,\"#bd3786\"],[0.5555555555555556,\"#d8576b\"],[0.6666666666666666,\"#ed7953\"],[0.7777777777777778,\"#fb9f3a\"],[0.8888888888888888,\"#fdca26\"],[1.0,\"#f0f921\"]]}],\"heatmap\":[{\"type\":\"heatmap\",\"colorbar\":{\"outlinewidth\":0,\"ticks\":\"\"},\"colorscale\":[[0.0,\"#0d0887\"],[0.1111111111111111,\"#46039f\"],[0.2222222222222222,\"#7201a8\"],[0.3333333333333333,\"#9c179e\"],[0.4444444444444444,\"#bd3786\"],[0.5555555555555556,\"#d8576b\"],[0.6666666666666666,\"#ed7953\"],[0.7777777777777778,\"#fb9f3a\"],[0.8888888888888888,\"#fdca26\"],[1.0,\"#f0f921\"]]}],\"heatmapgl\":[{\"type\":\"heatmapgl\",\"colorbar\":{\"outlinewidth\":0,\"ticks\":\"\"},\"colorscale\":[[0.0,\"#0d0887\"],[0.1111111111111111,\"#46039f\"],[0.2222222222222222,\"#7201a8\"],[0.3333333333333333,\"#9c179e\"],[0.4444444444444444,\"#bd3786\"],[0.5555555555555556,\"#d8576b\"],[0.6666666666666666,\"#ed7953\"],[0.7777777777777778,\"#fb9f3a\"],[0.8888888888888888,\"#fdca26\"],[1.0,\"#f0f921\"]]}],\"contourcarpet\":[{\"type\":\"contourcarpet\",\"colorbar\":{\"outlinewidth\":0,\"ticks\":\"\"}}],\"contour\":[{\"type\":\"contour\",\"colorbar\":{\"outlinewidth\":0,\"ticks\":\"\"},\"colorscale\":[[0.0,\"#0d0887\"],[0.1111111111111111,\"#46039f\"],[0.2222222222222222,\"#7201a8\"],[0.3333333333333333,\"#9c179e\"],[0.4444444444444444,\"#bd3786\"],[0.5555555555555556,\"#d8576b\"],[0.6666666666666666,\"#ed7953\"],[0.7777777777777778,\"#fb9f3a\"],[0.8888888888888888,\"#fdca26\"],[1.0,\"#f0f921\"]]}],\"surface\":[{\"type\":\"surface\",\"colorbar\":{\"outlinewidth\":0,\"ticks\":\"\"},\"colorscale\":[[0.0,\"#0d0887\"],[0.1111111111111111,\"#46039f\"],[0.2222222222222222,\"#7201a8\"],[0.3333333333333333,\"#9c179e\"],[0.4444444444444444,\"#bd3786\"],[0.5555555555555556,\"#d8576b\"],[0.6666666666666666,\"#ed7953\"],[0.7777777777777778,\"#fb9f3a\"],[0.8888888888888888,\"#fdca26\"],[1.0,\"#f0f921\"]]}],\"mesh3d\":[{\"type\":\"mesh3d\",\"colorbar\":{\"outlinewidth\":0,\"ticks\":\"\"}}],\"scatter\":[{\"fillpattern\":{\"fillmode\":\"overlay\",\"size\":10,\"solidity\":0.2},\"type\":\"scatter\"}],\"parcoords\":[{\"type\":\"parcoords\",\"line\":{\"colorbar\":{\"outlinewidth\":0,\"ticks\":\"\"}}}],\"scatterpolargl\":[{\"type\":\"scatterpolargl\",\"marker\":{\"colorbar\":{\"outlinewidth\":0,\"ticks\":\"\"}}}],\"bar\":[{\"error_x\":{\"color\":\"#2a3f5f\"},\"error_y\":{\"color\":\"#2a3f5f\"},\"marker\":{\"line\":{\"color\":\"#E5ECF6\",\"width\":0.5},\"pattern\":{\"fillmode\":\"overlay\",\"size\":10,\"solidity\":0.2}},\"type\":\"bar\"}],\"scattergeo\":[{\"type\":\"scattergeo\",\"marker\":{\"colorbar\":{\"outlinewidth\":0,\"ticks\":\"\"}}}],\"scatterpolar\":[{\"type\":\"scatterpolar\",\"marker\":{\"colorbar\":{\"outlinewidth\":0,\"ticks\":\"\"}}}],\"histogram\":[{\"marker\":{\"pattern\":{\"fillmode\":\"overlay\",\"size\":10,\"solidity\":0.2}},\"type\":\"histogram\"}],\"scattergl\":[{\"type\":\"scattergl\",\"marker\":{\"colorbar\":{\"outlinewidth\":0,\"ticks\":\"\"}}}],\"scatter3d\":[{\"type\":\"scatter3d\",\"line\":{\"colorbar\":{\"outlinewidth\":0,\"ticks\":\"\"}},\"marker\":{\"colorbar\":{\"outlinewidth\":0,\"ticks\":\"\"}}}],\"scattermapbox\":[{\"type\":\"scattermapbox\",\"marker\":{\"colorbar\":{\"outlinewidth\":0,\"ticks\":\"\"}}}],\"scatterternary\":[{\"type\":\"scatterternary\",\"marker\":{\"colorbar\":{\"outlinewidth\":0,\"ticks\":\"\"}}}],\"scattercarpet\":[{\"type\":\"scattercarpet\",\"marker\":{\"colorbar\":{\"outlinewidth\":0,\"ticks\":\"\"}}}],\"carpet\":[{\"aaxis\":{\"endlinecolor\":\"#2a3f5f\",\"gridcolor\":\"white\",\"linecolor\":\"white\",\"minorgridcolor\":\"white\",\"startlinecolor\":\"#2a3f5f\"},\"baxis\":{\"endlinecolor\":\"#2a3f5f\",\"gridcolor\":\"white\",\"linecolor\":\"white\",\"minorgridcolor\":\"white\",\"startlinecolor\":\"#2a3f5f\"},\"type\":\"carpet\"}],\"table\":[{\"cells\":{\"fill\":{\"color\":\"#EBF0F8\"},\"line\":{\"color\":\"white\"}},\"header\":{\"fill\":{\"color\":\"#C8D4E3\"},\"line\":{\"color\":\"white\"}},\"type\":\"table\"}],\"barpolar\":[{\"marker\":{\"line\":{\"color\":\"#E5ECF6\",\"width\":0.5},\"pattern\":{\"fillmode\":\"overlay\",\"size\":10,\"solidity\":0.2}},\"type\":\"barpolar\"}],\"pie\":[{\"automargin\":true,\"type\":\"pie\"}]},\"layout\":{\"autotypenumbers\":\"strict\",\"colorway\":[\"#636efa\",\"#EF553B\",\"#00cc96\",\"#ab63fa\",\"#FFA15A\",\"#19d3f3\",\"#FF6692\",\"#B6E880\",\"#FF97FF\",\"#FECB52\"],\"font\":{\"color\":\"#2a3f5f\"},\"hovermode\":\"closest\",\"hoverlabel\":{\"align\":\"left\"},\"paper_bgcolor\":\"white\",\"plot_bgcolor\":\"#E5ECF6\",\"polar\":{\"bgcolor\":\"#E5ECF6\",\"angularaxis\":{\"gridcolor\":\"white\",\"linecolor\":\"white\",\"ticks\":\"\"},\"radialaxis\":{\"gridcolor\":\"white\",\"linecolor\":\"white\",\"ticks\":\"\"}},\"ternary\":{\"bgcolor\":\"#E5ECF6\",\"aaxis\":{\"gridcolor\":\"white\",\"linecolor\":\"white\",\"ticks\":\"\"},\"baxis\":{\"gridcolor\":\"white\",\"linecolor\":\"white\",\"ticks\":\"\"},\"caxis\":{\"gridcolor\":\"white\",\"linecolor\":\"white\",\"ticks\":\"\"}},\"coloraxis\":{\"colorbar\":{\"outlinewidth\":0,\"ticks\":\"\"}},\"colorscale\":{\"sequential\":[[0.0,\"#0d0887\"],[0.1111111111111111,\"#46039f\"],[0.2222222222222222,\"#7201a8\"],[0.3333333333333333,\"#9c179e\"],[0.4444444444444444,\"#bd3786\"],[0.5555555555555556,\"#d8576b\"],[0.6666666666666666,\"#ed7953\"],[0.7777777777777778,\"#fb9f3a\"],[0.8888888888888888,\"#fdca26\"],[1.0,\"#f0f921\"]],\"sequentialminus\":[[0.0,\"#0d0887\"],[0.1111111111111111,\"#46039f\"],[0.2222222222222222,\"#7201a8\"],[0.3333333333333333,\"#9c179e\"],[0.4444444444444444,\"#bd3786\"],[0.5555555555555556,\"#d8576b\"],[0.6666666666666666,\"#ed7953\"],[0.7777777777777778,\"#fb9f3a\"],[0.8888888888888888,\"#fdca26\"],[1.0,\"#f0f921\"]],\"diverging\":[[0,\"#8e0152\"],[0.1,\"#c51b7d\"],[0.2,\"#de77ae\"],[0.3,\"#f1b6da\"],[0.4,\"#fde0ef\"],[0.5,\"#f7f7f7\"],[0.6,\"#e6f5d0\"],[0.7,\"#b8e186\"],[0.8,\"#7fbc41\"],[0.9,\"#4d9221\"],[1,\"#276419\"]]},\"xaxis\":{\"gridcolor\":\"white\",\"linecolor\":\"white\",\"ticks\":\"\",\"title\":{\"standoff\":15},\"zerolinecolor\":\"white\",\"automargin\":true,\"zerolinewidth\":2},\"yaxis\":{\"gridcolor\":\"white\",\"linecolor\":\"white\",\"ticks\":\"\",\"title\":{\"standoff\":15},\"zerolinecolor\":\"white\",\"automargin\":true,\"zerolinewidth\":2},\"scene\":{\"xaxis\":{\"backgroundcolor\":\"#E5ECF6\",\"gridcolor\":\"white\",\"linecolor\":\"white\",\"showbackground\":true,\"ticks\":\"\",\"zerolinecolor\":\"white\",\"gridwidth\":2},\"yaxis\":{\"backgroundcolor\":\"#E5ECF6\",\"gridcolor\":\"white\",\"linecolor\":\"white\",\"showbackground\":true,\"ticks\":\"\",\"zerolinecolor\":\"white\",\"gridwidth\":2},\"zaxis\":{\"backgroundcolor\":\"#E5ECF6\",\"gridcolor\":\"white\",\"linecolor\":\"white\",\"showbackground\":true,\"ticks\":\"\",\"zerolinecolor\":\"white\",\"gridwidth\":2}},\"shapedefaults\":{\"line\":{\"color\":\"#2a3f5f\"}},\"annotationdefaults\":{\"arrowcolor\":\"#2a3f5f\",\"arrowhead\":0,\"arrowwidth\":1},\"geo\":{\"bgcolor\":\"white\",\"landcolor\":\"#E5ECF6\",\"subunitcolor\":\"white\",\"showland\":true,\"showlakes\":true,\"lakecolor\":\"white\"},\"title\":{\"x\":0.05},\"mapbox\":{\"style\":\"light\"}}},\"xaxis\":{\"anchor\":\"y\",\"domain\":[0.0,1.0],\"title\":{\"text\":\"OperatorNa\"}},\"yaxis\":{\"anchor\":\"x\",\"domain\":[0.0,1.0],\"title\":{\"text\":\"value\"}},\"legend\":{\"title\":{\"text\":\"variable\"},\"tracegroupgap\":0},\"title\":{\"text\":\"Oil & Gas Wells in Kern County\"},\"barmode\":\"relative\"},                        {\"responsive\": true}                    ).then(function(){\n",
       "                            \n",
       "var gd = document.getElementById('ac23620a-5f68-410e-ad99-ff1d7814c1f4');\n",
       "var x = new MutationObserver(function (mutations, observer) {{\n",
       "        var display = window.getComputedStyle(gd).display;\n",
       "        if (!display || display === 'none') {{\n",
       "            console.log([gd, 'removed!']);\n",
       "            Plotly.purge(gd);\n",
       "            observer.disconnect();\n",
       "        }}\n",
       "}});\n",
       "\n",
       "// Listen for the removal of the full notebook cells\n",
       "var notebookContainer = gd.closest('#notebook-container');\n",
       "if (notebookContainer) {{\n",
       "    x.observe(notebookContainer, {childList: true});\n",
       "}}\n",
       "\n",
       "// Listen for the clearing of the current output cell\n",
       "var outputEl = gd.closest('.output');\n",
       "if (outputEl) {{\n",
       "    x.observe(outputEl, {childList: true});\n",
       "}}\n",
       "\n",
       "                        })                };                });            </script>        </div>"
      ]
     },
     "metadata": {},
     "output_type": "display_data"
    }
   ],
   "source": [
    "fig = px.bar(oilsubset2.head(5), x=\"OperatorNa\", y=[\"active\", \"new\", \"idle\",\"plugged\",\"pluggedonly\"], title=\"Oil & Gas Wells in Kern County\")\n",
    "fig.show()"
   ]
  },
  {
   "cell_type": "markdown",
   "id": "3add0d89-3196-4ce0-ab65-933f7a6e911a",
   "metadata": {},
   "source": [
    "Here I make the chart look more visually compelling. The chart is interactive as the legend can be toggled to show the number of any given status or combination of status's. This shows that plugged wells constitute the largest well status followed by active and then idle wells. While the later two are the most important for assessing current emissions, plugged oil wells also could provide insight into understanding cumulative health and land impacts in an area. "
   ]
  },
  {
   "cell_type": "code",
   "execution_count": 41,
   "id": "64ec9dc5-a642-40be-bc96-09e32c45aa3a",
   "metadata": {},
   "outputs": [
    {
     "data": {
      "application/vnd.plotly.v1+json": {
       "config": {
        "plotlyServerURL": "https://plot.ly"
       },
       "data": [
        {
         "alignmentgroup": "True",
         "hovertemplate": "variable=plugged<br>Oil & Gas Operator=%{x}<br>Number of wells=%{y}<extra></extra>",
         "legendgroup": "plugged",
         "marker": {
          "color": "#636efa",
          "pattern": {
           "shape": ""
          }
         },
         "name": "plugged",
         "offsetgroup": "plugged",
         "orientation": "v",
         "showlegend": true,
         "textfont": {
          "color": "#444",
          "size": 10
         },
         "textposition": "inside",
         "texttemplate": "%{y}",
         "type": "bar",
         "visible": true,
         "x": [
          "Aera Energy LLC",
          "California Resources Elk Hills, LLC",
          "Chevron U.S.A. Inc.",
          "Berry Petroleum Company, LLC",
          "Sentinel Peak Resources California LLC"
         ],
         "xaxis": "x",
         "y": [
          21089,
          2345,
          15657,
          null,
          2052
         ],
         "yaxis": "y"
        },
        {
         "alignmentgroup": "True",
         "hovertemplate": "variable=pluggedonly<br>Oil & Gas Operator=%{x}<br>Number of wells=%{y}<extra></extra>",
         "legendgroup": "pluggedonly",
         "marker": {
          "color": "#EF553B",
          "pattern": {
           "shape": ""
          }
         },
         "name": "pluggedonly",
         "offsetgroup": "pluggedonly",
         "orientation": "v",
         "showlegend": true,
         "textfont": {
          "color": "#444",
          "size": 10
         },
         "textposition": "inside",
         "texttemplate": "%{y}",
         "type": "bar",
         "x": [
          "Aera Energy LLC",
          "California Resources Elk Hills, LLC",
          "Chevron U.S.A. Inc.",
          "Berry Petroleum Company, LLC",
          "Sentinel Peak Resources California LLC"
         ],
         "xaxis": "x",
         "y": [
          96,
          1,
          3,
          null,
          1
         ],
         "yaxis": "y"
        },
        {
         "alignmentgroup": "True",
         "hovertemplate": "variable=idle<br>Oil & Gas Operator=%{x}<br>Number of wells=%{y}<extra></extra>",
         "legendgroup": "idle",
         "marker": {
          "color": "#00cc96",
          "pattern": {
           "shape": ""
          }
         },
         "name": "idle",
         "offsetgroup": "idle",
         "orientation": "v",
         "showlegend": true,
         "textfont": {
          "color": "#444",
          "size": 10
         },
         "textposition": "inside",
         "texttemplate": "%{y}",
         "type": "bar",
         "x": [
          "Aera Energy LLC",
          "California Resources Elk Hills, LLC",
          "Chevron U.S.A. Inc.",
          "Berry Petroleum Company, LLC",
          "Sentinel Peak Resources California LLC"
         ],
         "xaxis": "x",
         "y": [
          5213,
          2305,
          1830,
          1677,
          976
         ],
         "yaxis": "y"
        },
        {
         "alignmentgroup": "True",
         "hovertemplate": "variable=active<br>Oil & Gas Operator=%{x}<br>Number of wells=%{y}<extra></extra>",
         "legendgroup": "active",
         "marker": {
          "color": "#ab63fa",
          "pattern": {
           "shape": ""
          }
         },
         "name": "active",
         "offsetgroup": "active",
         "orientation": "v",
         "showlegend": true,
         "textfont": {
          "color": "#444",
          "size": 10
         },
         "textposition": "inside",
         "texttemplate": "%{y}",
         "type": "bar",
         "x": [
          "Aera Energy LLC",
          "California Resources Elk Hills, LLC",
          "Chevron U.S.A. Inc.",
          "Berry Petroleum Company, LLC",
          "Sentinel Peak Resources California LLC"
         ],
         "xaxis": "x",
         "y": [
          8223,
          3670,
          2610,
          1417,
          1828
         ],
         "yaxis": "y"
        },
        {
         "alignmentgroup": "True",
         "hovertemplate": "variable=new<br>Oil & Gas Operator=%{x}<br>Number of wells=%{y}<extra></extra>",
         "legendgroup": "new",
         "marker": {
          "color": "#FFA15A",
          "pattern": {
           "shape": ""
          }
         },
         "name": "new",
         "offsetgroup": "new",
         "orientation": "v",
         "showlegend": true,
         "textfont": {
          "color": "#444",
          "size": 10
         },
         "textposition": "inside",
         "texttemplate": "%{y}",
         "type": "bar",
         "x": [
          "Aera Energy LLC",
          "California Resources Elk Hills, LLC",
          "Chevron U.S.A. Inc.",
          "Berry Petroleum Company, LLC",
          "Sentinel Peak Resources California LLC"
         ],
         "xaxis": "x",
         "y": [
          372,
          352,
          226,
          null,
          7
         ],
         "yaxis": "y"
        }
       ],
       "layout": {
        "barmode": "relative",
        "height": 600,
        "legend": {
         "title": {
          "text": "Well status"
         },
         "tracegroupgap": 0
        },
        "template": {
         "data": {
          "bar": [
           {
            "error_x": {
             "color": "#2a3f5f"
            },
            "error_y": {
             "color": "#2a3f5f"
            },
            "marker": {
             "line": {
              "color": "#E5ECF6",
              "width": 0.5
             },
             "pattern": {
              "fillmode": "overlay",
              "size": 10,
              "solidity": 0.2
             }
            },
            "type": "bar"
           }
          ],
          "barpolar": [
           {
            "marker": {
             "line": {
              "color": "#E5ECF6",
              "width": 0.5
             },
             "pattern": {
              "fillmode": "overlay",
              "size": 10,
              "solidity": 0.2
             }
            },
            "type": "barpolar"
           }
          ],
          "carpet": [
           {
            "aaxis": {
             "endlinecolor": "#2a3f5f",
             "gridcolor": "white",
             "linecolor": "white",
             "minorgridcolor": "white",
             "startlinecolor": "#2a3f5f"
            },
            "baxis": {
             "endlinecolor": "#2a3f5f",
             "gridcolor": "white",
             "linecolor": "white",
             "minorgridcolor": "white",
             "startlinecolor": "#2a3f5f"
            },
            "type": "carpet"
           }
          ],
          "choropleth": [
           {
            "colorbar": {
             "outlinewidth": 0,
             "ticks": ""
            },
            "type": "choropleth"
           }
          ],
          "contour": [
           {
            "colorbar": {
             "outlinewidth": 0,
             "ticks": ""
            },
            "colorscale": [
             [
              0,
              "#0d0887"
             ],
             [
              0.1111111111111111,
              "#46039f"
             ],
             [
              0.2222222222222222,
              "#7201a8"
             ],
             [
              0.3333333333333333,
              "#9c179e"
             ],
             [
              0.4444444444444444,
              "#bd3786"
             ],
             [
              0.5555555555555556,
              "#d8576b"
             ],
             [
              0.6666666666666666,
              "#ed7953"
             ],
             [
              0.7777777777777778,
              "#fb9f3a"
             ],
             [
              0.8888888888888888,
              "#fdca26"
             ],
             [
              1,
              "#f0f921"
             ]
            ],
            "type": "contour"
           }
          ],
          "contourcarpet": [
           {
            "colorbar": {
             "outlinewidth": 0,
             "ticks": ""
            },
            "type": "contourcarpet"
           }
          ],
          "heatmap": [
           {
            "colorbar": {
             "outlinewidth": 0,
             "ticks": ""
            },
            "colorscale": [
             [
              0,
              "#0d0887"
             ],
             [
              0.1111111111111111,
              "#46039f"
             ],
             [
              0.2222222222222222,
              "#7201a8"
             ],
             [
              0.3333333333333333,
              "#9c179e"
             ],
             [
              0.4444444444444444,
              "#bd3786"
             ],
             [
              0.5555555555555556,
              "#d8576b"
             ],
             [
              0.6666666666666666,
              "#ed7953"
             ],
             [
              0.7777777777777778,
              "#fb9f3a"
             ],
             [
              0.8888888888888888,
              "#fdca26"
             ],
             [
              1,
              "#f0f921"
             ]
            ],
            "type": "heatmap"
           }
          ],
          "heatmapgl": [
           {
            "colorbar": {
             "outlinewidth": 0,
             "ticks": ""
            },
            "colorscale": [
             [
              0,
              "#0d0887"
             ],
             [
              0.1111111111111111,
              "#46039f"
             ],
             [
              0.2222222222222222,
              "#7201a8"
             ],
             [
              0.3333333333333333,
              "#9c179e"
             ],
             [
              0.4444444444444444,
              "#bd3786"
             ],
             [
              0.5555555555555556,
              "#d8576b"
             ],
             [
              0.6666666666666666,
              "#ed7953"
             ],
             [
              0.7777777777777778,
              "#fb9f3a"
             ],
             [
              0.8888888888888888,
              "#fdca26"
             ],
             [
              1,
              "#f0f921"
             ]
            ],
            "type": "heatmapgl"
           }
          ],
          "histogram": [
           {
            "marker": {
             "pattern": {
              "fillmode": "overlay",
              "size": 10,
              "solidity": 0.2
             }
            },
            "type": "histogram"
           }
          ],
          "histogram2d": [
           {
            "colorbar": {
             "outlinewidth": 0,
             "ticks": ""
            },
            "colorscale": [
             [
              0,
              "#0d0887"
             ],
             [
              0.1111111111111111,
              "#46039f"
             ],
             [
              0.2222222222222222,
              "#7201a8"
             ],
             [
              0.3333333333333333,
              "#9c179e"
             ],
             [
              0.4444444444444444,
              "#bd3786"
             ],
             [
              0.5555555555555556,
              "#d8576b"
             ],
             [
              0.6666666666666666,
              "#ed7953"
             ],
             [
              0.7777777777777778,
              "#fb9f3a"
             ],
             [
              0.8888888888888888,
              "#fdca26"
             ],
             [
              1,
              "#f0f921"
             ]
            ],
            "type": "histogram2d"
           }
          ],
          "histogram2dcontour": [
           {
            "colorbar": {
             "outlinewidth": 0,
             "ticks": ""
            },
            "colorscale": [
             [
              0,
              "#0d0887"
             ],
             [
              0.1111111111111111,
              "#46039f"
             ],
             [
              0.2222222222222222,
              "#7201a8"
             ],
             [
              0.3333333333333333,
              "#9c179e"
             ],
             [
              0.4444444444444444,
              "#bd3786"
             ],
             [
              0.5555555555555556,
              "#d8576b"
             ],
             [
              0.6666666666666666,
              "#ed7953"
             ],
             [
              0.7777777777777778,
              "#fb9f3a"
             ],
             [
              0.8888888888888888,
              "#fdca26"
             ],
             [
              1,
              "#f0f921"
             ]
            ],
            "type": "histogram2dcontour"
           }
          ],
          "mesh3d": [
           {
            "colorbar": {
             "outlinewidth": 0,
             "ticks": ""
            },
            "type": "mesh3d"
           }
          ],
          "parcoords": [
           {
            "line": {
             "colorbar": {
              "outlinewidth": 0,
              "ticks": ""
             }
            },
            "type": "parcoords"
           }
          ],
          "pie": [
           {
            "automargin": true,
            "type": "pie"
           }
          ],
          "scatter": [
           {
            "fillpattern": {
             "fillmode": "overlay",
             "size": 10,
             "solidity": 0.2
            },
            "type": "scatter"
           }
          ],
          "scatter3d": [
           {
            "line": {
             "colorbar": {
              "outlinewidth": 0,
              "ticks": ""
             }
            },
            "marker": {
             "colorbar": {
              "outlinewidth": 0,
              "ticks": ""
             }
            },
            "type": "scatter3d"
           }
          ],
          "scattercarpet": [
           {
            "marker": {
             "colorbar": {
              "outlinewidth": 0,
              "ticks": ""
             }
            },
            "type": "scattercarpet"
           }
          ],
          "scattergeo": [
           {
            "marker": {
             "colorbar": {
              "outlinewidth": 0,
              "ticks": ""
             }
            },
            "type": "scattergeo"
           }
          ],
          "scattergl": [
           {
            "marker": {
             "colorbar": {
              "outlinewidth": 0,
              "ticks": ""
             }
            },
            "type": "scattergl"
           }
          ],
          "scattermapbox": [
           {
            "marker": {
             "colorbar": {
              "outlinewidth": 0,
              "ticks": ""
             }
            },
            "type": "scattermapbox"
           }
          ],
          "scatterpolar": [
           {
            "marker": {
             "colorbar": {
              "outlinewidth": 0,
              "ticks": ""
             }
            },
            "type": "scatterpolar"
           }
          ],
          "scatterpolargl": [
           {
            "marker": {
             "colorbar": {
              "outlinewidth": 0,
              "ticks": ""
             }
            },
            "type": "scatterpolargl"
           }
          ],
          "scatterternary": [
           {
            "marker": {
             "colorbar": {
              "outlinewidth": 0,
              "ticks": ""
             }
            },
            "type": "scatterternary"
           }
          ],
          "surface": [
           {
            "colorbar": {
             "outlinewidth": 0,
             "ticks": ""
            },
            "colorscale": [
             [
              0,
              "#0d0887"
             ],
             [
              0.1111111111111111,
              "#46039f"
             ],
             [
              0.2222222222222222,
              "#7201a8"
             ],
             [
              0.3333333333333333,
              "#9c179e"
             ],
             [
              0.4444444444444444,
              "#bd3786"
             ],
             [
              0.5555555555555556,
              "#d8576b"
             ],
             [
              0.6666666666666666,
              "#ed7953"
             ],
             [
              0.7777777777777778,
              "#fb9f3a"
             ],
             [
              0.8888888888888888,
              "#fdca26"
             ],
             [
              1,
              "#f0f921"
             ]
            ],
            "type": "surface"
           }
          ],
          "table": [
           {
            "cells": {
             "fill": {
              "color": "#EBF0F8"
             },
             "line": {
              "color": "white"
             }
            },
            "header": {
             "fill": {
              "color": "#C8D4E3"
             },
             "line": {
              "color": "white"
             }
            },
            "type": "table"
           }
          ]
         },
         "layout": {
          "annotationdefaults": {
           "arrowcolor": "#2a3f5f",
           "arrowhead": 0,
           "arrowwidth": 1
          },
          "autotypenumbers": "strict",
          "coloraxis": {
           "colorbar": {
            "outlinewidth": 0,
            "ticks": ""
           }
          },
          "colorscale": {
           "diverging": [
            [
             0,
             "#8e0152"
            ],
            [
             0.1,
             "#c51b7d"
            ],
            [
             0.2,
             "#de77ae"
            ],
            [
             0.3,
             "#f1b6da"
            ],
            [
             0.4,
             "#fde0ef"
            ],
            [
             0.5,
             "#f7f7f7"
            ],
            [
             0.6,
             "#e6f5d0"
            ],
            [
             0.7,
             "#b8e186"
            ],
            [
             0.8,
             "#7fbc41"
            ],
            [
             0.9,
             "#4d9221"
            ],
            [
             1,
             "#276419"
            ]
           ],
           "sequential": [
            [
             0,
             "#0d0887"
            ],
            [
             0.1111111111111111,
             "#46039f"
            ],
            [
             0.2222222222222222,
             "#7201a8"
            ],
            [
             0.3333333333333333,
             "#9c179e"
            ],
            [
             0.4444444444444444,
             "#bd3786"
            ],
            [
             0.5555555555555556,
             "#d8576b"
            ],
            [
             0.6666666666666666,
             "#ed7953"
            ],
            [
             0.7777777777777778,
             "#fb9f3a"
            ],
            [
             0.8888888888888888,
             "#fdca26"
            ],
            [
             1,
             "#f0f921"
            ]
           ],
           "sequentialminus": [
            [
             0,
             "#0d0887"
            ],
            [
             0.1111111111111111,
             "#46039f"
            ],
            [
             0.2222222222222222,
             "#7201a8"
            ],
            [
             0.3333333333333333,
             "#9c179e"
            ],
            [
             0.4444444444444444,
             "#bd3786"
            ],
            [
             0.5555555555555556,
             "#d8576b"
            ],
            [
             0.6666666666666666,
             "#ed7953"
            ],
            [
             0.7777777777777778,
             "#fb9f3a"
            ],
            [
             0.8888888888888888,
             "#fdca26"
            ],
            [
             1,
             "#f0f921"
            ]
           ]
          },
          "colorway": [
           "#636efa",
           "#EF553B",
           "#00cc96",
           "#ab63fa",
           "#FFA15A",
           "#19d3f3",
           "#FF6692",
           "#B6E880",
           "#FF97FF",
           "#FECB52"
          ],
          "font": {
           "color": "#2a3f5f"
          },
          "geo": {
           "bgcolor": "white",
           "lakecolor": "white",
           "landcolor": "#E5ECF6",
           "showlakes": true,
           "showland": true,
           "subunitcolor": "white"
          },
          "hoverlabel": {
           "align": "left"
          },
          "hovermode": "closest",
          "mapbox": {
           "style": "light"
          },
          "paper_bgcolor": "white",
          "plot_bgcolor": "#E5ECF6",
          "polar": {
           "angularaxis": {
            "gridcolor": "white",
            "linecolor": "white",
            "ticks": ""
           },
           "bgcolor": "#E5ECF6",
           "radialaxis": {
            "gridcolor": "white",
            "linecolor": "white",
            "ticks": ""
           }
          },
          "scene": {
           "xaxis": {
            "backgroundcolor": "#E5ECF6",
            "gridcolor": "white",
            "gridwidth": 2,
            "linecolor": "white",
            "showbackground": true,
            "ticks": "",
            "zerolinecolor": "white"
           },
           "yaxis": {
            "backgroundcolor": "#E5ECF6",
            "gridcolor": "white",
            "gridwidth": 2,
            "linecolor": "white",
            "showbackground": true,
            "ticks": "",
            "zerolinecolor": "white"
           },
           "zaxis": {
            "backgroundcolor": "#E5ECF6",
            "gridcolor": "white",
            "gridwidth": 2,
            "linecolor": "white",
            "showbackground": true,
            "ticks": "",
            "zerolinecolor": "white"
           }
          },
          "shapedefaults": {
           "line": {
            "color": "#2a3f5f"
           }
          },
          "ternary": {
           "aaxis": {
            "gridcolor": "white",
            "linecolor": "white",
            "ticks": ""
           },
           "baxis": {
            "gridcolor": "white",
            "linecolor": "white",
            "ticks": ""
           },
           "bgcolor": "#E5ECF6",
           "caxis": {
            "gridcolor": "white",
            "linecolor": "white",
            "ticks": ""
           }
          },
          "title": {
           "x": 0.05
          },
          "xaxis": {
           "automargin": true,
           "gridcolor": "white",
           "linecolor": "white",
           "ticks": "",
           "title": {
            "standoff": 15
           },
           "zerolinecolor": "white",
           "zerolinewidth": 2
          },
          "yaxis": {
           "automargin": true,
           "gridcolor": "white",
           "linecolor": "white",
           "ticks": "",
           "title": {
            "standoff": 15
           },
           "zerolinecolor": "white",
           "zerolinewidth": 2
          }
         }
        },
        "title": {
         "text": "Top 5 Oil & Gas Well Owners in Kern County"
        },
        "width": 900,
        "xaxis": {
         "anchor": "y",
         "autorange": true,
         "domain": [
          0,
          1
         ],
         "range": [
          -0.5,
          4.5
         ],
         "tickfont": {
          "color": "#aaa",
          "size": 12
         },
         "title": {
          "font": {
           "color": "#aaa",
           "size": 15
          },
          "text": "Oil & Gas Operator"
         },
         "type": "category"
        },
        "yaxis": {
         "anchor": "x",
         "autorange": true,
         "domain": [
          0,
          1
         ],
         "range": [
          0,
          36834.73684210527
         ],
         "tickfont": {
          "color": "#aaa",
          "size": 12
         },
         "title": {
          "font": {
           "color": "#aaa",
           "size": 15
          },
          "text": "Number of wells"
         },
         "type": "linear"
        }
       }
      },
      "image/png": "[encoded data removed]",
      "text/html": [
       "<div>                            <div id=\"be90ef36-4b69-4ae1-affa-1a5461c50d49\" class=\"plotly-graph-div\" style=\"height:600px; width:900px;\"></div>            <script type=\"text/javascript\">                require([\"plotly\"], function(Plotly) {                    window.PLOTLYENV=window.PLOTLYENV || {};                                    if (document.getElementById(\"be90ef36-4b69-4ae1-affa-1a5461c50d49\")) {                    Plotly.newPlot(                        \"be90ef36-4b69-4ae1-affa-1a5461c50d49\",                        [{\"alignmentgroup\":\"True\",\"hovertemplate\":\"variable=plugged<br>Oil & Gas Operator=%{x}<br>Number of wells=%{y}<extra></extra>\",\"legendgroup\":\"plugged\",\"marker\":{\"color\":\"#636efa\",\"pattern\":{\"shape\":\"\"}},\"name\":\"plugged\",\"offsetgroup\":\"plugged\",\"orientation\":\"v\",\"showlegend\":true,\"textposition\":\"inside\",\"texttemplate\":\"%{y}\",\"x\":[\"Aera Energy LLC\",\"California Resources Elk Hills, LLC\",\"Chevron U.S.A. Inc.\",\"Berry Petroleum Company, LLC\",\"Sentinel Peak Resources California LLC\"],\"xaxis\":\"x\",\"y\":[21089.0,2345.0,15657.0,null,2052.0],\"yaxis\":\"y\",\"type\":\"bar\",\"textfont\":{\"color\":\"#444\",\"size\":10}},{\"alignmentgroup\":\"True\",\"hovertemplate\":\"variable=pluggedonly<br>Oil & Gas Operator=%{x}<br>Number of wells=%{y}<extra></extra>\",\"legendgroup\":\"pluggedonly\",\"marker\":{\"color\":\"#EF553B\",\"pattern\":{\"shape\":\"\"}},\"name\":\"pluggedonly\",\"offsetgroup\":\"pluggedonly\",\"orientation\":\"v\",\"showlegend\":true,\"textposition\":\"inside\",\"texttemplate\":\"%{y}\",\"x\":[\"Aera Energy LLC\",\"California Resources Elk Hills, LLC\",\"Chevron U.S.A. Inc.\",\"Berry Petroleum Company, LLC\",\"Sentinel Peak Resources California LLC\"],\"xaxis\":\"x\",\"y\":[96.0,1.0,3.0,null,1.0],\"yaxis\":\"y\",\"type\":\"bar\",\"textfont\":{\"color\":\"#444\",\"size\":10}},{\"alignmentgroup\":\"True\",\"hovertemplate\":\"variable=idle<br>Oil & Gas Operator=%{x}<br>Number of wells=%{y}<extra></extra>\",\"legendgroup\":\"idle\",\"marker\":{\"color\":\"#00cc96\",\"pattern\":{\"shape\":\"\"}},\"name\":\"idle\",\"offsetgroup\":\"idle\",\"orientation\":\"v\",\"showlegend\":true,\"textposition\":\"inside\",\"texttemplate\":\"%{y}\",\"x\":[\"Aera Energy LLC\",\"California Resources Elk Hills, LLC\",\"Chevron U.S.A. Inc.\",\"Berry Petroleum Company, LLC\",\"Sentinel Peak Resources California LLC\"],\"xaxis\":\"x\",\"y\":[5213.0,2305.0,1830.0,1677.0,976.0],\"yaxis\":\"y\",\"type\":\"bar\",\"textfont\":{\"color\":\"#444\",\"size\":10}},{\"alignmentgroup\":\"True\",\"hovertemplate\":\"variable=active<br>Oil & Gas Operator=%{x}<br>Number of wells=%{y}<extra></extra>\",\"legendgroup\":\"active\",\"marker\":{\"color\":\"#ab63fa\",\"pattern\":{\"shape\":\"\"}},\"name\":\"active\",\"offsetgroup\":\"active\",\"orientation\":\"v\",\"showlegend\":true,\"textposition\":\"inside\",\"texttemplate\":\"%{y}\",\"x\":[\"Aera Energy LLC\",\"California Resources Elk Hills, LLC\",\"Chevron U.S.A. Inc.\",\"Berry Petroleum Company, LLC\",\"Sentinel Peak Resources California LLC\"],\"xaxis\":\"x\",\"y\":[8223.0,3670.0,2610.0,1417.0,1828.0],\"yaxis\":\"y\",\"type\":\"bar\",\"textfont\":{\"color\":\"#444\",\"size\":10}},{\"alignmentgroup\":\"True\",\"hovertemplate\":\"variable=new<br>Oil & Gas Operator=%{x}<br>Number of wells=%{y}<extra></extra>\",\"legendgroup\":\"new\",\"marker\":{\"color\":\"#FFA15A\",\"pattern\":{\"shape\":\"\"}},\"name\":\"new\",\"offsetgroup\":\"new\",\"orientation\":\"v\",\"showlegend\":true,\"textposition\":\"inside\",\"texttemplate\":\"%{y}\",\"x\":[\"Aera Energy LLC\",\"California Resources Elk Hills, LLC\",\"Chevron U.S.A. Inc.\",\"Berry Petroleum Company, LLC\",\"Sentinel Peak Resources California LLC\"],\"xaxis\":\"x\",\"y\":[372.0,352.0,226.0,null,7.0],\"yaxis\":\"y\",\"type\":\"bar\",\"textfont\":{\"color\":\"#444\",\"size\":10}}],                        {\"template\":{\"data\":{\"histogram2dcontour\":[{\"type\":\"histogram2dcontour\",\"colorbar\":{\"outlinewidth\":0,\"ticks\":\"\"},\"colorscale\":[[0.0,\"#0d0887\"],[0.1111111111111111,\"#46039f\"],[0.2222222222222222,\"#7201a8\"],[0.3333333333333333,\"#9c179e\"],[0.4444444444444444,\"#bd3786\"],[0.5555555555555556,\"#d8576b\"],[0.6666666666666666,\"#ed7953\"],[0.7777777777777778,\"#fb9f3a\"],[0.8888888888888888,\"#fdca26\"],[1.0,\"#f0f921\"]]}],\"choropleth\":[{\"type\":\"choropleth\",\"colorbar\":{\"outlinewidth\":0,\"ticks\":\"\"}}],\"histogram2d\":[{\"type\":\"histogram2d\",\"colorbar\":{\"outlinewidth\":0,\"ticks\":\"\"},\"colorscale\":[[0.0,\"#0d0887\"],[0.1111111111111111,\"#46039f\"],[0.2222222222222222,\"#7201a8\"],[0.3333333333333333,\"#9c179e\"],[0.4444444444444444,\"#bd3786\"],[0.5555555555555556,\"#d8576b\"],[0.6666666666666666,\"#ed7953\"],[0.7777777777777778,\"#fb9f3a\"],[0.8888888888888888,\"#fdca26\"],[1.0,\"#f0f921\"]]}],\"heatmap\":[{\"type\":\"heatmap\",\"colorbar\":{\"outlinewidth\":0,\"ticks\":\"\"},\"colorscale\":[[0.0,\"#0d0887\"],[0.1111111111111111,\"#46039f\"],[0.2222222222222222,\"#7201a8\"],[0.3333333333333333,\"#9c179e\"],[0.4444444444444444,\"#bd3786\"],[0.5555555555555556,\"#d8576b\"],[0.6666666666666666,\"#ed7953\"],[0.7777777777777778,\"#fb9f3a\"],[0.8888888888888888,\"#fdca26\"],[1.0,\"#f0f921\"]]}],\"heatmapgl\":[{\"type\":\"heatmapgl\",\"colorbar\":{\"outlinewidth\":0,\"ticks\":\"\"},\"colorscale\":[[0.0,\"#0d0887\"],[0.1111111111111111,\"#46039f\"],[0.2222222222222222,\"#7201a8\"],[0.3333333333333333,\"#9c179e\"],[0.4444444444444444,\"#bd3786\"],[0.5555555555555556,\"#d8576b\"],[0.6666666666666666,\"#ed7953\"],[0.7777777777777778,\"#fb9f3a\"],[0.8888888888888888,\"#fdca26\"],[1.0,\"#f0f921\"]]}],\"contourcarpet\":[{\"type\":\"contourcarpet\",\"colorbar\":{\"outlinewidth\":0,\"ticks\":\"\"}}],\"contour\":[{\"type\":\"contour\",\"colorbar\":{\"outlinewidth\":0,\"ticks\":\"\"},\"colorscale\":[[0.0,\"#0d0887\"],[0.1111111111111111,\"#46039f\"],[0.2222222222222222,\"#7201a8\"],[0.3333333333333333,\"#9c179e\"],[0.4444444444444444,\"#bd3786\"],[0.5555555555555556,\"#d8576b\"],[0.6666666666666666,\"#ed7953\"],[0.7777777777777778,\"#fb9f3a\"],[0.8888888888888888,\"#fdca26\"],[1.0,\"#f0f921\"]]}],\"surface\":[{\"type\":\"surface\",\"colorbar\":{\"outlinewidth\":0,\"ticks\":\"\"},\"colorscale\":[[0.0,\"#0d0887\"],[0.1111111111111111,\"#46039f\"],[0.2222222222222222,\"#7201a8\"],[0.3333333333333333,\"#9c179e\"],[0.4444444444444444,\"#bd3786\"],[0.5555555555555556,\"#d8576b\"],[0.6666666666666666,\"#ed7953\"],[0.7777777777777778,\"#fb9f3a\"],[0.8888888888888888,\"#fdca26\"],[1.0,\"#f0f921\"]]}],\"mesh3d\":[{\"type\":\"mesh3d\",\"colorbar\":{\"outlinewidth\":0,\"ticks\":\"\"}}],\"scatter\":[{\"fillpattern\":{\"fillmode\":\"overlay\",\"size\":10,\"solidity\":0.2},\"type\":\"scatter\"}],\"parcoords\":[{\"type\":\"parcoords\",\"line\":{\"colorbar\":{\"outlinewidth\":0,\"ticks\":\"\"}}}],\"scatterpolargl\":[{\"type\":\"scatterpolargl\",\"marker\":{\"colorbar\":{\"outlinewidth\":0,\"ticks\":\"\"}}}],\"bar\":[{\"error_x\":{\"color\":\"#2a3f5f\"},\"error_y\":{\"color\":\"#2a3f5f\"},\"marker\":{\"line\":{\"color\":\"#E5ECF6\",\"width\":0.5},\"pattern\":{\"fillmode\":\"overlay\",\"size\":10,\"solidity\":0.2}},\"type\":\"bar\"}],\"scattergeo\":[{\"type\":\"scattergeo\",\"marker\":{\"colorbar\":{\"outlinewidth\":0,\"ticks\":\"\"}}}],\"scatterpolar\":[{\"type\":\"scatterpolar\",\"marker\":{\"colorbar\":{\"outlinewidth\":0,\"ticks\":\"\"}}}],\"histogram\":[{\"marker\":{\"pattern\":{\"fillmode\":\"overlay\",\"size\":10,\"solidity\":0.2}},\"type\":\"histogram\"}],\"scattergl\":[{\"type\":\"scattergl\",\"marker\":{\"colorbar\":{\"outlinewidth\":0,\"ticks\":\"\"}}}],\"scatter3d\":[{\"type\":\"scatter3d\",\"line\":{\"colorbar\":{\"outlinewidth\":0,\"ticks\":\"\"}},\"marker\":{\"colorbar\":{\"outlinewidth\":0,\"ticks\":\"\"}}}],\"scattermapbox\":[{\"type\":\"scattermapbox\",\"marker\":{\"colorbar\":{\"outlinewidth\":0,\"ticks\":\"\"}}}],\"scatterternary\":[{\"type\":\"scatterternary\",\"marker\":{\"colorbar\":{\"outlinewidth\":0,\"ticks\":\"\"}}}],\"scattercarpet\":[{\"type\":\"scattercarpet\",\"marker\":{\"colorbar\":{\"outlinewidth\":0,\"ticks\":\"\"}}}],\"carpet\":[{\"aaxis\":{\"endlinecolor\":\"#2a3f5f\",\"gridcolor\":\"white\",\"linecolor\":\"white\",\"minorgridcolor\":\"white\",\"startlinecolor\":\"#2a3f5f\"},\"baxis\":{\"endlinecolor\":\"#2a3f5f\",\"gridcolor\":\"white\",\"linecolor\":\"white\",\"minorgridcolor\":\"white\",\"startlinecolor\":\"#2a3f5f\"},\"type\":\"carpet\"}],\"table\":[{\"cells\":{\"fill\":{\"color\":\"#EBF0F8\"},\"line\":{\"color\":\"white\"}},\"header\":{\"fill\":{\"color\":\"#C8D4E3\"},\"line\":{\"color\":\"white\"}},\"type\":\"table\"}],\"barpolar\":[{\"marker\":{\"line\":{\"color\":\"#E5ECF6\",\"width\":0.5},\"pattern\":{\"fillmode\":\"overlay\",\"size\":10,\"solidity\":0.2}},\"type\":\"barpolar\"}],\"pie\":[{\"automargin\":true,\"type\":\"pie\"}]},\"layout\":{\"autotypenumbers\":\"strict\",\"colorway\":[\"#636efa\",\"#EF553B\",\"#00cc96\",\"#ab63fa\",\"#FFA15A\",\"#19d3f3\",\"#FF6692\",\"#B6E880\",\"#FF97FF\",\"#FECB52\"],\"font\":{\"color\":\"#2a3f5f\"},\"hovermode\":\"closest\",\"hoverlabel\":{\"align\":\"left\"},\"paper_bgcolor\":\"white\",\"plot_bgcolor\":\"#E5ECF6\",\"polar\":{\"bgcolor\":\"#E5ECF6\",\"angularaxis\":{\"gridcolor\":\"white\",\"linecolor\":\"white\",\"ticks\":\"\"},\"radialaxis\":{\"gridcolor\":\"white\",\"linecolor\":\"white\",\"ticks\":\"\"}},\"ternary\":{\"bgcolor\":\"#E5ECF6\",\"aaxis\":{\"gridcolor\":\"white\",\"linecolor\":\"white\",\"ticks\":\"\"},\"baxis\":{\"gridcolor\":\"white\",\"linecolor\":\"white\",\"ticks\":\"\"},\"caxis\":{\"gridcolor\":\"white\",\"linecolor\":\"white\",\"ticks\":\"\"}},\"coloraxis\":{\"colorbar\":{\"outlinewidth\":0,\"ticks\":\"\"}},\"colorscale\":{\"sequential\":[[0.0,\"#0d0887\"],[0.1111111111111111,\"#46039f\"],[0.2222222222222222,\"#7201a8\"],[0.3333333333333333,\"#9c179e\"],[0.4444444444444444,\"#bd3786\"],[0.5555555555555556,\"#d8576b\"],[0.6666666666666666,\"#ed7953\"],[0.7777777777777778,\"#fb9f3a\"],[0.8888888888888888,\"#fdca26\"],[1.0,\"#f0f921\"]],\"sequentialminus\":[[0.0,\"#0d0887\"],[0.1111111111111111,\"#46039f\"],[0.2222222222222222,\"#7201a8\"],[0.3333333333333333,\"#9c179e\"],[0.4444444444444444,\"#bd3786\"],[0.5555555555555556,\"#d8576b\"],[0.6666666666666666,\"#ed7953\"],[0.7777777777777778,\"#fb9f3a\"],[0.8888888888888888,\"#fdca26\"],[1.0,\"#f0f921\"]],\"diverging\":[[0,\"#8e0152\"],[0.1,\"#c51b7d\"],[0.2,\"#de77ae\"],[0.3,\"#f1b6da\"],[0.4,\"#fde0ef\"],[0.5,\"#f7f7f7\"],[0.6,\"#e6f5d0\"],[0.7,\"#b8e186\"],[0.8,\"#7fbc41\"],[0.9,\"#4d9221\"],[1,\"#276419\"]]},\"xaxis\":{\"gridcolor\":\"white\",\"linecolor\":\"white\",\"ticks\":\"\",\"title\":{\"standoff\":15},\"zerolinecolor\":\"white\",\"automargin\":true,\"zerolinewidth\":2},\"yaxis\":{\"gridcolor\":\"white\",\"linecolor\":\"white\",\"ticks\":\"\",\"title\":{\"standoff\":15},\"zerolinecolor\":\"white\",\"automargin\":true,\"zerolinewidth\":2},\"scene\":{\"xaxis\":{\"backgroundcolor\":\"#E5ECF6\",\"gridcolor\":\"white\",\"linecolor\":\"white\",\"showbackground\":true,\"ticks\":\"\",\"zerolinecolor\":\"white\",\"gridwidth\":2},\"yaxis\":{\"backgroundcolor\":\"#E5ECF6\",\"gridcolor\":\"white\",\"linecolor\":\"white\",\"showbackground\":true,\"ticks\":\"\",\"zerolinecolor\":\"white\",\"gridwidth\":2},\"zaxis\":{\"backgroundcolor\":\"#E5ECF6\",\"gridcolor\":\"white\",\"linecolor\":\"white\",\"showbackground\":true,\"ticks\":\"\",\"zerolinecolor\":\"white\",\"gridwidth\":2}},\"shapedefaults\":{\"line\":{\"color\":\"#2a3f5f\"}},\"annotationdefaults\":{\"arrowcolor\":\"#2a3f5f\",\"arrowhead\":0,\"arrowwidth\":1},\"geo\":{\"bgcolor\":\"white\",\"landcolor\":\"#E5ECF6\",\"subunitcolor\":\"white\",\"showland\":true,\"showlakes\":true,\"lakecolor\":\"white\"},\"title\":{\"x\":0.05},\"mapbox\":{\"style\":\"light\"}}},\"xaxis\":{\"anchor\":\"y\",\"domain\":[0.0,1.0],\"title\":{\"text\":\"Oil & Gas Operator\",\"font\":{\"size\":15,\"color\":\"#aaa\"}},\"tickfont\":{\"color\":\"#aaa\",\"size\":12}},\"yaxis\":{\"anchor\":\"x\",\"domain\":[0.0,1.0],\"title\":{\"text\":\"Number of wells\",\"font\":{\"size\":15,\"color\":\"#aaa\"}},\"tickfont\":{\"color\":\"#aaa\",\"size\":12}},\"legend\":{\"title\":{\"text\":\"Well status\"},\"tracegroupgap\":0},\"title\":{\"text\":\"Top 5 Oil & Gas Well Owners in Kern County\"},\"barmode\":\"relative\",\"height\":600,\"width\":900},                        {\"responsive\": true}                    ).then(function(){\n",
       "                            \n",
       "var gd = document.getElementById('be90ef36-4b69-4ae1-affa-1a5461c50d49');\n",
       "var x = new MutationObserver(function (mutations, observer) {{\n",
       "        var display = window.getComputedStyle(gd).display;\n",
       "        if (!display || display === 'none') {{\n",
       "            console.log([gd, 'removed!']);\n",
       "            Plotly.purge(gd);\n",
       "            observer.disconnect();\n",
       "        }}\n",
       "}});\n",
       "\n",
       "// Listen for the removal of the full notebook cells\n",
       "var notebookContainer = gd.closest('#notebook-container');\n",
       "if (notebookContainer) {{\n",
       "    x.observe(notebookContainer, {childList: true});\n",
       "}}\n",
       "\n",
       "// Listen for the clearing of the current output cell\n",
       "var outputEl = gd.closest('.output');\n",
       "if (outputEl) {{\n",
       "    x.observe(outputEl, {childList: true});\n",
       "}}\n",
       "\n",
       "                        })                };                });            </script>        </div>"
      ]
     },
     "metadata": {},
     "output_type": "display_data"
    }
   ],
   "source": [
    "#Create legend and edit out numbers to just include well count at the top \n",
    "fig = px.bar(oilsubset2.head(5),\n",
    "        x='OperatorNa',\n",
    "        y=[\"plugged\",\"pluggedonly\",\"idle\",\"active\", \"new\"],\n",
    "        title=\"Top 5 Oil & Gas Well Owners in Kern County\", # title\n",
    "        text_auto = True,\n",
    "        height=600,\n",
    "        width=900,\n",
    "        labels={'value': 'Number of wells','OperatorNa': 'Oil & Gas Operator'})\n",
    "# bar label\n",
    "fig.update_traces(textposition='inside',textfont_size=10,textfont_color='#444')\n",
    "# axes labels\n",
    "fig.update_yaxes(title_font_size=15,title_font_color='#aaa',tickfont_color='#aaa',tickfont_size=12)\n",
    "fig.update_xaxes(title_font_size=15,title_font_color='#aaa',tickfont_color='#aaa',tickfont_size=12)\n",
    "fig.update_layout(legend_title_text=\"Well status\")\n",
    "fig.write_html(\"oilownership.html\")\n",
    "fig.show()"
   ]
  },
  {
   "cell_type": "code",
   "execution_count": null,
   "id": "1c13a249-34cb-44dc-a96c-a7ccdd818853",
   "metadata": {},
   "outputs": [],
   "source": []
  }
 ],
 "metadata": {
  "kernelspec": {
   "display_name": "Python 3 (ipykernel)",
   "language": "python",
   "name": "python3"
  },
  "language_info": {
   "codemirror_mode": {
    "name": "ipython",
    "version": 3
   },
   "file_extension": ".py",
   "mimetype": "text/x-python",
   "name": "python",
   "nbconvert_exporter": "python",
   "pygments_lexer": "ipython3",
   "version": "3.10.8"
  }
 },
 "nbformat": 4,
 "nbformat_minor": 5
}

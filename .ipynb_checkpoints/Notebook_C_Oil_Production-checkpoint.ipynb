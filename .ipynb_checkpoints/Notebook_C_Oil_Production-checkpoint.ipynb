{
 "cells": [
  {
   "cell_type": "markdown",
   "id": "c44a92ef-4528-4219-8061-b6d99f04b679",
   "metadata": {},
   "source": [
    "# Notebook C: Oil Production in California, 1981-2021"
   ]
  },
  {
   "cell_type": "markdown",
   "id": "b43873ee-a376-48e1-b9c6-cc9cb11db426",
   "metadata": {},
   "source": [
    "This notebook takes US Energy Information Administration crude oil production data for California\n",
    "for a dataset showing production by thousands of barrels per day from 1981 to 2021. The data illuminates that oil production in the state peaked in the mid-1980s and has declined every since. Although data was not available for Kern County, we have been able to corroborate a similar trend in production with CalGEM's interactive data dashboard. "
   ]
  },
  {
   "cell_type": "code",
   "execution_count": 1,
   "id": "5599c5e3-7a4c-4f5a-9643-5259017bf05b",
   "metadata": {},
   "outputs": [],
   "source": [
    "import pandas as pd\n",
    "import geopandas as gpd\n"
   ]
  },
  {
   "cell_type": "code",
   "execution_count": 9,
   "id": "01512d67-23c6-4c37-bf7b-74059af005bb",
   "metadata": {},
   "outputs": [],
   "source": [
    "import matplotlib.pyplot as plt\n"
   ]
  },
  {
   "cell_type": "code",
   "execution_count": null,
   "id": "3f2b55f9-d7ee-424f-9490-b522dfd138de",
   "metadata": {},
   "outputs": [],
   "source": []
  },
  {
   "cell_type": "code",
   "execution_count": 2,
   "id": "fbfc7bee-b57a-4911-ad6d-e4ec2c412042",
   "metadata": {},
   "outputs": [],
   "source": [
    "oilhist = pd.read_csv('historic_oil_data.csv')"
   ]
  },
  {
   "cell_type": "code",
   "execution_count": 3,
   "id": "e64f8db4-304b-4d43-9d7d-1443abdbaf25",
   "metadata": {},
   "outputs": [
    {
     "data": {
      "text/plain": [
       "['1981', '1001']"
      ]
     },
     "execution_count": 3,
     "metadata": {},
     "output_type": "execute_result"
    }
   ],
   "source": [
    "oilhist.columns.to_list()"
   ]
  },
  {
   "cell_type": "code",
   "execution_count": 4,
   "id": "11830cf7-e3cf-479e-a519-d68994669f3b",
   "metadata": {},
   "outputs": [],
   "source": [
    "#adds column names to the data frame\n",
    "df = pd.read_csv('historic_oil_data.csv', header=None)\n",
    "df.columns = ['Year', 'oil_production'] "
   ]
  },
  {
   "cell_type": "code",
   "execution_count": 5,
   "id": "a2c925c6-2180-4d01-ac60-4fb0f1e20f68",
   "metadata": {},
   "outputs": [
    {
     "data": {
      "text/html": [
       "<div>\n",
       "<style scoped>\n",
       "    .dataframe tbody tr th:only-of-type {\n",
       "        vertical-align: middle;\n",
       "    }\n",
       "\n",
       "    .dataframe tbody tr th {\n",
       "        vertical-align: top;\n",
       "    }\n",
       "\n",
       "    .dataframe thead th {\n",
       "        text-align: right;\n",
       "    }\n",
       "</style>\n",
       "<table border=\"1\" class=\"dataframe\">\n",
       "  <thead>\n",
       "    <tr style=\"text-align: right;\">\n",
       "      <th></th>\n",
       "      <th>Year</th>\n",
       "      <th>oil_production</th>\n",
       "    </tr>\n",
       "  </thead>\n",
       "  <tbody>\n",
       "    <tr>\n",
       "      <th>0</th>\n",
       "      <td>1981.0</td>\n",
       "      <td>1001.0</td>\n",
       "    </tr>\n",
       "    <tr>\n",
       "      <th>1</th>\n",
       "      <td>1982.0</td>\n",
       "      <td>1022.0</td>\n",
       "    </tr>\n",
       "    <tr>\n",
       "      <th>2</th>\n",
       "      <td>1983.0</td>\n",
       "      <td>1025.0</td>\n",
       "    </tr>\n",
       "    <tr>\n",
       "      <th>3</th>\n",
       "      <td>1984.0</td>\n",
       "      <td>1043.0</td>\n",
       "    </tr>\n",
       "    <tr>\n",
       "      <th>4</th>\n",
       "      <td>1985.0</td>\n",
       "      <td>1079.0</td>\n",
       "    </tr>\n",
       "  </tbody>\n",
       "</table>\n",
       "</div>"
      ],
      "text/plain": [
       "     Year  oil_production\n",
       "0  1981.0          1001.0\n",
       "1  1982.0          1022.0\n",
       "2  1983.0          1025.0\n",
       "3  1984.0          1043.0\n",
       "4  1985.0          1079.0"
      ]
     },
     "execution_count": 5,
     "metadata": {},
     "output_type": "execute_result"
    }
   ],
   "source": [
    "df.head()"
   ]
  },
  {
   "cell_type": "code",
   "execution_count": 6,
   "id": "605a330a-d0dd-454a-9fb7-62bc83ab2640",
   "metadata": {},
   "outputs": [
    {
     "data": {
      "text/plain": [
       "Year              float64\n",
       "oil_production    float64\n",
       "dtype: object"
      ]
     },
     "execution_count": 6,
     "metadata": {},
     "output_type": "execute_result"
    }
   ],
   "source": [
    "df.dtypes"
   ]
  },
  {
   "cell_type": "code",
   "execution_count": 7,
   "id": "4e0126cc-9ba6-4397-827e-0dc6b6caa052",
   "metadata": {},
   "outputs": [
    {
     "data": {
      "text/html": [
       "<div>\n",
       "<style scoped>\n",
       "    .dataframe tbody tr th:only-of-type {\n",
       "        vertical-align: middle;\n",
       "    }\n",
       "\n",
       "    .dataframe tbody tr th {\n",
       "        vertical-align: top;\n",
       "    }\n",
       "\n",
       "    .dataframe thead th {\n",
       "        text-align: right;\n",
       "    }\n",
       "</style>\n",
       "<table border=\"1\" class=\"dataframe\">\n",
       "  <thead>\n",
       "    <tr style=\"text-align: right;\">\n",
       "      <th></th>\n",
       "      <th>Year</th>\n",
       "      <th>oil_production</th>\n",
       "    </tr>\n",
       "  </thead>\n",
       "  <tbody>\n",
       "    <tr>\n",
       "      <th>0</th>\n",
       "      <td>1981</td>\n",
       "      <td>1001.0</td>\n",
       "    </tr>\n",
       "    <tr>\n",
       "      <th>1</th>\n",
       "      <td>1982</td>\n",
       "      <td>1022.0</td>\n",
       "    </tr>\n",
       "    <tr>\n",
       "      <th>2</th>\n",
       "      <td>1983</td>\n",
       "      <td>1025.0</td>\n",
       "    </tr>\n",
       "    <tr>\n",
       "      <th>3</th>\n",
       "      <td>1984</td>\n",
       "      <td>1043.0</td>\n",
       "    </tr>\n",
       "    <tr>\n",
       "      <th>4</th>\n",
       "      <td>1985</td>\n",
       "      <td>1079.0</td>\n",
       "    </tr>\n",
       "  </tbody>\n",
       "</table>\n",
       "</div>"
      ],
      "text/plain": [
       "   Year  oil_production\n",
       "0  1981          1001.0\n",
       "1  1982          1022.0\n",
       "2  1983          1025.0\n",
       "3  1984          1043.0\n",
       "4  1985          1079.0"
      ]
     },
     "execution_count": 7,
     "metadata": {},
     "output_type": "execute_result"
    }
   ],
   "source": [
    "#need to convert to integer to remove .0 \n",
    "df['Year'] = df['Year'].fillna(0).astype(int)\n",
    "df.head()"
   ]
  },
  {
   "cell_type": "code",
   "execution_count": 8,
   "id": "638d5b6f-db3b-4f63-9e8b-bd8f8eb9a94e",
   "metadata": {},
   "outputs": [],
   "source": [
    "df['oil_production'] = df['oil_production'].fillna(0).astype(int)"
   ]
  },
  {
   "cell_type": "markdown",
   "id": "86263e68-6b47-413d-bde9-28b72c0e970f",
   "metadata": {},
   "source": [
    "To copy the data points more easily, I turned my data columns into lists. "
   ]
  },
  {
   "cell_type": "code",
   "execution_count": 11,
   "id": "954fdca8-498e-4b5b-bee1-15a8280336c9",
   "metadata": {},
   "outputs": [
    {
     "name": "stdout",
     "output_type": "stream",
     "text": [
      "[1981, 1982, 1983, 1984, 1985, 1986, 1987, 1988, 1989, 1990, 1991, 1992, 1993, 1994, 1995, 1996, 1997, 1998, 1999, 2000, 2001, 2002, 2003, 2004, 2005, 2006, 2007, 2008, 2009, 2010, 2011, 2012, 2013, 2014, 2015, 2016, 2017, 2018, 2019, 2020, 2021, 0]\n"
     ]
    }
   ],
   "source": [
    "#this turns data columns to lists\n",
    "col_list = df.Year.values.tolist()\n",
    "print(col_list)"
   ]
  },
  {
   "cell_type": "code",
   "execution_count": 12,
   "id": "88424176-fc40-490e-9c8a-ddc88918e5dc",
   "metadata": {},
   "outputs": [
    {
     "name": "stdout",
     "output_type": "stream",
     "text": [
      "[1001, 1022, 1025, 1043, 1079, 1036, 999, 969, 907, 879, 875, 835, 803, 784, 764, 772, 781, 777, 748, 741, 714, 707, 680, 656, 631, 611, 599, 586, 568, 549, 537, 539, 545, 561, 551, 508, 475, 440, 428, 389, 369, 0]\n"
     ]
    }
   ],
   "source": [
    "#this turns data columns to lists\n",
    "col_list = df.oil_production.values.tolist()\n",
    "print(col_list)"
   ]
  },
  {
   "cell_type": "markdown",
   "id": "f042992e-3725-41b9-a652-60d3914d8754",
   "metadata": {},
   "source": [
    "I then graphed the relationship below which shows a drop from close to 1100 thousand barrels per day to less than 400. This could be for a number of reasons but likely among them is the cost of oil production in California as opposed to other states with less stringent regulation and lower labor costs. Additionally, environmental activism has limited oil production in places such as LA and off the Southern California coast due to a history of oil spills. "
   ]
  },
  {
   "cell_type": "code",
   "execution_count": 14,
   "id": "204bd071-0c10-4097-9e82-6cff60b3df3f",
   "metadata": {},
   "outputs": [
    {
     "data": {
      "image/png": "[encoded data removed]",
      "text/plain": [
       "<Figure size 750x350 with 1 Axes>"
      ]
     },
     "metadata": {},
     "output_type": "display_data"
    }
   ],
   "source": [
    "\n",
    "from matplotlib import pyplot as plt\n",
    "\n",
    "plt.rcParams[\"figure.figsize\"] = [7.50, 3.50]\n",
    "plt.rcParams[\"figure.autolayout\"] = True\n",
    "\n",
    "years = [1981, 1982, 1983, 1984, 1985, 1986, 1987, 1988, 1989, 1990, 1991, 1992, \n",
    "         1993, 1994, 1995, 1996, 1997, 1998, 1999, 2000, 2001, 2002, 2003, 2004, 2005, \n",
    "         2006, 2007, 2008, 2009, 2010, 2011, 2012, 2013, 2014, 2015, 2016, 2017, \n",
    "         2018, 2019, 2020, 2021]\n",
    "population = [1001, 1022, 1025, 1043, 1079, 1036, 999, 969, 907, 879, 875, 835, 803, \n",
    "              784, 764, 772, 781, 777, 748, 741, 714, 707, 680, 656, 631, 611, 599, \n",
    "              586, 568, 549, 537, 539, 545, 561, 551, 508, 475, 440, 428, 389, 369]\n",
    "plt.xlabel('Year')\n",
    "plt.ylabel('Thousands of barrels per day')\n",
    "\n",
    "plt.plot(years, population, color='red')\n",
    "plt.title(\"Crude Oil Production in California, 1981 - 2021\")\n",
    "\n",
    "plt.annotate('local max', xy=(2, 1), xytext=(3, 1.5),\n",
    "             arrowprops=dict(facecolor='green', shrink=0.05),\n",
    "             )\n",
    "plt.show()\n"
   ]
  }
 ],
 "metadata": {
  "kernelspec": {
   "display_name": "Python 3 (ipykernel)",
   "language": "python",
   "name": "python3"
  },
  "language_info": {
   "codemirror_mode": {
    "name": "ipython",
    "version": 3
   },
   "file_extension": ".py",
   "mimetype": "text/x-python",
   "name": "python",
   "nbconvert_exporter": "python",
   "pygments_lexer": "ipython3",
   "version": "3.10.8"
  }
 },
 "nbformat": 4,
 "nbformat_minor": 5
}

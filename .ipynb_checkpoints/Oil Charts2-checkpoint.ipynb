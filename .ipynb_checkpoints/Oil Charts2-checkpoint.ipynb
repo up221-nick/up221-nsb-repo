{
 "cells": [
  {
   "cell_type": "code",
   "execution_count": 102,
   "id": "db4247c0-9e92-46b1-8b3c-2ca238ca1f63",
   "metadata": {},
   "outputs": [],
   "source": [
    "import pandas as pd\n",
    "import numpy as np\n",
    "import seaborn\n",
    "import folium"
   ]
  },
  {
   "cell_type": "code",
   "execution_count": 103,
   "id": "b0b6123d-cb01-4cc0-bc1f-541365eed975",
   "metadata": {},
   "outputs": [],
   "source": [
    "import geopandas as gpd"
   ]
  },
  {
   "cell_type": "code",
   "execution_count": 104,
   "id": "d2611424-ead0-40bc-89e7-8a1f73bced85",
   "metadata": {},
   "outputs": [],
   "source": [
    "import contextily as cx\n",
    "import matplotlib.pyplot as plt\n",
    "import plotly.express as px"
   ]
  },
  {
   "cell_type": "code",
   "execution_count": 105,
   "id": "04094258-f74e-43d3-8462-582c037cf82c",
   "metadata": {},
   "outputs": [
    {
     "data": {
      "text/html": [
       "<div>\n",
       "<style scoped>\n",
       "    .dataframe tbody tr th:only-of-type {\n",
       "        vertical-align: middle;\n",
       "    }\n",
       "\n",
       "    .dataframe tbody tr th {\n",
       "        vertical-align: top;\n",
       "    }\n",
       "\n",
       "    .dataframe thead th {\n",
       "        text-align: right;\n",
       "    }\n",
       "</style>\n",
       "<table border=\"1\" class=\"dataframe\">\n",
       "  <thead>\n",
       "    <tr style=\"text-align: right;\">\n",
       "      <th></th>\n",
       "      <th>LeaseName</th>\n",
       "      <th>WellDesign</th>\n",
       "      <th>WellStatus</th>\n",
       "      <th>WellType</th>\n",
       "      <th>WellTypeLa</th>\n",
       "      <th>OperatorNa</th>\n",
       "      <th>Place</th>\n",
       "      <th>CountyName</th>\n",
       "      <th>Latitude</th>\n",
       "      <th>Longitude</th>\n",
       "      <th>GISSource</th>\n",
       "      <th>isDirectio</th>\n",
       "      <th>WellSymbol</th>\n",
       "    </tr>\n",
       "  </thead>\n",
       "  <tbody>\n",
       "    <tr>\n",
       "      <th>0</th>\n",
       "      <td>Southern Pacific</td>\n",
       "      <td>Southern Pacific 11H</td>\n",
       "      <td>Canceled</td>\n",
       "      <td>OG</td>\n",
       "      <td>Oil &amp; Gas</td>\n",
       "      <td>California Resources Production Corporation</td>\n",
       "      <td>Kern County</td>\n",
       "      <td>Kern</td>\n",
       "      <td>35.401291</td>\n",
       "      <td>-118.860405</td>\n",
       "      <td>Operator</td>\n",
       "      <td>N</td>\n",
       "      <td>CanceledOG</td>\n",
       "    </tr>\n",
       "    <tr>\n",
       "      <th>1</th>\n",
       "      <td>Siegfus</td>\n",
       "      <td>Siegfus 31X-22</td>\n",
       "      <td>Canceled</td>\n",
       "      <td>OG</td>\n",
       "      <td>Oil &amp; Gas</td>\n",
       "      <td>California Resources Production Corporation</td>\n",
       "      <td>Kern County</td>\n",
       "      <td>Kern</td>\n",
       "      <td>35.397495</td>\n",
       "      <td>-118.855888</td>\n",
       "      <td>Operator</td>\n",
       "      <td>N</td>\n",
       "      <td>CanceledOG</td>\n",
       "    </tr>\n",
       "    <tr>\n",
       "      <th>2</th>\n",
       "      <td>Southern Pacific</td>\n",
       "      <td>Southern Pacific 5H</td>\n",
       "      <td>Canceled</td>\n",
       "      <td>OG</td>\n",
       "      <td>Oil &amp; Gas</td>\n",
       "      <td>Stockdale Oil &amp; Gas, Inc.</td>\n",
       "      <td>Kern County</td>\n",
       "      <td>Kern</td>\n",
       "      <td>35.404583</td>\n",
       "      <td>-118.850471</td>\n",
       "      <td>mip</td>\n",
       "      <td>N</td>\n",
       "      <td>CanceledOG</td>\n",
       "    </tr>\n",
       "    <tr>\n",
       "      <th>3</th>\n",
       "      <td>Southern Pacific</td>\n",
       "      <td>Southern Pacific 6H</td>\n",
       "      <td>Canceled</td>\n",
       "      <td>OG</td>\n",
       "      <td>Oil &amp; Gas</td>\n",
       "      <td>Stockdale Oil &amp; Gas, Inc.</td>\n",
       "      <td>Kern County</td>\n",
       "      <td>Kern</td>\n",
       "      <td>35.403610</td>\n",
       "      <td>-118.849937</td>\n",
       "      <td>mip</td>\n",
       "      <td>N</td>\n",
       "      <td>CanceledOG</td>\n",
       "    </tr>\n",
       "    <tr>\n",
       "      <th>4</th>\n",
       "      <td>Southern Pacific</td>\n",
       "      <td>Southern Pacific 7H</td>\n",
       "      <td>Canceled</td>\n",
       "      <td>OG</td>\n",
       "      <td>Oil &amp; Gas</td>\n",
       "      <td>Stockdale Oil &amp; Gas, Inc.</td>\n",
       "      <td>Kern County</td>\n",
       "      <td>Kern</td>\n",
       "      <td>35.405106</td>\n",
       "      <td>-118.856483</td>\n",
       "      <td>mip</td>\n",
       "      <td>N</td>\n",
       "      <td>CanceledOG</td>\n",
       "    </tr>\n",
       "    <tr>\n",
       "      <th>5</th>\n",
       "      <td>Lease by Stockdale Oil &amp; Gas, Inc.</td>\n",
       "      <td>UC75</td>\n",
       "      <td>Canceled</td>\n",
       "      <td>OG</td>\n",
       "      <td>Oil &amp; Gas</td>\n",
       "      <td>Stockdale Oil &amp; Gas, Inc.</td>\n",
       "      <td>Bakersfield</td>\n",
       "      <td>Kern</td>\n",
       "      <td>35.397018</td>\n",
       "      <td>-118.863434</td>\n",
       "      <td>mip</td>\n",
       "      <td>N</td>\n",
       "      <td>CanceledOG</td>\n",
       "    </tr>\n",
       "    <tr>\n",
       "      <th>6</th>\n",
       "      <td>Siegfus</td>\n",
       "      <td>Siegfus USC-2</td>\n",
       "      <td>Canceled</td>\n",
       "      <td>OG</td>\n",
       "      <td>Oil &amp; Gas</td>\n",
       "      <td>Stockdale Oil &amp; Gas, Inc.</td>\n",
       "      <td>Kern County</td>\n",
       "      <td>Kern</td>\n",
       "      <td>35.398052</td>\n",
       "      <td>-118.859688</td>\n",
       "      <td>mip</td>\n",
       "      <td>N</td>\n",
       "      <td>CanceledOG</td>\n",
       "    </tr>\n",
       "    <tr>\n",
       "      <th>7</th>\n",
       "      <td>Southern Pacific</td>\n",
       "      <td>Southern Pacific 10H</td>\n",
       "      <td>Idle</td>\n",
       "      <td>OG</td>\n",
       "      <td>Oil &amp; Gas</td>\n",
       "      <td>California Resources Production Corporation</td>\n",
       "      <td>Kern County</td>\n",
       "      <td>Kern</td>\n",
       "      <td>35.402748</td>\n",
       "      <td>-118.857201</td>\n",
       "      <td>GPS</td>\n",
       "      <td>N</td>\n",
       "      <td>IdleOG</td>\n",
       "    </tr>\n",
       "    <tr>\n",
       "      <th>8</th>\n",
       "      <td>Siegfus</td>\n",
       "      <td>Siegfus 122</td>\n",
       "      <td>Idle</td>\n",
       "      <td>OG</td>\n",
       "      <td>Oil &amp; Gas</td>\n",
       "      <td>California Resources Production Corporation</td>\n",
       "      <td>Kern County</td>\n",
       "      <td>Kern</td>\n",
       "      <td>35.397060</td>\n",
       "      <td>-118.860001</td>\n",
       "      <td>GPS</td>\n",
       "      <td>N</td>\n",
       "      <td>IdleOG</td>\n",
       "    </tr>\n",
       "    <tr>\n",
       "      <th>9</th>\n",
       "      <td>Siegfus</td>\n",
       "      <td>Siegfus 1H</td>\n",
       "      <td>Idle</td>\n",
       "      <td>OG</td>\n",
       "      <td>Oil &amp; Gas</td>\n",
       "      <td>California Resources Production Corporation</td>\n",
       "      <td>Kern County</td>\n",
       "      <td>Kern</td>\n",
       "      <td>35.393887</td>\n",
       "      <td>-118.860725</td>\n",
       "      <td>GPS</td>\n",
       "      <td>N</td>\n",
       "      <td>IdleOG</td>\n",
       "    </tr>\n",
       "  </tbody>\n",
       "</table>\n",
       "</div>"
      ],
      "text/plain": [
       "                            LeaseName            WellDesign WellStatus  \\\n",
       "0                    Southern Pacific  Southern Pacific 11H   Canceled   \n",
       "1                             Siegfus        Siegfus 31X-22   Canceled   \n",
       "2                    Southern Pacific   Southern Pacific 5H   Canceled   \n",
       "3                    Southern Pacific   Southern Pacific 6H   Canceled   \n",
       "4                    Southern Pacific   Southern Pacific 7H   Canceled   \n",
       "5  Lease by Stockdale Oil & Gas, Inc.                  UC75   Canceled   \n",
       "6                             Siegfus         Siegfus USC-2   Canceled   \n",
       "7                    Southern Pacific  Southern Pacific 10H       Idle   \n",
       "8                             Siegfus           Siegfus 122       Idle   \n",
       "9                             Siegfus            Siegfus 1H       Idle   \n",
       "\n",
       "  WellType WellTypeLa                                   OperatorNa  \\\n",
       "0       OG  Oil & Gas  California Resources Production Corporation   \n",
       "1       OG  Oil & Gas  California Resources Production Corporation   \n",
       "2       OG  Oil & Gas                    Stockdale Oil & Gas, Inc.   \n",
       "3       OG  Oil & Gas                    Stockdale Oil & Gas, Inc.   \n",
       "4       OG  Oil & Gas                    Stockdale Oil & Gas, Inc.   \n",
       "5       OG  Oil & Gas                    Stockdale Oil & Gas, Inc.   \n",
       "6       OG  Oil & Gas                    Stockdale Oil & Gas, Inc.   \n",
       "7       OG  Oil & Gas  California Resources Production Corporation   \n",
       "8       OG  Oil & Gas  California Resources Production Corporation   \n",
       "9       OG  Oil & Gas  California Resources Production Corporation   \n",
       "\n",
       "         Place CountyName   Latitude   Longitude GISSource isDirectio  \\\n",
       "0  Kern County       Kern  35.401291 -118.860405  Operator          N   \n",
       "1  Kern County       Kern  35.397495 -118.855888  Operator          N   \n",
       "2  Kern County       Kern  35.404583 -118.850471       mip          N   \n",
       "3  Kern County       Kern  35.403610 -118.849937       mip          N   \n",
       "4  Kern County       Kern  35.405106 -118.856483       mip          N   \n",
       "5  Bakersfield       Kern  35.397018 -118.863434       mip          N   \n",
       "6  Kern County       Kern  35.398052 -118.859688       mip          N   \n",
       "7  Kern County       Kern  35.402748 -118.857201       GPS          N   \n",
       "8  Kern County       Kern  35.397060 -118.860001       GPS          N   \n",
       "9  Kern County       Kern  35.393887 -118.860725       GPS          N   \n",
       "\n",
       "   WellSymbol  \n",
       "0  CanceledOG  \n",
       "1  CanceledOG  \n",
       "2  CanceledOG  \n",
       "3  CanceledOG  \n",
       "4  CanceledOG  \n",
       "5  CanceledOG  \n",
       "6  CanceledOG  \n",
       "7      IdleOG  \n",
       "8      IdleOG  \n",
       "9      IdleOG  "
      ]
     },
     "execution_count": 105,
     "metadata": {},
     "output_type": "execute_result"
    }
   ],
   "source": [
    "oil = pd.read_csv('data/kern_county_oil.csv')\n",
    "oil.head(10)"
   ]
  },
  {
   "cell_type": "code",
   "execution_count": 106,
   "id": "94d3c1b3-76a1-463b-be3f-bda6e8e91a8b",
   "metadata": {},
   "outputs": [
    {
     "data": {
      "text/plain": [
       "['LeaseName',\n",
       " 'WellDesign',\n",
       " 'WellStatus',\n",
       " 'WellType',\n",
       " 'WellTypeLa',\n",
       " 'OperatorNa',\n",
       " 'Place',\n",
       " 'CountyName',\n",
       " 'Latitude',\n",
       " 'Longitude',\n",
       " 'GISSource',\n",
       " 'isDirectio',\n",
       " 'WellSymbol']"
      ]
     },
     "execution_count": 106,
     "metadata": {},
     "output_type": "execute_result"
    }
   ],
   "source": [
    "oil.columns.to_list()"
   ]
  },
  {
   "cell_type": "code",
   "execution_count": 107,
   "id": "aad89eac-8847-44b2-b058-48c8d24a75e4",
   "metadata": {},
   "outputs": [
    {
     "data": {
      "text/html": [
       "<div>\n",
       "<style scoped>\n",
       "    .dataframe tbody tr th:only-of-type {\n",
       "        vertical-align: middle;\n",
       "    }\n",
       "\n",
       "    .dataframe tbody tr th {\n",
       "        vertical-align: top;\n",
       "    }\n",
       "\n",
       "    .dataframe thead th {\n",
       "        text-align: right;\n",
       "    }\n",
       "</style>\n",
       "<table border=\"1\" class=\"dataframe\">\n",
       "  <thead>\n",
       "    <tr style=\"text-align: right;\">\n",
       "      <th></th>\n",
       "      <th>WellStatus</th>\n",
       "      <th>OperatorNa</th>\n",
       "      <th>WellTypeLa</th>\n",
       "      <th>Latitude</th>\n",
       "      <th>Longitude</th>\n",
       "      <th>WellSymbol</th>\n",
       "    </tr>\n",
       "  </thead>\n",
       "  <tbody>\n",
       "    <tr>\n",
       "      <th>0</th>\n",
       "      <td>Canceled</td>\n",
       "      <td>California Resources Production Corporation</td>\n",
       "      <td>Oil &amp; Gas</td>\n",
       "      <td>35.401291</td>\n",
       "      <td>-118.860405</td>\n",
       "      <td>CanceledOG</td>\n",
       "    </tr>\n",
       "    <tr>\n",
       "      <th>1</th>\n",
       "      <td>Canceled</td>\n",
       "      <td>California Resources Production Corporation</td>\n",
       "      <td>Oil &amp; Gas</td>\n",
       "      <td>35.397495</td>\n",
       "      <td>-118.855888</td>\n",
       "      <td>CanceledOG</td>\n",
       "    </tr>\n",
       "    <tr>\n",
       "      <th>2</th>\n",
       "      <td>Canceled</td>\n",
       "      <td>Stockdale Oil &amp; Gas, Inc.</td>\n",
       "      <td>Oil &amp; Gas</td>\n",
       "      <td>35.404583</td>\n",
       "      <td>-118.850471</td>\n",
       "      <td>CanceledOG</td>\n",
       "    </tr>\n",
       "    <tr>\n",
       "      <th>3</th>\n",
       "      <td>Canceled</td>\n",
       "      <td>Stockdale Oil &amp; Gas, Inc.</td>\n",
       "      <td>Oil &amp; Gas</td>\n",
       "      <td>35.403610</td>\n",
       "      <td>-118.849937</td>\n",
       "      <td>CanceledOG</td>\n",
       "    </tr>\n",
       "    <tr>\n",
       "      <th>4</th>\n",
       "      <td>Canceled</td>\n",
       "      <td>Stockdale Oil &amp; Gas, Inc.</td>\n",
       "      <td>Oil &amp; Gas</td>\n",
       "      <td>35.405106</td>\n",
       "      <td>-118.856483</td>\n",
       "      <td>CanceledOG</td>\n",
       "    </tr>\n",
       "  </tbody>\n",
       "</table>\n",
       "</div>"
      ],
      "text/plain": [
       "  WellStatus                                   OperatorNa WellTypeLa  \\\n",
       "0   Canceled  California Resources Production Corporation  Oil & Gas   \n",
       "1   Canceled  California Resources Production Corporation  Oil & Gas   \n",
       "2   Canceled                    Stockdale Oil & Gas, Inc.  Oil & Gas   \n",
       "3   Canceled                    Stockdale Oil & Gas, Inc.  Oil & Gas   \n",
       "4   Canceled                    Stockdale Oil & Gas, Inc.  Oil & Gas   \n",
       "\n",
       "    Latitude   Longitude  WellSymbol  \n",
       "0  35.401291 -118.860405  CanceledOG  \n",
       "1  35.397495 -118.855888  CanceledOG  \n",
       "2  35.404583 -118.850471  CanceledOG  \n",
       "3  35.403610 -118.849937  CanceledOG  \n",
       "4  35.405106 -118.856483  CanceledOG  "
      ]
     },
     "execution_count": 107,
     "metadata": {},
     "output_type": "execute_result"
    }
   ],
   "source": [
    "oilsubset = oil[['WellStatus', 'OperatorNa', 'WellTypeLa','Latitude','Longitude','WellSymbol']]\n",
    "oilsubset.head()"
   ]
  },
  {
   "cell_type": "code",
   "execution_count": 108,
   "id": "3a44bed4-a4f7-4dfd-94a1-bb206584309c",
   "metadata": {},
   "outputs": [],
   "source": [
    "oilsubset = oilsubset[oilsubset.WellStatus != 'Canceled']\n"
   ]
  },
  {
   "cell_type": "code",
   "execution_count": 109,
   "id": "3ee3762f-8338-4007-938e-410f349411b6",
   "metadata": {},
   "outputs": [],
   "source": [
    "oilsubset = oilsubset[oilsubset.WellStatus != 'Unknown']\n"
   ]
  },
  {
   "cell_type": "code",
   "execution_count": 110,
   "id": "d524bebd-45c9-4721-ac41-49ce2ca24b63",
   "metadata": {},
   "outputs": [],
   "source": [
    "oilsubset = oilsubset[oilsubset.WellStatus != 'Plugged']\n"
   ]
  },
  {
   "cell_type": "code",
   "execution_count": 111,
   "id": "845410e7-1c9d-44f5-a013-268ffb823875",
   "metadata": {},
   "outputs": [],
   "source": [
    "oilsubset = oilsubset[oilsubset.WellStatus != 'PluggedOnly']\n"
   ]
  },
  {
   "cell_type": "code",
   "execution_count": 112,
   "id": "668763b8-ce60-4211-b854-2764fcc6ac9e",
   "metadata": {},
   "outputs": [],
   "source": [
    "oilsubset = oilsubset.loc[oilsubset['WellTypeLa'] == 'Oil & Gas'] #subsets to just oil and gas data"
   ]
  },
  {
   "cell_type": "code",
   "execution_count": 113,
   "id": "a997b4c0-d015-4447-9594-21c2de7be4ca",
   "metadata": {},
   "outputs": [
    {
     "data": {
      "text/html": [
       "<div>\n",
       "<style scoped>\n",
       "    .dataframe tbody tr th:only-of-type {\n",
       "        vertical-align: middle;\n",
       "    }\n",
       "\n",
       "    .dataframe tbody tr th {\n",
       "        vertical-align: top;\n",
       "    }\n",
       "\n",
       "    .dataframe thead th {\n",
       "        text-align: right;\n",
       "    }\n",
       "</style>\n",
       "<table border=\"1\" class=\"dataframe\">\n",
       "  <thead>\n",
       "    <tr style=\"text-align: right;\">\n",
       "      <th></th>\n",
       "      <th>WellStatus</th>\n",
       "      <th>count_status</th>\n",
       "    </tr>\n",
       "  </thead>\n",
       "  <tbody>\n",
       "    <tr>\n",
       "      <th>0</th>\n",
       "      <td>Active</td>\n",
       "      <td>23491</td>\n",
       "    </tr>\n",
       "    <tr>\n",
       "      <th>1</th>\n",
       "      <td>Idle</td>\n",
       "      <td>16718</td>\n",
       "    </tr>\n",
       "    <tr>\n",
       "      <th>2</th>\n",
       "      <td>New</td>\n",
       "      <td>1337</td>\n",
       "    </tr>\n",
       "  </tbody>\n",
       "</table>\n",
       "</div>"
      ],
      "text/plain": [
       "  WellStatus  count_status\n",
       "0     Active         23491\n",
       "1       Idle         16718\n",
       "2        New          1337"
      ]
     },
     "execution_count": 113,
     "metadata": {},
     "output_type": "execute_result"
    }
   ],
   "source": [
    "well_count = oilsubset.value_counts(['WellStatus']).reset_index(name=\"count_status\")\n",
    "well_count"
   ]
  },
  {
   "cell_type": "code",
   "execution_count": 114,
   "id": "432825ac-b294-4b87-8c00-164da9d28e39",
   "metadata": {},
   "outputs": [
    {
     "data": {
      "text/html": [
       "<div>\n",
       "<style scoped>\n",
       "    .dataframe tbody tr th:only-of-type {\n",
       "        vertical-align: middle;\n",
       "    }\n",
       "\n",
       "    .dataframe tbody tr th {\n",
       "        vertical-align: top;\n",
       "    }\n",
       "\n",
       "    .dataframe thead th {\n",
       "        text-align: right;\n",
       "    }\n",
       "</style>\n",
       "<table border=\"1\" class=\"dataframe\">\n",
       "  <thead>\n",
       "    <tr style=\"text-align: right;\">\n",
       "      <th></th>\n",
       "      <th>OperatorNa</th>\n",
       "      <th>count_wells</th>\n",
       "    </tr>\n",
       "  </thead>\n",
       "  <tbody>\n",
       "    <tr>\n",
       "      <th>0</th>\n",
       "      <td>Aera Energy LLC</td>\n",
       "      <td>13808</td>\n",
       "    </tr>\n",
       "    <tr>\n",
       "      <th>1</th>\n",
       "      <td>California Resources Elk Hills, LLC</td>\n",
       "      <td>6327</td>\n",
       "    </tr>\n",
       "    <tr>\n",
       "      <th>2</th>\n",
       "      <td>Chevron U.S.A. Inc.</td>\n",
       "      <td>4666</td>\n",
       "    </tr>\n",
       "    <tr>\n",
       "      <th>3</th>\n",
       "      <td>California Resources Production Corporation</td>\n",
       "      <td>3500</td>\n",
       "    </tr>\n",
       "    <tr>\n",
       "      <th>4</th>\n",
       "      <td>Berry Petroleum Company, LLC</td>\n",
       "      <td>3268</td>\n",
       "    </tr>\n",
       "    <tr>\n",
       "      <th>...</th>\n",
       "      <td>...</td>\n",
       "      <td>...</td>\n",
       "    </tr>\n",
       "    <tr>\n",
       "      <th>177</th>\n",
       "      <td>Frogville Exploration &amp; Development LLC</td>\n",
       "      <td>1</td>\n",
       "    </tr>\n",
       "    <tr>\n",
       "      <th>178</th>\n",
       "      <td>Freeport-McMoRan Oil &amp; Gas LLC</td>\n",
       "      <td>1</td>\n",
       "    </tr>\n",
       "    <tr>\n",
       "      <th>179</th>\n",
       "      <td>Prine Oil Company</td>\n",
       "      <td>1</td>\n",
       "    </tr>\n",
       "    <tr>\n",
       "      <th>180</th>\n",
       "      <td>Forest Gray Energy</td>\n",
       "      <td>1</td>\n",
       "    </tr>\n",
       "    <tr>\n",
       "      <th>181</th>\n",
       "      <td>Central Lease, Inc.</td>\n",
       "      <td>1</td>\n",
       "    </tr>\n",
       "  </tbody>\n",
       "</table>\n",
       "<p>182 rows × 2 columns</p>\n",
       "</div>"
      ],
      "text/plain": [
       "                                      OperatorNa  count_wells\n",
       "0                                Aera Energy LLC        13808\n",
       "1            California Resources Elk Hills, LLC         6327\n",
       "2                            Chevron U.S.A. Inc.         4666\n",
       "3    California Resources Production Corporation         3500\n",
       "4                   Berry Petroleum Company, LLC         3268\n",
       "..                                           ...          ...\n",
       "177      Frogville Exploration & Development LLC            1\n",
       "178               Freeport-McMoRan Oil & Gas LLC            1\n",
       "179                            Prine Oil Company            1\n",
       "180                           Forest Gray Energy            1\n",
       "181                          Central Lease, Inc.            1\n",
       "\n",
       "[182 rows x 2 columns]"
      ]
     },
     "execution_count": 114,
     "metadata": {},
     "output_type": "execute_result"
    }
   ],
   "source": [
    "operator_count = oilsubset.value_counts(['OperatorNa']).reset_index(name=\"count_wells\")\n",
    "operator_count"
   ]
  },
  {
   "cell_type": "code",
   "execution_count": 115,
   "id": "348e460a-7d86-49f1-b300-f14a8c327a0a",
   "metadata": {},
   "outputs": [
    {
     "data": {
      "text/html": [
       "<div>\n",
       "<style scoped>\n",
       "    .dataframe tbody tr th:only-of-type {\n",
       "        vertical-align: middle;\n",
       "    }\n",
       "\n",
       "    .dataframe tbody tr th {\n",
       "        vertical-align: top;\n",
       "    }\n",
       "\n",
       "    .dataframe thead th {\n",
       "        text-align: right;\n",
       "    }\n",
       "</style>\n",
       "<table border=\"1\" class=\"dataframe\">\n",
       "  <thead>\n",
       "    <tr style=\"text-align: right;\">\n",
       "      <th></th>\n",
       "      <th>WellStatus</th>\n",
       "      <th>OperatorNa</th>\n",
       "      <th>WellTypeLa</th>\n",
       "      <th>Latitude</th>\n",
       "      <th>Longitude</th>\n",
       "      <th>WellSymbol</th>\n",
       "      <th>count_wells</th>\n",
       "    </tr>\n",
       "  </thead>\n",
       "  <tbody>\n",
       "    <tr>\n",
       "      <th>20490</th>\n",
       "      <td>Active</td>\n",
       "      <td>Chevron U.S.A. Inc.</td>\n",
       "      <td>Oil &amp; Gas</td>\n",
       "      <td>35.366158</td>\n",
       "      <td>-119.683517</td>\n",
       "      <td>ActiveOG</td>\n",
       "      <td>4666</td>\n",
       "    </tr>\n",
       "    <tr>\n",
       "      <th>5529</th>\n",
       "      <td>Active</td>\n",
       "      <td>Aera Energy LLC</td>\n",
       "      <td>Oil &amp; Gas</td>\n",
       "      <td>35.438966</td>\n",
       "      <td>-119.700748</td>\n",
       "      <td>ActiveOG</td>\n",
       "      <td>13808</td>\n",
       "    </tr>\n",
       "    <tr>\n",
       "      <th>19432</th>\n",
       "      <td>Active</td>\n",
       "      <td>California Resources Elk Hills, LLC</td>\n",
       "      <td>Oil &amp; Gas</td>\n",
       "      <td>35.274742</td>\n",
       "      <td>-119.343788</td>\n",
       "      <td>ActiveOG</td>\n",
       "      <td>6327</td>\n",
       "    </tr>\n",
       "    <tr>\n",
       "      <th>40703</th>\n",
       "      <td>New</td>\n",
       "      <td>Maranatha Petroleum, Inc.</td>\n",
       "      <td>Oil &amp; Gas</td>\n",
       "      <td>35.388648</td>\n",
       "      <td>-119.056572</td>\n",
       "      <td>NewOG</td>\n",
       "      <td>24</td>\n",
       "    </tr>\n",
       "    <tr>\n",
       "      <th>17532</th>\n",
       "      <td>Active</td>\n",
       "      <td>California Resources Elk Hills, LLC</td>\n",
       "      <td>Oil &amp; Gas</td>\n",
       "      <td>35.321487</td>\n",
       "      <td>-119.563309</td>\n",
       "      <td>ActiveOG</td>\n",
       "      <td>6327</td>\n",
       "    </tr>\n",
       "  </tbody>\n",
       "</table>\n",
       "</div>"
      ],
      "text/plain": [
       "      WellStatus                           OperatorNa WellTypeLa   Latitude  \\\n",
       "20490     Active                  Chevron U.S.A. Inc.  Oil & Gas  35.366158   \n",
       "5529      Active                      Aera Energy LLC  Oil & Gas  35.438966   \n",
       "19432     Active  California Resources Elk Hills, LLC  Oil & Gas  35.274742   \n",
       "40703        New            Maranatha Petroleum, Inc.  Oil & Gas  35.388648   \n",
       "17532     Active  California Resources Elk Hills, LLC  Oil & Gas  35.321487   \n",
       "\n",
       "        Longitude WellSymbol  count_wells  \n",
       "20490 -119.683517   ActiveOG         4666  \n",
       "5529  -119.700748   ActiveOG        13808  \n",
       "19432 -119.343788   ActiveOG         6327  \n",
       "40703 -119.056572      NewOG           24  \n",
       "17532 -119.563309   ActiveOG         6327  "
      ]
     },
     "execution_count": 115,
     "metadata": {},
     "output_type": "execute_result"
    }
   ],
   "source": [
    "oilsubset = oilsubset.merge(operator_count, how='right')\n",
    "oilsubset.sample(5)\n",
    "#not sure why I am getting so many columns of count x and count y "
   ]
  },
  {
   "cell_type": "code",
   "execution_count": 116,
   "id": "79c0bc3f-309d-4027-8930-b9bc8980d4c9",
   "metadata": {},
   "outputs": [
    {
     "data": {
      "text/html": [
       "<div>\n",
       "<style scoped>\n",
       "    .dataframe tbody tr th:only-of-type {\n",
       "        vertical-align: middle;\n",
       "    }\n",
       "\n",
       "    .dataframe tbody tr th {\n",
       "        vertical-align: top;\n",
       "    }\n",
       "\n",
       "    .dataframe thead th {\n",
       "        text-align: right;\n",
       "    }\n",
       "</style>\n",
       "<table border=\"1\" class=\"dataframe\">\n",
       "  <thead>\n",
       "    <tr style=\"text-align: right;\">\n",
       "      <th></th>\n",
       "      <th>WellStatus</th>\n",
       "      <th>OperatorNa</th>\n",
       "      <th>WellTypeLa</th>\n",
       "      <th>Latitude</th>\n",
       "      <th>Longitude</th>\n",
       "      <th>WellSymbol</th>\n",
       "      <th>count_wells</th>\n",
       "    </tr>\n",
       "  </thead>\n",
       "  <tbody>\n",
       "    <tr>\n",
       "      <th>25441</th>\n",
       "      <td>Idle</td>\n",
       "      <td>California Resources Production Corporation</td>\n",
       "      <td>Oil &amp; Gas</td>\n",
       "      <td>35.481991</td>\n",
       "      <td>-119.038872</td>\n",
       "      <td>IdleOG</td>\n",
       "      <td>3500</td>\n",
       "    </tr>\n",
       "    <tr>\n",
       "      <th>32275</th>\n",
       "      <td>Idle</td>\n",
       "      <td>Sentinel Peak Resources California LLC</td>\n",
       "      <td>Oil &amp; Gas</td>\n",
       "      <td>35.559631</td>\n",
       "      <td>-119.694138</td>\n",
       "      <td>IdleOG</td>\n",
       "      <td>2811</td>\n",
       "    </tr>\n",
       "    <tr>\n",
       "      <th>27711</th>\n",
       "      <td>Idle</td>\n",
       "      <td>California Resources Production Corporation</td>\n",
       "      <td>Oil &amp; Gas</td>\n",
       "      <td>35.066959</td>\n",
       "      <td>-119.114822</td>\n",
       "      <td>IdleOG</td>\n",
       "      <td>3500</td>\n",
       "    </tr>\n",
       "    <tr>\n",
       "      <th>2183</th>\n",
       "      <td>Idle</td>\n",
       "      <td>Aera Energy LLC</td>\n",
       "      <td>Oil &amp; Gas</td>\n",
       "      <td>35.472691</td>\n",
       "      <td>-119.751450</td>\n",
       "      <td>IdleOG</td>\n",
       "      <td>13808</td>\n",
       "    </tr>\n",
       "    <tr>\n",
       "      <th>1123</th>\n",
       "      <td>Idle</td>\n",
       "      <td>Aera Energy LLC</td>\n",
       "      <td>Oil &amp; Gas</td>\n",
       "      <td>35.450350</td>\n",
       "      <td>-119.723159</td>\n",
       "      <td>IdleOG</td>\n",
       "      <td>13808</td>\n",
       "    </tr>\n",
       "  </tbody>\n",
       "</table>\n",
       "</div>"
      ],
      "text/plain": [
       "      WellStatus                                   OperatorNa WellTypeLa  \\\n",
       "25441       Idle  California Resources Production Corporation  Oil & Gas   \n",
       "32275       Idle       Sentinel Peak Resources California LLC  Oil & Gas   \n",
       "27711       Idle  California Resources Production Corporation  Oil & Gas   \n",
       "2183        Idle                              Aera Energy LLC  Oil & Gas   \n",
       "1123        Idle                              Aera Energy LLC  Oil & Gas   \n",
       "\n",
       "        Latitude   Longitude WellSymbol  count_wells  \n",
       "25441  35.481991 -119.038872     IdleOG         3500  \n",
       "32275  35.559631 -119.694138     IdleOG         2811  \n",
       "27711  35.066959 -119.114822     IdleOG         3500  \n",
       "2183   35.472691 -119.751450     IdleOG        13808  \n",
       "1123   35.450350 -119.723159     IdleOG        13808  "
      ]
     },
     "execution_count": 116,
     "metadata": {},
     "output_type": "execute_result"
    }
   ],
   "source": [
    "#need to merge operator_count back to original gdf to get Well Status column again \n",
    "operator_count_idle = oilsubset.loc[oilsubset['WellStatus'] == 'Idle']\n",
    "operator_count_idle.sample(5)"
   ]
  },
  {
   "cell_type": "code",
   "execution_count": 117,
   "id": "3f42b90f-a7d1-4d31-bce3-870f32a217d7",
   "metadata": {},
   "outputs": [
    {
     "data": {
      "text/html": [
       "<div>\n",
       "<style scoped>\n",
       "    .dataframe tbody tr th:only-of-type {\n",
       "        vertical-align: middle;\n",
       "    }\n",
       "\n",
       "    .dataframe tbody tr th {\n",
       "        vertical-align: top;\n",
       "    }\n",
       "\n",
       "    .dataframe thead th {\n",
       "        text-align: right;\n",
       "    }\n",
       "</style>\n",
       "<table border=\"1\" class=\"dataframe\">\n",
       "  <thead>\n",
       "    <tr style=\"text-align: right;\">\n",
       "      <th></th>\n",
       "      <th>OperatorNa</th>\n",
       "      <th>idle</th>\n",
       "    </tr>\n",
       "  </thead>\n",
       "  <tbody>\n",
       "    <tr>\n",
       "      <th>0</th>\n",
       "      <td>Aera Energy LLC</td>\n",
       "      <td>5213</td>\n",
       "    </tr>\n",
       "    <tr>\n",
       "      <th>1</th>\n",
       "      <td>California Resources Elk Hills, LLC</td>\n",
       "      <td>2305</td>\n",
       "    </tr>\n",
       "    <tr>\n",
       "      <th>2</th>\n",
       "      <td>Chevron U.S.A. Inc.</td>\n",
       "      <td>1830</td>\n",
       "    </tr>\n",
       "    <tr>\n",
       "      <th>3</th>\n",
       "      <td>Berry Petroleum Company, LLC</td>\n",
       "      <td>1677</td>\n",
       "    </tr>\n",
       "    <tr>\n",
       "      <th>4</th>\n",
       "      <td>California Resources Production Corporation</td>\n",
       "      <td>1661</td>\n",
       "    </tr>\n",
       "    <tr>\n",
       "      <th>...</th>\n",
       "      <td>...</td>\n",
       "      <td>...</td>\n",
       "    </tr>\n",
       "    <tr>\n",
       "      <th>143</th>\n",
       "      <td>F. C. Rhodes</td>\n",
       "      <td>1</td>\n",
       "    </tr>\n",
       "    <tr>\n",
       "      <th>144</th>\n",
       "      <td>Shadow Wolf Energy, LLC</td>\n",
       "      <td>1</td>\n",
       "    </tr>\n",
       "    <tr>\n",
       "      <th>145</th>\n",
       "      <td>Shale Hills Dev. Co.</td>\n",
       "      <td>1</td>\n",
       "    </tr>\n",
       "    <tr>\n",
       "      <th>146</th>\n",
       "      <td>B &amp; L Pump &amp; Supply Company</td>\n",
       "      <td>1</td>\n",
       "    </tr>\n",
       "    <tr>\n",
       "      <th>147</th>\n",
       "      <td>NewBridge Resources, LLC</td>\n",
       "      <td>1</td>\n",
       "    </tr>\n",
       "  </tbody>\n",
       "</table>\n",
       "<p>148 rows × 2 columns</p>\n",
       "</div>"
      ],
      "text/plain": [
       "                                      OperatorNa  idle\n",
       "0                                Aera Energy LLC  5213\n",
       "1            California Resources Elk Hills, LLC  2305\n",
       "2                            Chevron U.S.A. Inc.  1830\n",
       "3                   Berry Petroleum Company, LLC  1677\n",
       "4    California Resources Production Corporation  1661\n",
       "..                                           ...   ...\n",
       "143                                 F. C. Rhodes     1\n",
       "144                      Shadow Wolf Energy, LLC     1\n",
       "145                         Shale Hills Dev. Co.     1\n",
       "146                  B & L Pump & Supply Company     1\n",
       "147                     NewBridge Resources, LLC     1\n",
       "\n",
       "[148 rows x 2 columns]"
      ]
     },
     "execution_count": 117,
     "metadata": {},
     "output_type": "execute_result"
    }
   ],
   "source": [
    "#this works sometimes and I have no idea why \n",
    "operator_count_idle = operator_count_idle.value_counts(['OperatorNa']).reset_index(name=\"idle\")\n",
    "operator_count_idle"
   ]
  },
  {
   "cell_type": "code",
   "execution_count": 118,
   "id": "f2614e5b-d1c7-48cc-b726-26ead8997c99",
   "metadata": {},
   "outputs": [
    {
     "data": {
      "text/html": [
       "<div>\n",
       "<style scoped>\n",
       "    .dataframe tbody tr th:only-of-type {\n",
       "        vertical-align: middle;\n",
       "    }\n",
       "\n",
       "    .dataframe tbody tr th {\n",
       "        vertical-align: top;\n",
       "    }\n",
       "\n",
       "    .dataframe thead th {\n",
       "        text-align: right;\n",
       "    }\n",
       "</style>\n",
       "<table border=\"1\" class=\"dataframe\">\n",
       "  <thead>\n",
       "    <tr style=\"text-align: right;\">\n",
       "      <th></th>\n",
       "      <th>WellStatus</th>\n",
       "      <th>OperatorNa</th>\n",
       "      <th>WellTypeLa</th>\n",
       "      <th>Latitude</th>\n",
       "      <th>Longitude</th>\n",
       "      <th>WellSymbol</th>\n",
       "      <th>count_wells</th>\n",
       "    </tr>\n",
       "  </thead>\n",
       "  <tbody>\n",
       "    <tr>\n",
       "      <th>33409</th>\n",
       "      <td>Active</td>\n",
       "      <td>Sentinel Peak Resources California LLC</td>\n",
       "      <td>Oil &amp; Gas</td>\n",
       "      <td>35.227654</td>\n",
       "      <td>-119.589882</td>\n",
       "      <td>ActiveOG</td>\n",
       "      <td>2811</td>\n",
       "    </tr>\n",
       "    <tr>\n",
       "      <th>12079</th>\n",
       "      <td>Active</td>\n",
       "      <td>Aera Energy LLC</td>\n",
       "      <td>Oil &amp; Gas</td>\n",
       "      <td>35.205162</td>\n",
       "      <td>-119.590172</td>\n",
       "      <td>ActiveOG</td>\n",
       "      <td>13808</td>\n",
       "    </tr>\n",
       "    <tr>\n",
       "      <th>27082</th>\n",
       "      <td>Active</td>\n",
       "      <td>California Resources Production Corporation</td>\n",
       "      <td>Oil &amp; Gas</td>\n",
       "      <td>35.582865</td>\n",
       "      <td>-118.956957</td>\n",
       "      <td>ActiveOG</td>\n",
       "      <td>3500</td>\n",
       "    </tr>\n",
       "    <tr>\n",
       "      <th>30679</th>\n",
       "      <td>Active</td>\n",
       "      <td>Berry Petroleum Company, LLC</td>\n",
       "      <td>Oil &amp; Gas</td>\n",
       "      <td>35.240814</td>\n",
       "      <td>-119.589241</td>\n",
       "      <td>ActiveOG</td>\n",
       "      <td>3268</td>\n",
       "    </tr>\n",
       "    <tr>\n",
       "      <th>5409</th>\n",
       "      <td>Active</td>\n",
       "      <td>Aera Energy LLC</td>\n",
       "      <td>Oil &amp; Gas</td>\n",
       "      <td>35.440697</td>\n",
       "      <td>-119.694168</td>\n",
       "      <td>ActiveOG</td>\n",
       "      <td>13808</td>\n",
       "    </tr>\n",
       "  </tbody>\n",
       "</table>\n",
       "</div>"
      ],
      "text/plain": [
       "      WellStatus                                   OperatorNa WellTypeLa  \\\n",
       "33409     Active       Sentinel Peak Resources California LLC  Oil & Gas   \n",
       "12079     Active                              Aera Energy LLC  Oil & Gas   \n",
       "27082     Active  California Resources Production Corporation  Oil & Gas   \n",
       "30679     Active                 Berry Petroleum Company, LLC  Oil & Gas   \n",
       "5409      Active                              Aera Energy LLC  Oil & Gas   \n",
       "\n",
       "        Latitude   Longitude WellSymbol  count_wells  \n",
       "33409  35.227654 -119.589882   ActiveOG         2811  \n",
       "12079  35.205162 -119.590172   ActiveOG        13808  \n",
       "27082  35.582865 -118.956957   ActiveOG         3500  \n",
       "30679  35.240814 -119.589241   ActiveOG         3268  \n",
       "5409   35.440697 -119.694168   ActiveOG        13808  "
      ]
     },
     "execution_count": 118,
     "metadata": {},
     "output_type": "execute_result"
    }
   ],
   "source": [
    "operator_count_active = oilsubset.loc[oilsubset['WellStatus'] == 'Active']\n",
    "operator_count_active.sample(5)"
   ]
  },
  {
   "cell_type": "code",
   "execution_count": 119,
   "id": "45f9bafb-2d0b-4384-9909-7c1029c75974",
   "metadata": {},
   "outputs": [
    {
     "data": {
      "text/html": [
       "<div>\n",
       "<style scoped>\n",
       "    .dataframe tbody tr th:only-of-type {\n",
       "        vertical-align: middle;\n",
       "    }\n",
       "\n",
       "    .dataframe tbody tr th {\n",
       "        vertical-align: top;\n",
       "    }\n",
       "\n",
       "    .dataframe thead th {\n",
       "        text-align: right;\n",
       "    }\n",
       "</style>\n",
       "<table border=\"1\" class=\"dataframe\">\n",
       "  <thead>\n",
       "    <tr style=\"text-align: right;\">\n",
       "      <th></th>\n",
       "      <th>OperatorNa</th>\n",
       "      <th>count_active</th>\n",
       "    </tr>\n",
       "  </thead>\n",
       "  <tbody>\n",
       "    <tr>\n",
       "      <th>0</th>\n",
       "      <td>Aera Energy LLC</td>\n",
       "      <td>8223</td>\n",
       "    </tr>\n",
       "    <tr>\n",
       "      <th>1</th>\n",
       "      <td>California Resources Elk Hills, LLC</td>\n",
       "      <td>3670</td>\n",
       "    </tr>\n",
       "    <tr>\n",
       "      <th>2</th>\n",
       "      <td>Chevron U.S.A. Inc.</td>\n",
       "      <td>2610</td>\n",
       "    </tr>\n",
       "    <tr>\n",
       "      <th>3</th>\n",
       "      <td>Sentinel Peak Resources California LLC</td>\n",
       "      <td>1828</td>\n",
       "    </tr>\n",
       "    <tr>\n",
       "      <th>4</th>\n",
       "      <td>California Resources Production Corporation</td>\n",
       "      <td>1748</td>\n",
       "    </tr>\n",
       "    <tr>\n",
       "      <th>...</th>\n",
       "      <td>...</td>\n",
       "      <td>...</td>\n",
       "    </tr>\n",
       "    <tr>\n",
       "      <th>102</th>\n",
       "      <td>Mountain View Resources, LLC</td>\n",
       "      <td>1</td>\n",
       "    </tr>\n",
       "    <tr>\n",
       "      <th>103</th>\n",
       "      <td>NMT Oil Company, Inc.</td>\n",
       "      <td>1</td>\n",
       "    </tr>\n",
       "    <tr>\n",
       "      <th>104</th>\n",
       "      <td>Edison Beneficial Reuse</td>\n",
       "      <td>1</td>\n",
       "    </tr>\n",
       "    <tr>\n",
       "      <th>105</th>\n",
       "      <td>P. C. Oil Company</td>\n",
       "      <td>1</td>\n",
       "    </tr>\n",
       "    <tr>\n",
       "      <th>106</th>\n",
       "      <td>West Bay Exploration Company</td>\n",
       "      <td>1</td>\n",
       "    </tr>\n",
       "  </tbody>\n",
       "</table>\n",
       "<p>107 rows × 2 columns</p>\n",
       "</div>"
      ],
      "text/plain": [
       "                                      OperatorNa  count_active\n",
       "0                                Aera Energy LLC          8223\n",
       "1            California Resources Elk Hills, LLC          3670\n",
       "2                            Chevron U.S.A. Inc.          2610\n",
       "3         Sentinel Peak Resources California LLC          1828\n",
       "4    California Resources Production Corporation          1748\n",
       "..                                           ...           ...\n",
       "102                 Mountain View Resources, LLC             1\n",
       "103                        NMT Oil Company, Inc.             1\n",
       "104                      Edison Beneficial Reuse             1\n",
       "105                            P. C. Oil Company             1\n",
       "106                 West Bay Exploration Company             1\n",
       "\n",
       "[107 rows x 2 columns]"
      ]
     },
     "execution_count": 119,
     "metadata": {},
     "output_type": "execute_result"
    }
   ],
   "source": [
    "operator_count_active = operator_count_active.value_counts(['OperatorNa']).reset_index(name=\"count_active\")\n",
    "operator_count_active"
   ]
  },
  {
   "cell_type": "code",
   "execution_count": 120,
   "id": "360b6bd6-cc4e-447c-9c60-9b9283c4b6b8",
   "metadata": {},
   "outputs": [
    {
     "data": {
      "text/html": [
       "<div>\n",
       "<style scoped>\n",
       "    .dataframe tbody tr th:only-of-type {\n",
       "        vertical-align: middle;\n",
       "    }\n",
       "\n",
       "    .dataframe tbody tr th {\n",
       "        vertical-align: top;\n",
       "    }\n",
       "\n",
       "    .dataframe thead th {\n",
       "        text-align: right;\n",
       "    }\n",
       "</style>\n",
       "<table border=\"1\" class=\"dataframe\">\n",
       "  <thead>\n",
       "    <tr style=\"text-align: right;\">\n",
       "      <th></th>\n",
       "      <th>WellStatus</th>\n",
       "      <th>OperatorNa</th>\n",
       "      <th>WellTypeLa</th>\n",
       "      <th>Latitude</th>\n",
       "      <th>Longitude</th>\n",
       "      <th>WellSymbol</th>\n",
       "      <th>count_wells</th>\n",
       "    </tr>\n",
       "  </thead>\n",
       "  <tbody>\n",
       "    <tr>\n",
       "      <th>31294</th>\n",
       "      <td>New</td>\n",
       "      <td>Berry Petroleum Company, LLC</td>\n",
       "      <td>Oil &amp; Gas</td>\n",
       "      <td>35.101621</td>\n",
       "      <td>-119.437258</td>\n",
       "      <td>NewOG</td>\n",
       "      <td>3268</td>\n",
       "    </tr>\n",
       "    <tr>\n",
       "      <th>13845</th>\n",
       "      <td>New</td>\n",
       "      <td>California Resources Elk Hills, LLC</td>\n",
       "      <td>Oil &amp; Gas</td>\n",
       "      <td>35.327427</td>\n",
       "      <td>-119.571300</td>\n",
       "      <td>NewOG</td>\n",
       "      <td>6327</td>\n",
       "    </tr>\n",
       "    <tr>\n",
       "      <th>19780</th>\n",
       "      <td>New</td>\n",
       "      <td>California Resources Elk Hills, LLC</td>\n",
       "      <td>Oil &amp; Gas</td>\n",
       "      <td>35.275057</td>\n",
       "      <td>-119.479984</td>\n",
       "      <td>NewOG</td>\n",
       "      <td>6327</td>\n",
       "    </tr>\n",
       "    <tr>\n",
       "      <th>7751</th>\n",
       "      <td>New</td>\n",
       "      <td>Aera Energy LLC</td>\n",
       "      <td>Oil &amp; Gas</td>\n",
       "      <td>35.417194</td>\n",
       "      <td>-119.663317</td>\n",
       "      <td>NewOG</td>\n",
       "      <td>13808</td>\n",
       "    </tr>\n",
       "    <tr>\n",
       "      <th>31297</th>\n",
       "      <td>New</td>\n",
       "      <td>Berry Petroleum Company, LLC</td>\n",
       "      <td>Oil &amp; Gas</td>\n",
       "      <td>35.251297</td>\n",
       "      <td>-119.581273</td>\n",
       "      <td>NewOG</td>\n",
       "      <td>3268</td>\n",
       "    </tr>\n",
       "  </tbody>\n",
       "</table>\n",
       "</div>"
      ],
      "text/plain": [
       "      WellStatus                           OperatorNa WellTypeLa   Latitude  \\\n",
       "31294        New         Berry Petroleum Company, LLC  Oil & Gas  35.101621   \n",
       "13845        New  California Resources Elk Hills, LLC  Oil & Gas  35.327427   \n",
       "19780        New  California Resources Elk Hills, LLC  Oil & Gas  35.275057   \n",
       "7751         New                      Aera Energy LLC  Oil & Gas  35.417194   \n",
       "31297        New         Berry Petroleum Company, LLC  Oil & Gas  35.251297   \n",
       "\n",
       "        Longitude WellSymbol  count_wells  \n",
       "31294 -119.437258      NewOG         3268  \n",
       "13845 -119.571300      NewOG         6327  \n",
       "19780 -119.479984      NewOG         6327  \n",
       "7751  -119.663317      NewOG        13808  \n",
       "31297 -119.581273      NewOG         3268  "
      ]
     },
     "execution_count": 120,
     "metadata": {},
     "output_type": "execute_result"
    }
   ],
   "source": [
    "operator_count_new = oilsubset.loc[oilsubset['WellStatus'] == 'New']\n",
    "operator_count_new.sample(5)"
   ]
  },
  {
   "cell_type": "code",
   "execution_count": 121,
   "id": "e7e27b77-f6dd-4383-b755-ad6616004d49",
   "metadata": {},
   "outputs": [
    {
     "data": {
      "text/html": [
       "<div>\n",
       "<style scoped>\n",
       "    .dataframe tbody tr th:only-of-type {\n",
       "        vertical-align: middle;\n",
       "    }\n",
       "\n",
       "    .dataframe tbody tr th {\n",
       "        vertical-align: top;\n",
       "    }\n",
       "\n",
       "    .dataframe thead th {\n",
       "        text-align: right;\n",
       "    }\n",
       "</style>\n",
       "<table border=\"1\" class=\"dataframe\">\n",
       "  <thead>\n",
       "    <tr style=\"text-align: right;\">\n",
       "      <th></th>\n",
       "      <th>OperatorNa</th>\n",
       "      <th>count_new</th>\n",
       "    </tr>\n",
       "  </thead>\n",
       "  <tbody>\n",
       "    <tr>\n",
       "      <th>0</th>\n",
       "      <td>Aera Energy LLC</td>\n",
       "      <td>372</td>\n",
       "    </tr>\n",
       "    <tr>\n",
       "      <th>1</th>\n",
       "      <td>California Resources Elk Hills, LLC</td>\n",
       "      <td>352</td>\n",
       "    </tr>\n",
       "    <tr>\n",
       "      <th>2</th>\n",
       "      <td>Chevron U.S.A. Inc.</td>\n",
       "      <td>226</td>\n",
       "    </tr>\n",
       "    <tr>\n",
       "      <th>3</th>\n",
       "      <td>Berry Petroleum Company, LLC</td>\n",
       "      <td>174</td>\n",
       "    </tr>\n",
       "    <tr>\n",
       "      <th>4</th>\n",
       "      <td>California Resources Production Corporation</td>\n",
       "      <td>91</td>\n",
       "    </tr>\n",
       "    <tr>\n",
       "      <th>5</th>\n",
       "      <td>Holmes Western Oil Corporation</td>\n",
       "      <td>57</td>\n",
       "    </tr>\n",
       "    <tr>\n",
       "      <th>6</th>\n",
       "      <td>Crimson Resource Management Corp.</td>\n",
       "      <td>19</td>\n",
       "    </tr>\n",
       "    <tr>\n",
       "      <th>7</th>\n",
       "      <td>TRC Operating Company, Inc.</td>\n",
       "      <td>12</td>\n",
       "    </tr>\n",
       "    <tr>\n",
       "      <th>8</th>\n",
       "      <td>Macpherson Oil Company</td>\n",
       "      <td>8</td>\n",
       "    </tr>\n",
       "    <tr>\n",
       "      <th>9</th>\n",
       "      <td>Sentinel Peak Resources California LLC</td>\n",
       "      <td>7</td>\n",
       "    </tr>\n",
       "    <tr>\n",
       "      <th>10</th>\n",
       "      <td>E &amp; B Natural Resources Management Corporation</td>\n",
       "      <td>4</td>\n",
       "    </tr>\n",
       "    <tr>\n",
       "      <th>11</th>\n",
       "      <td>Maranatha Petroleum, Inc.</td>\n",
       "      <td>4</td>\n",
       "    </tr>\n",
       "    <tr>\n",
       "      <th>12</th>\n",
       "      <td>San Joaquin Facilities Management, Inc.</td>\n",
       "      <td>4</td>\n",
       "    </tr>\n",
       "    <tr>\n",
       "      <th>13</th>\n",
       "      <td>Petro-Lud, Inc.</td>\n",
       "      <td>2</td>\n",
       "    </tr>\n",
       "    <tr>\n",
       "      <th>14</th>\n",
       "      <td>Trio Petroleum LLC</td>\n",
       "      <td>2</td>\n",
       "    </tr>\n",
       "    <tr>\n",
       "      <th>15</th>\n",
       "      <td>California Petroleum Group Inc.</td>\n",
       "      <td>1</td>\n",
       "    </tr>\n",
       "    <tr>\n",
       "      <th>16</th>\n",
       "      <td>The Termo Company</td>\n",
       "      <td>1</td>\n",
       "    </tr>\n",
       "    <tr>\n",
       "      <th>17</th>\n",
       "      <td>Valley Resources, LLC</td>\n",
       "      <td>1</td>\n",
       "    </tr>\n",
       "  </tbody>\n",
       "</table>\n",
       "</div>"
      ],
      "text/plain": [
       "                                        OperatorNa  count_new\n",
       "0                                  Aera Energy LLC        372\n",
       "1              California Resources Elk Hills, LLC        352\n",
       "2                              Chevron U.S.A. Inc.        226\n",
       "3                     Berry Petroleum Company, LLC        174\n",
       "4      California Resources Production Corporation         91\n",
       "5                   Holmes Western Oil Corporation         57\n",
       "6                Crimson Resource Management Corp.         19\n",
       "7                      TRC Operating Company, Inc.         12\n",
       "8                           Macpherson Oil Company          8\n",
       "9           Sentinel Peak Resources California LLC          7\n",
       "10  E & B Natural Resources Management Corporation          4\n",
       "11                       Maranatha Petroleum, Inc.          4\n",
       "12         San Joaquin Facilities Management, Inc.          4\n",
       "13                                 Petro-Lud, Inc.          2\n",
       "14                              Trio Petroleum LLC          2\n",
       "15                 California Petroleum Group Inc.          1\n",
       "16                               The Termo Company          1\n",
       "17                           Valley Resources, LLC          1"
      ]
     },
     "execution_count": 121,
     "metadata": {},
     "output_type": "execute_result"
    }
   ],
   "source": [
    "operator_count_new = operator_count_new.value_counts(['OperatorNa']).reset_index(name=\"count_new\")\n",
    "operator_count_new"
   ]
  },
  {
   "cell_type": "code",
   "execution_count": 122,
   "id": "f74f1760-428a-49c2-a1bf-7d87b696c4ea",
   "metadata": {},
   "outputs": [
    {
     "data": {
      "text/html": [
       "<div>\n",
       "<style scoped>\n",
       "    .dataframe tbody tr th:only-of-type {\n",
       "        vertical-align: middle;\n",
       "    }\n",
       "\n",
       "    .dataframe tbody tr th {\n",
       "        vertical-align: top;\n",
       "    }\n",
       "\n",
       "    .dataframe thead th {\n",
       "        text-align: right;\n",
       "    }\n",
       "</style>\n",
       "<table border=\"1\" class=\"dataframe\">\n",
       "  <thead>\n",
       "    <tr style=\"text-align: right;\">\n",
       "      <th></th>\n",
       "      <th>WellStatus</th>\n",
       "      <th>OperatorNa</th>\n",
       "      <th>WellTypeLa</th>\n",
       "      <th>Latitude</th>\n",
       "      <th>Longitude</th>\n",
       "      <th>WellSymbol</th>\n",
       "      <th>count_wells</th>\n",
       "      <th>count_new</th>\n",
       "    </tr>\n",
       "  </thead>\n",
       "  <tbody>\n",
       "    <tr>\n",
       "      <th>15085</th>\n",
       "      <td>Active</td>\n",
       "      <td>California Resources Elk Hills, LLC</td>\n",
       "      <td>Oil &amp; Gas</td>\n",
       "      <td>35.209198</td>\n",
       "      <td>-119.492546</td>\n",
       "      <td>ActiveOG</td>\n",
       "      <td>6327</td>\n",
       "      <td>352</td>\n",
       "    </tr>\n",
       "    <tr>\n",
       "      <th>29672</th>\n",
       "      <td>Idle</td>\n",
       "      <td>California Resources Production Corporation</td>\n",
       "      <td>Oil &amp; Gas</td>\n",
       "      <td>35.025459</td>\n",
       "      <td>-119.178833</td>\n",
       "      <td>IdleOG</td>\n",
       "      <td>3500</td>\n",
       "      <td>91</td>\n",
       "    </tr>\n",
       "    <tr>\n",
       "      <th>34633</th>\n",
       "      <td>Idle</td>\n",
       "      <td>Sentinel Peak Resources California LLC</td>\n",
       "      <td>Oil &amp; Gas</td>\n",
       "      <td>35.225891</td>\n",
       "      <td>-119.578011</td>\n",
       "      <td>IdleOG</td>\n",
       "      <td>2811</td>\n",
       "      <td>7</td>\n",
       "    </tr>\n",
       "    <tr>\n",
       "      <th>16231</th>\n",
       "      <td>Idle</td>\n",
       "      <td>California Resources Elk Hills, LLC</td>\n",
       "      <td>Oil &amp; Gas</td>\n",
       "      <td>35.253963</td>\n",
       "      <td>-119.404228</td>\n",
       "      <td>IdleOG</td>\n",
       "      <td>6327</td>\n",
       "      <td>352</td>\n",
       "    </tr>\n",
       "    <tr>\n",
       "      <th>19036</th>\n",
       "      <td>Active</td>\n",
       "      <td>California Resources Elk Hills, LLC</td>\n",
       "      <td>Oil &amp; Gas</td>\n",
       "      <td>35.286922</td>\n",
       "      <td>-119.402069</td>\n",
       "      <td>ActiveOG</td>\n",
       "      <td>6327</td>\n",
       "      <td>352</td>\n",
       "    </tr>\n",
       "  </tbody>\n",
       "</table>\n",
       "</div>"
      ],
      "text/plain": [
       "      WellStatus                                   OperatorNa WellTypeLa  \\\n",
       "15085     Active          California Resources Elk Hills, LLC  Oil & Gas   \n",
       "29672       Idle  California Resources Production Corporation  Oil & Gas   \n",
       "34633       Idle       Sentinel Peak Resources California LLC  Oil & Gas   \n",
       "16231       Idle          California Resources Elk Hills, LLC  Oil & Gas   \n",
       "19036     Active          California Resources Elk Hills, LLC  Oil & Gas   \n",
       "\n",
       "        Latitude   Longitude WellSymbol  count_wells  count_new  \n",
       "15085  35.209198 -119.492546   ActiveOG         6327        352  \n",
       "29672  35.025459 -119.178833     IdleOG         3500         91  \n",
       "34633  35.225891 -119.578011     IdleOG         2811          7  \n",
       "16231  35.253963 -119.404228     IdleOG         6327        352  \n",
       "19036  35.286922 -119.402069   ActiveOG         6327        352  "
      ]
     },
     "execution_count": 122,
     "metadata": {},
     "output_type": "execute_result"
    }
   ],
   "source": [
    "oilsubset = oilsubset.merge(operator_count_new, how='right')\n",
    "oilsubset.sample(5)\n",
    "#not sure why I am getting so many columns of count x and count y "
   ]
  },
  {
   "cell_type": "code",
   "execution_count": 123,
   "id": "554900ab-f831-47a8-adff-291e07e2ccaa",
   "metadata": {},
   "outputs": [
    {
     "data": {
      "text/html": [
       "<div>\n",
       "<style scoped>\n",
       "    .dataframe tbody tr th:only-of-type {\n",
       "        vertical-align: middle;\n",
       "    }\n",
       "\n",
       "    .dataframe tbody tr th {\n",
       "        vertical-align: top;\n",
       "    }\n",
       "\n",
       "    .dataframe thead th {\n",
       "        text-align: right;\n",
       "    }\n",
       "</style>\n",
       "<table border=\"1\" class=\"dataframe\">\n",
       "  <thead>\n",
       "    <tr style=\"text-align: right;\">\n",
       "      <th></th>\n",
       "      <th>WellStatus</th>\n",
       "      <th>OperatorNa</th>\n",
       "      <th>WellTypeLa</th>\n",
       "      <th>Latitude</th>\n",
       "      <th>Longitude</th>\n",
       "      <th>WellSymbol</th>\n",
       "      <th>count_wells</th>\n",
       "      <th>count_new</th>\n",
       "      <th>count_active</th>\n",
       "    </tr>\n",
       "  </thead>\n",
       "  <tbody>\n",
       "    <tr>\n",
       "      <th>15630</th>\n",
       "      <td>Idle</td>\n",
       "      <td>California Resources Elk Hills, LLC</td>\n",
       "      <td>Oil &amp; Gas</td>\n",
       "      <td>35.240032</td>\n",
       "      <td>-119.408256</td>\n",
       "      <td>IdleOG</td>\n",
       "      <td>6327.0</td>\n",
       "      <td>352.0</td>\n",
       "      <td>3670</td>\n",
       "    </tr>\n",
       "    <tr>\n",
       "      <th>8911</th>\n",
       "      <td>Active</td>\n",
       "      <td>Aera Energy LLC</td>\n",
       "      <td>Oil &amp; Gas</td>\n",
       "      <td>35.612968</td>\n",
       "      <td>-119.721931</td>\n",
       "      <td>ActiveOG</td>\n",
       "      <td>13808.0</td>\n",
       "      <td>372.0</td>\n",
       "      <td>8223</td>\n",
       "    </tr>\n",
       "    <tr>\n",
       "      <th>19112</th>\n",
       "      <td>Active</td>\n",
       "      <td>California Resources Elk Hills, LLC</td>\n",
       "      <td>Oil &amp; Gas</td>\n",
       "      <td>35.281013</td>\n",
       "      <td>-119.381859</td>\n",
       "      <td>ActiveOG</td>\n",
       "      <td>6327.0</td>\n",
       "      <td>352.0</td>\n",
       "      <td>3670</td>\n",
       "    </tr>\n",
       "    <tr>\n",
       "      <th>20049</th>\n",
       "      <td>Active</td>\n",
       "      <td>California Resources Elk Hills, LLC</td>\n",
       "      <td>Oil &amp; Gas</td>\n",
       "      <td>35.268833</td>\n",
       "      <td>-119.578278</td>\n",
       "      <td>ActiveOG</td>\n",
       "      <td>6327.0</td>\n",
       "      <td>352.0</td>\n",
       "      <td>3670</td>\n",
       "    </tr>\n",
       "    <tr>\n",
       "      <th>4880</th>\n",
       "      <td>Active</td>\n",
       "      <td>Aera Energy LLC</td>\n",
       "      <td>Oil &amp; Gas</td>\n",
       "      <td>35.449753</td>\n",
       "      <td>-119.714806</td>\n",
       "      <td>ActiveOG</td>\n",
       "      <td>13808.0</td>\n",
       "      <td>372.0</td>\n",
       "      <td>8223</td>\n",
       "    </tr>\n",
       "  </tbody>\n",
       "</table>\n",
       "</div>"
      ],
      "text/plain": [
       "      WellStatus                           OperatorNa WellTypeLa   Latitude  \\\n",
       "15630       Idle  California Resources Elk Hills, LLC  Oil & Gas  35.240032   \n",
       "8911      Active                      Aera Energy LLC  Oil & Gas  35.612968   \n",
       "19112     Active  California Resources Elk Hills, LLC  Oil & Gas  35.281013   \n",
       "20049     Active  California Resources Elk Hills, LLC  Oil & Gas  35.268833   \n",
       "4880      Active                      Aera Energy LLC  Oil & Gas  35.449753   \n",
       "\n",
       "        Longitude WellSymbol  count_wells  count_new  count_active  \n",
       "15630 -119.408256     IdleOG       6327.0      352.0          3670  \n",
       "8911  -119.721931   ActiveOG      13808.0      372.0          8223  \n",
       "19112 -119.381859   ActiveOG       6327.0      352.0          3670  \n",
       "20049 -119.578278   ActiveOG       6327.0      352.0          3670  \n",
       "4880  -119.714806   ActiveOG      13808.0      372.0          8223  "
      ]
     },
     "execution_count": 123,
     "metadata": {},
     "output_type": "execute_result"
    }
   ],
   "source": [
    "oilsubset = oilsubset.merge(operator_count_active, how='right')\n",
    "oilsubset.sample(5)\n",
    "#not sure why I am getting so many columns of count x and count y "
   ]
  },
  {
   "cell_type": "code",
   "execution_count": 124,
   "id": "f866e69c-0585-49fd-a527-6a5809c55191",
   "metadata": {},
   "outputs": [
    {
     "data": {
      "text/html": [
       "<div>\n",
       "<style scoped>\n",
       "    .dataframe tbody tr th:only-of-type {\n",
       "        vertical-align: middle;\n",
       "    }\n",
       "\n",
       "    .dataframe tbody tr th {\n",
       "        vertical-align: top;\n",
       "    }\n",
       "\n",
       "    .dataframe thead th {\n",
       "        text-align: right;\n",
       "    }\n",
       "</style>\n",
       "<table border=\"1\" class=\"dataframe\">\n",
       "  <thead>\n",
       "    <tr style=\"text-align: right;\">\n",
       "      <th></th>\n",
       "      <th>WellStatus</th>\n",
       "      <th>OperatorNa</th>\n",
       "      <th>WellTypeLa</th>\n",
       "      <th>Latitude</th>\n",
       "      <th>Longitude</th>\n",
       "      <th>WellSymbol</th>\n",
       "      <th>count_wells</th>\n",
       "      <th>count_new</th>\n",
       "      <th>count_active</th>\n",
       "      <th>idle</th>\n",
       "    </tr>\n",
       "  </thead>\n",
       "  <tbody>\n",
       "    <tr>\n",
       "      <th>21278</th>\n",
       "      <td>Active</td>\n",
       "      <td>Chevron U.S.A. Inc.</td>\n",
       "      <td>Oil &amp; Gas</td>\n",
       "      <td>35.441723</td>\n",
       "      <td>-119.006607</td>\n",
       "      <td>ActiveOG</td>\n",
       "      <td>4666.0</td>\n",
       "      <td>226.0</td>\n",
       "      <td>2610.0</td>\n",
       "      <td>1830</td>\n",
       "    </tr>\n",
       "    <tr>\n",
       "      <th>3595</th>\n",
       "      <td>Active</td>\n",
       "      <td>Aera Energy LLC</td>\n",
       "      <td>Oil &amp; Gas</td>\n",
       "      <td>35.422043</td>\n",
       "      <td>-119.680405</td>\n",
       "      <td>ActiveOG</td>\n",
       "      <td>13808.0</td>\n",
       "      <td>372.0</td>\n",
       "      <td>8223.0</td>\n",
       "      <td>5213</td>\n",
       "    </tr>\n",
       "    <tr>\n",
       "      <th>30461</th>\n",
       "      <td>Active</td>\n",
       "      <td>California Resources Production Corporation</td>\n",
       "      <td>Oil &amp; Gas</td>\n",
       "      <td>35.588918</td>\n",
       "      <td>-118.959648</td>\n",
       "      <td>ActiveOG</td>\n",
       "      <td>3500.0</td>\n",
       "      <td>91.0</td>\n",
       "      <td>1748.0</td>\n",
       "      <td>1661</td>\n",
       "    </tr>\n",
       "    <tr>\n",
       "      <th>34396</th>\n",
       "      <td>Idle</td>\n",
       "      <td>E &amp; B Natural Resources Management Corporation</td>\n",
       "      <td>Oil &amp; Gas</td>\n",
       "      <td>35.521996</td>\n",
       "      <td>-119.862358</td>\n",
       "      <td>IdleOG</td>\n",
       "      <td>1584.0</td>\n",
       "      <td>4.0</td>\n",
       "      <td>685.0</td>\n",
       "      <td>895</td>\n",
       "    </tr>\n",
       "    <tr>\n",
       "      <th>28340</th>\n",
       "      <td>Active</td>\n",
       "      <td>California Resources Production Corporation</td>\n",
       "      <td>Oil &amp; Gas</td>\n",
       "      <td>35.409737</td>\n",
       "      <td>-119.653542</td>\n",
       "      <td>ActiveOG</td>\n",
       "      <td>3500.0</td>\n",
       "      <td>91.0</td>\n",
       "      <td>1748.0</td>\n",
       "      <td>1661</td>\n",
       "    </tr>\n",
       "  </tbody>\n",
       "</table>\n",
       "</div>"
      ],
      "text/plain": [
       "      WellStatus                                      OperatorNa WellTypeLa  \\\n",
       "21278     Active                             Chevron U.S.A. Inc.  Oil & Gas   \n",
       "3595      Active                                 Aera Energy LLC  Oil & Gas   \n",
       "30461     Active     California Resources Production Corporation  Oil & Gas   \n",
       "34396       Idle  E & B Natural Resources Management Corporation  Oil & Gas   \n",
       "28340     Active     California Resources Production Corporation  Oil & Gas   \n",
       "\n",
       "        Latitude   Longitude WellSymbol  count_wells  count_new  count_active  \\\n",
       "21278  35.441723 -119.006607   ActiveOG       4666.0      226.0        2610.0   \n",
       "3595   35.422043 -119.680405   ActiveOG      13808.0      372.0        8223.0   \n",
       "30461  35.588918 -118.959648   ActiveOG       3500.0       91.0        1748.0   \n",
       "34396  35.521996 -119.862358     IdleOG       1584.0        4.0         685.0   \n",
       "28340  35.409737 -119.653542   ActiveOG       3500.0       91.0        1748.0   \n",
       "\n",
       "       idle  \n",
       "21278  1830  \n",
       "3595   5213  \n",
       "30461  1661  \n",
       "34396   895  \n",
       "28340  1661  "
      ]
     },
     "execution_count": 124,
     "metadata": {},
     "output_type": "execute_result"
    }
   ],
   "source": [
    "oilsubset = oilsubset.merge(operator_count_idle, how='right')\n",
    "oilsubset.head(10)"
   ]
  },
  {
   "cell_type": "code",
   "execution_count": 130,
   "id": "bb4c74d4-d36c-4639-9867-85bdfa6b3ebf",
   "metadata": {},
   "outputs": [
    {
     "data": {
      "application/vnd.plotly.v1+json": {
       "config": {
        "plotlyServerURL": "https://plot.ly"
       },
       "data": [
        {
         "alignmentgroup": "True",
         "hovertemplate": "variable=idle<br>OperatorNa=%{x}<br>value=%{y}<extra></extra>",
         "legendgroup": "idle",
         "marker": {
          "color": "#636efa",
          "pattern": {
           "shape": ""
          }
         },
         "name": "idle",
         "offsetgroup": "idle",
         "orientation": "v",
         "showlegend": true,
         "textposition": "auto",
         "type": "bar",
         "x": [
          "Aera Energy LLC",
          "Aera Energy LLC",
          "Aera Energy LLC",
          "Aera Energy LLC",
          "Aera Energy LLC"
         ],
         "xaxis": "x",
         "y": [
          5213,
          5213,
          5213,
          5213,
          5213
         ],
         "yaxis": "y"
        },
        {
         "alignmentgroup": "True",
         "hovertemplate": "variable=count_active<br>OperatorNa=%{x}<br>value=%{y}<extra></extra>",
         "legendgroup": "count_active",
         "marker": {
          "color": "#EF553B",
          "pattern": {
           "shape": ""
          }
         },
         "name": "count_active",
         "offsetgroup": "count_active",
         "orientation": "v",
         "showlegend": true,
         "textposition": "auto",
         "type": "bar",
         "x": [
          "Aera Energy LLC",
          "Aera Energy LLC",
          "Aera Energy LLC",
          "Aera Energy LLC",
          "Aera Energy LLC"
         ],
         "xaxis": "x",
         "y": [
          8223,
          8223,
          8223,
          8223,
          8223
         ],
         "yaxis": "y"
        },
        {
         "alignmentgroup": "True",
         "hovertemplate": "variable=count_new<br>OperatorNa=%{x}<br>value=%{y}<extra></extra>",
         "legendgroup": "count_new",
         "marker": {
          "color": "#00cc96",
          "pattern": {
           "shape": ""
          }
         },
         "name": "count_new",
         "offsetgroup": "count_new",
         "orientation": "v",
         "showlegend": true,
         "textposition": "auto",
         "type": "bar",
         "x": [
          "Aera Energy LLC",
          "Aera Energy LLC",
          "Aera Energy LLC",
          "Aera Energy LLC",
          "Aera Energy LLC"
         ],
         "xaxis": "x",
         "y": [
          372,
          372,
          372,
          372,
          372
         ],
         "yaxis": "y"
        }
       ],
       "layout": {
        "autosize": true,
        "barmode": "relative",
        "legend": {
         "title": {
          "text": "variable"
         },
         "tracegroupgap": 0
        },
        "template": {
         "data": {
          "bar": [
           {
            "error_x": {
             "color": "#2a3f5f"
            },
            "error_y": {
             "color": "#2a3f5f"
            },
            "marker": {
             "line": {
              "color": "#E5ECF6",
              "width": 0.5
             },
             "pattern": {
              "fillmode": "overlay",
              "size": 10,
              "solidity": 0.2
             }
            },
            "type": "bar"
           }
          ],
          "barpolar": [
           {
            "marker": {
             "line": {
              "color": "#E5ECF6",
              "width": 0.5
             },
             "pattern": {
              "fillmode": "overlay",
              "size": 10,
              "solidity": 0.2
             }
            },
            "type": "barpolar"
           }
          ],
          "carpet": [
           {
            "aaxis": {
             "endlinecolor": "#2a3f5f",
             "gridcolor": "white",
             "linecolor": "white",
             "minorgridcolor": "white",
             "startlinecolor": "#2a3f5f"
            },
            "baxis": {
             "endlinecolor": "#2a3f5f",
             "gridcolor": "white",
             "linecolor": "white",
             "minorgridcolor": "white",
             "startlinecolor": "#2a3f5f"
            },
            "type": "carpet"
           }
          ],
          "choropleth": [
           {
            "colorbar": {
             "outlinewidth": 0,
             "ticks": ""
            },
            "type": "choropleth"
           }
          ],
          "contour": [
           {
            "colorbar": {
             "outlinewidth": 0,
             "ticks": ""
            },
            "colorscale": [
             [
              0,
              "#0d0887"
             ],
             [
              0.1111111111111111,
              "#46039f"
             ],
             [
              0.2222222222222222,
              "#7201a8"
             ],
             [
              0.3333333333333333,
              "#9c179e"
             ],
             [
              0.4444444444444444,
              "#bd3786"
             ],
             [
              0.5555555555555556,
              "#d8576b"
             ],
             [
              0.6666666666666666,
              "#ed7953"
             ],
             [
              0.7777777777777778,
              "#fb9f3a"
             ],
             [
              0.8888888888888888,
              "#fdca26"
             ],
             [
              1,
              "#f0f921"
             ]
            ],
            "type": "contour"
           }
          ],
          "contourcarpet": [
           {
            "colorbar": {
             "outlinewidth": 0,
             "ticks": ""
            },
            "type": "contourcarpet"
           }
          ],
          "heatmap": [
           {
            "colorbar": {
             "outlinewidth": 0,
             "ticks": ""
            },
            "colorscale": [
             [
              0,
              "#0d0887"
             ],
             [
              0.1111111111111111,
              "#46039f"
             ],
             [
              0.2222222222222222,
              "#7201a8"
             ],
             [
              0.3333333333333333,
              "#9c179e"
             ],
             [
              0.4444444444444444,
              "#bd3786"
             ],
             [
              0.5555555555555556,
              "#d8576b"
             ],
             [
              0.6666666666666666,
              "#ed7953"
             ],
             [
              0.7777777777777778,
              "#fb9f3a"
             ],
             [
              0.8888888888888888,
              "#fdca26"
             ],
             [
              1,
              "#f0f921"
             ]
            ],
            "type": "heatmap"
           }
          ],
          "heatmapgl": [
           {
            "colorbar": {
             "outlinewidth": 0,
             "ticks": ""
            },
            "colorscale": [
             [
              0,
              "#0d0887"
             ],
             [
              0.1111111111111111,
              "#46039f"
             ],
             [
              0.2222222222222222,
              "#7201a8"
             ],
             [
              0.3333333333333333,
              "#9c179e"
             ],
             [
              0.4444444444444444,
              "#bd3786"
             ],
             [
              0.5555555555555556,
              "#d8576b"
             ],
             [
              0.6666666666666666,
              "#ed7953"
             ],
             [
              0.7777777777777778,
              "#fb9f3a"
             ],
             [
              0.8888888888888888,
              "#fdca26"
             ],
             [
              1,
              "#f0f921"
             ]
            ],
            "type": "heatmapgl"
           }
          ],
          "histogram": [
           {
            "marker": {
             "pattern": {
              "fillmode": "overlay",
              "size": 10,
              "solidity": 0.2
             }
            },
            "type": "histogram"
           }
          ],
          "histogram2d": [
           {
            "colorbar": {
             "outlinewidth": 0,
             "ticks": ""
            },
            "colorscale": [
             [
              0,
              "#0d0887"
             ],
             [
              0.1111111111111111,
              "#46039f"
             ],
             [
              0.2222222222222222,
              "#7201a8"
             ],
             [
              0.3333333333333333,
              "#9c179e"
             ],
             [
              0.4444444444444444,
              "#bd3786"
             ],
             [
              0.5555555555555556,
              "#d8576b"
             ],
             [
              0.6666666666666666,
              "#ed7953"
             ],
             [
              0.7777777777777778,
              "#fb9f3a"
             ],
             [
              0.8888888888888888,
              "#fdca26"
             ],
             [
              1,
              "#f0f921"
             ]
            ],
            "type": "histogram2d"
           }
          ],
          "histogram2dcontour": [
           {
            "colorbar": {
             "outlinewidth": 0,
             "ticks": ""
            },
            "colorscale": [
             [
              0,
              "#0d0887"
             ],
             [
              0.1111111111111111,
              "#46039f"
             ],
             [
              0.2222222222222222,
              "#7201a8"
             ],
             [
              0.3333333333333333,
              "#9c179e"
             ],
             [
              0.4444444444444444,
              "#bd3786"
             ],
             [
              0.5555555555555556,
              "#d8576b"
             ],
             [
              0.6666666666666666,
              "#ed7953"
             ],
             [
              0.7777777777777778,
              "#fb9f3a"
             ],
             [
              0.8888888888888888,
              "#fdca26"
             ],
             [
              1,
              "#f0f921"
             ]
            ],
            "type": "histogram2dcontour"
           }
          ],
          "mesh3d": [
           {
            "colorbar": {
             "outlinewidth": 0,
             "ticks": ""
            },
            "type": "mesh3d"
           }
          ],
          "parcoords": [
           {
            "line": {
             "colorbar": {
              "outlinewidth": 0,
              "ticks": ""
             }
            },
            "type": "parcoords"
           }
          ],
          "pie": [
           {
            "automargin": true,
            "type": "pie"
           }
          ],
          "scatter": [
           {
            "fillpattern": {
             "fillmode": "overlay",
             "size": 10,
             "solidity": 0.2
            },
            "type": "scatter"
           }
          ],
          "scatter3d": [
           {
            "line": {
             "colorbar": {
              "outlinewidth": 0,
              "ticks": ""
             }
            },
            "marker": {
             "colorbar": {
              "outlinewidth": 0,
              "ticks": ""
             }
            },
            "type": "scatter3d"
           }
          ],
          "scattercarpet": [
           {
            "marker": {
             "colorbar": {
              "outlinewidth": 0,
              "ticks": ""
             }
            },
            "type": "scattercarpet"
           }
          ],
          "scattergeo": [
           {
            "marker": {
             "colorbar": {
              "outlinewidth": 0,
              "ticks": ""
             }
            },
            "type": "scattergeo"
           }
          ],
          "scattergl": [
           {
            "marker": {
             "colorbar": {
              "outlinewidth": 0,
              "ticks": ""
             }
            },
            "type": "scattergl"
           }
          ],
          "scattermapbox": [
           {
            "marker": {
             "colorbar": {
              "outlinewidth": 0,
              "ticks": ""
             }
            },
            "type": "scattermapbox"
           }
          ],
          "scatterpolar": [
           {
            "marker": {
             "colorbar": {
              "outlinewidth": 0,
              "ticks": ""
             }
            },
            "type": "scatterpolar"
           }
          ],
          "scatterpolargl": [
           {
            "marker": {
             "colorbar": {
              "outlinewidth": 0,
              "ticks": ""
             }
            },
            "type": "scatterpolargl"
           }
          ],
          "scatterternary": [
           {
            "marker": {
             "colorbar": {
              "outlinewidth": 0,
              "ticks": ""
             }
            },
            "type": "scatterternary"
           }
          ],
          "surface": [
           {
            "colorbar": {
             "outlinewidth": 0,
             "ticks": ""
            },
            "colorscale": [
             [
              0,
              "#0d0887"
             ],
             [
              0.1111111111111111,
              "#46039f"
             ],
             [
              0.2222222222222222,
              "#7201a8"
             ],
             [
              0.3333333333333333,
              "#9c179e"
             ],
             [
              0.4444444444444444,
              "#bd3786"
             ],
             [
              0.5555555555555556,
              "#d8576b"
             ],
             [
              0.6666666666666666,
              "#ed7953"
             ],
             [
              0.7777777777777778,
              "#fb9f3a"
             ],
             [
              0.8888888888888888,
              "#fdca26"
             ],
             [
              1,
              "#f0f921"
             ]
            ],
            "type": "surface"
           }
          ],
          "table": [
           {
            "cells": {
             "fill": {
              "color": "#EBF0F8"
             },
             "line": {
              "color": "white"
             }
            },
            "header": {
             "fill": {
              "color": "#C8D4E3"
             },
             "line": {
              "color": "white"
             }
            },
            "type": "table"
           }
          ]
         },
         "layout": {
          "annotationdefaults": {
           "arrowcolor": "#2a3f5f",
           "arrowhead": 0,
           "arrowwidth": 1
          },
          "autotypenumbers": "strict",
          "coloraxis": {
           "colorbar": {
            "outlinewidth": 0,
            "ticks": ""
           }
          },
          "colorscale": {
           "diverging": [
            [
             0,
             "#8e0152"
            ],
            [
             0.1,
             "#c51b7d"
            ],
            [
             0.2,
             "#de77ae"
            ],
            [
             0.3,
             "#f1b6da"
            ],
            [
             0.4,
             "#fde0ef"
            ],
            [
             0.5,
             "#f7f7f7"
            ],
            [
             0.6,
             "#e6f5d0"
            ],
            [
             0.7,
             "#b8e186"
            ],
            [
             0.8,
             "#7fbc41"
            ],
            [
             0.9,
             "#4d9221"
            ],
            [
             1,
             "#276419"
            ]
           ],
           "sequential": [
            [
             0,
             "#0d0887"
            ],
            [
             0.1111111111111111,
             "#46039f"
            ],
            [
             0.2222222222222222,
             "#7201a8"
            ],
            [
             0.3333333333333333,
             "#9c179e"
            ],
            [
             0.4444444444444444,
             "#bd3786"
            ],
            [
             0.5555555555555556,
             "#d8576b"
            ],
            [
             0.6666666666666666,
             "#ed7953"
            ],
            [
             0.7777777777777778,
             "#fb9f3a"
            ],
            [
             0.8888888888888888,
             "#fdca26"
            ],
            [
             1,
             "#f0f921"
            ]
           ],
           "sequentialminus": [
            [
             0,
             "#0d0887"
            ],
            [
             0.1111111111111111,
             "#46039f"
            ],
            [
             0.2222222222222222,
             "#7201a8"
            ],
            [
             0.3333333333333333,
             "#9c179e"
            ],
            [
             0.4444444444444444,
             "#bd3786"
            ],
            [
             0.5555555555555556,
             "#d8576b"
            ],
            [
             0.6666666666666666,
             "#ed7953"
            ],
            [
             0.7777777777777778,
             "#fb9f3a"
            ],
            [
             0.8888888888888888,
             "#fdca26"
            ],
            [
             1,
             "#f0f921"
            ]
           ]
          },
          "colorway": [
           "#636efa",
           "#EF553B",
           "#00cc96",
           "#ab63fa",
           "#FFA15A",
           "#19d3f3",
           "#FF6692",
           "#B6E880",
           "#FF97FF",
           "#FECB52"
          ],
          "font": {
           "color": "#2a3f5f"
          },
          "geo": {
           "bgcolor": "white",
           "lakecolor": "white",
           "landcolor": "#E5ECF6",
           "showlakes": true,
           "showland": true,
           "subunitcolor": "white"
          },
          "hoverlabel": {
           "align": "left"
          },
          "hovermode": "closest",
          "mapbox": {
           "style": "light"
          },
          "paper_bgcolor": "white",
          "plot_bgcolor": "#E5ECF6",
          "polar": {
           "angularaxis": {
            "gridcolor": "white",
            "linecolor": "white",
            "ticks": ""
           },
           "bgcolor": "#E5ECF6",
           "radialaxis": {
            "gridcolor": "white",
            "linecolor": "white",
            "ticks": ""
           }
          },
          "scene": {
           "xaxis": {
            "backgroundcolor": "#E5ECF6",
            "gridcolor": "white",
            "gridwidth": 2,
            "linecolor": "white",
            "showbackground": true,
            "ticks": "",
            "zerolinecolor": "white"
           },
           "yaxis": {
            "backgroundcolor": "#E5ECF6",
            "gridcolor": "white",
            "gridwidth": 2,
            "linecolor": "white",
            "showbackground": true,
            "ticks": "",
            "zerolinecolor": "white"
           },
           "zaxis": {
            "backgroundcolor": "#E5ECF6",
            "gridcolor": "white",
            "gridwidth": 2,
            "linecolor": "white",
            "showbackground": true,
            "ticks": "",
            "zerolinecolor": "white"
           }
          },
          "shapedefaults": {
           "line": {
            "color": "#2a3f5f"
           }
          },
          "ternary": {
           "aaxis": {
            "gridcolor": "white",
            "linecolor": "white",
            "ticks": ""
           },
           "baxis": {
            "gridcolor": "white",
            "linecolor": "white",
            "ticks": ""
           },
           "bgcolor": "#E5ECF6",
           "caxis": {
            "gridcolor": "white",
            "linecolor": "white",
            "ticks": ""
           }
          },
          "title": {
           "x": 0.05
          },
          "xaxis": {
           "automargin": true,
           "gridcolor": "white",
           "linecolor": "white",
           "ticks": "",
           "title": {
            "standoff": 15
           },
           "zerolinecolor": "white",
           "zerolinewidth": 2
          },
          "yaxis": {
           "automargin": true,
           "gridcolor": "white",
           "linecolor": "white",
           "ticks": "",
           "title": {
            "standoff": 15
           },
           "zerolinecolor": "white",
           "zerolinewidth": 2
          }
         }
        },
        "title": {
         "text": "Wide-Form Input"
        },
        "xaxis": {
         "anchor": "y",
         "autorange": true,
         "domain": [
          0,
          1
         ],
         "range": [
          -0.5,
          0.5
         ],
         "title": {
          "text": "OperatorNa"
         },
         "type": "category"
        },
        "yaxis": {
         "anchor": "x",
         "autorange": true,
         "domain": [
          0,
          1
         ],
         "range": [
          0,
          72673.68421052632
         ],
         "title": {
          "text": "value"
         },
         "type": "linear"
        }
       }
      },
      "image/png": "[encoded data removed]",
      "text/html": [
       "<div>                            <div id=\"e085f52e-2eab-4d4c-98d1-1977c89ec45c\" class=\"plotly-graph-div\" style=\"height:525px; width:100%;\"></div>            <script type=\"text/javascript\">                require([\"plotly\"], function(Plotly) {                    window.PLOTLYENV=window.PLOTLYENV || {};                                    if (document.getElementById(\"e085f52e-2eab-4d4c-98d1-1977c89ec45c\")) {                    Plotly.newPlot(                        \"e085f52e-2eab-4d4c-98d1-1977c89ec45c\",                        [{\"alignmentgroup\":\"True\",\"hovertemplate\":\"variable=idle<br>OperatorNa=%{x}<br>value=%{y}<extra></extra>\",\"legendgroup\":\"idle\",\"marker\":{\"color\":\"#636efa\",\"pattern\":{\"shape\":\"\"}},\"name\":\"idle\",\"offsetgroup\":\"idle\",\"orientation\":\"v\",\"showlegend\":true,\"textposition\":\"auto\",\"x\":[\"Aera Energy LLC\",\"Aera Energy LLC\",\"Aera Energy LLC\",\"Aera Energy LLC\",\"Aera Energy LLC\"],\"xaxis\":\"x\",\"y\":[5213.0,5213.0,5213.0,5213.0,5213.0],\"yaxis\":\"y\",\"type\":\"bar\"},{\"alignmentgroup\":\"True\",\"hovertemplate\":\"variable=count_active<br>OperatorNa=%{x}<br>value=%{y}<extra></extra>\",\"legendgroup\":\"count_active\",\"marker\":{\"color\":\"#EF553B\",\"pattern\":{\"shape\":\"\"}},\"name\":\"count_active\",\"offsetgroup\":\"count_active\",\"orientation\":\"v\",\"showlegend\":true,\"textposition\":\"auto\",\"x\":[\"Aera Energy LLC\",\"Aera Energy LLC\",\"Aera Energy LLC\",\"Aera Energy LLC\",\"Aera Energy LLC\"],\"xaxis\":\"x\",\"y\":[8223.0,8223.0,8223.0,8223.0,8223.0],\"yaxis\":\"y\",\"type\":\"bar\"},{\"alignmentgroup\":\"True\",\"hovertemplate\":\"variable=count_new<br>OperatorNa=%{x}<br>value=%{y}<extra></extra>\",\"legendgroup\":\"count_new\",\"marker\":{\"color\":\"#00cc96\",\"pattern\":{\"shape\":\"\"}},\"name\":\"count_new\",\"offsetgroup\":\"count_new\",\"orientation\":\"v\",\"showlegend\":true,\"textposition\":\"auto\",\"x\":[\"Aera Energy LLC\",\"Aera Energy LLC\",\"Aera Energy LLC\",\"Aera Energy LLC\",\"Aera Energy LLC\"],\"xaxis\":\"x\",\"y\":[372.0,372.0,372.0,372.0,372.0],\"yaxis\":\"y\",\"type\":\"bar\"}],                        {\"template\":{\"data\":{\"histogram2dcontour\":[{\"type\":\"histogram2dcontour\",\"colorbar\":{\"outlinewidth\":0,\"ticks\":\"\"},\"colorscale\":[[0.0,\"#0d0887\"],[0.1111111111111111,\"#46039f\"],[0.2222222222222222,\"#7201a8\"],[0.3333333333333333,\"#9c179e\"],[0.4444444444444444,\"#bd3786\"],[0.5555555555555556,\"#d8576b\"],[0.6666666666666666,\"#ed7953\"],[0.7777777777777778,\"#fb9f3a\"],[0.8888888888888888,\"#fdca26\"],[1.0,\"#f0f921\"]]}],\"choropleth\":[{\"type\":\"choropleth\",\"colorbar\":{\"outlinewidth\":0,\"ticks\":\"\"}}],\"histogram2d\":[{\"type\":\"histogram2d\",\"colorbar\":{\"outlinewidth\":0,\"ticks\":\"\"},\"colorscale\":[[0.0,\"#0d0887\"],[0.1111111111111111,\"#46039f\"],[0.2222222222222222,\"#7201a8\"],[0.3333333333333333,\"#9c179e\"],[0.4444444444444444,\"#bd3786\"],[0.5555555555555556,\"#d8576b\"],[0.6666666666666666,\"#ed7953\"],[0.7777777777777778,\"#fb9f3a\"],[0.8888888888888888,\"#fdca26\"],[1.0,\"#f0f921\"]]}],\"heatmap\":[{\"type\":\"heatmap\",\"colorbar\":{\"outlinewidth\":0,\"ticks\":\"\"},\"colorscale\":[[0.0,\"#0d0887\"],[0.1111111111111111,\"#46039f\"],[0.2222222222222222,\"#7201a8\"],[0.3333333333333333,\"#9c179e\"],[0.4444444444444444,\"#bd3786\"],[0.5555555555555556,\"#d8576b\"],[0.6666666666666666,\"#ed7953\"],[0.7777777777777778,\"#fb9f3a\"],[0.8888888888888888,\"#fdca26\"],[1.0,\"#f0f921\"]]}],\"heatmapgl\":[{\"type\":\"heatmapgl\",\"colorbar\":{\"outlinewidth\":0,\"ticks\":\"\"},\"colorscale\":[[0.0,\"#0d0887\"],[0.1111111111111111,\"#46039f\"],[0.2222222222222222,\"#7201a8\"],[0.3333333333333333,\"#9c179e\"],[0.4444444444444444,\"#bd3786\"],[0.5555555555555556,\"#d8576b\"],[0.6666666666666666,\"#ed7953\"],[0.7777777777777778,\"#fb9f3a\"],[0.8888888888888888,\"#fdca26\"],[1.0,\"#f0f921\"]]}],\"contourcarpet\":[{\"type\":\"contourcarpet\",\"colorbar\":{\"outlinewidth\":0,\"ticks\":\"\"}}],\"contour\":[{\"type\":\"contour\",\"colorbar\":{\"outlinewidth\":0,\"ticks\":\"\"},\"colorscale\":[[0.0,\"#0d0887\"],[0.1111111111111111,\"#46039f\"],[0.2222222222222222,\"#7201a8\"],[0.3333333333333333,\"#9c179e\"],[0.4444444444444444,\"#bd3786\"],[0.5555555555555556,\"#d8576b\"],[0.6666666666666666,\"#ed7953\"],[0.7777777777777778,\"#fb9f3a\"],[0.8888888888888888,\"#fdca26\"],[1.0,\"#f0f921\"]]}],\"surface\":[{\"type\":\"surface\",\"colorbar\":{\"outlinewidth\":0,\"ticks\":\"\"},\"colorscale\":[[0.0,\"#0d0887\"],[0.1111111111111111,\"#46039f\"],[0.2222222222222222,\"#7201a8\"],[0.3333333333333333,\"#9c179e\"],[0.4444444444444444,\"#bd3786\"],[0.5555555555555556,\"#d8576b\"],[0.6666666666666666,\"#ed7953\"],[0.7777777777777778,\"#fb9f3a\"],[0.8888888888888888,\"#fdca26\"],[1.0,\"#f0f921\"]]}],\"mesh3d\":[{\"type\":\"mesh3d\",\"colorbar\":{\"outlinewidth\":0,\"ticks\":\"\"}}],\"scatter\":[{\"fillpattern\":{\"fillmode\":\"overlay\",\"size\":10,\"solidity\":0.2},\"type\":\"scatter\"}],\"parcoords\":[{\"type\":\"parcoords\",\"line\":{\"colorbar\":{\"outlinewidth\":0,\"ticks\":\"\"}}}],\"scatterpolargl\":[{\"type\":\"scatterpolargl\",\"marker\":{\"colorbar\":{\"outlinewidth\":0,\"ticks\":\"\"}}}],\"bar\":[{\"error_x\":{\"color\":\"#2a3f5f\"},\"error_y\":{\"color\":\"#2a3f5f\"},\"marker\":{\"line\":{\"color\":\"#E5ECF6\",\"width\":0.5},\"pattern\":{\"fillmode\":\"overlay\",\"size\":10,\"solidity\":0.2}},\"type\":\"bar\"}],\"scattergeo\":[{\"type\":\"scattergeo\",\"marker\":{\"colorbar\":{\"outlinewidth\":0,\"ticks\":\"\"}}}],\"scatterpolar\":[{\"type\":\"scatterpolar\",\"marker\":{\"colorbar\":{\"outlinewidth\":0,\"ticks\":\"\"}}}],\"histogram\":[{\"marker\":{\"pattern\":{\"fillmode\":\"overlay\",\"size\":10,\"solidity\":0.2}},\"type\":\"histogram\"}],\"scattergl\":[{\"type\":\"scattergl\",\"marker\":{\"colorbar\":{\"outlinewidth\":0,\"ticks\":\"\"}}}],\"scatter3d\":[{\"type\":\"scatter3d\",\"line\":{\"colorbar\":{\"outlinewidth\":0,\"ticks\":\"\"}},\"marker\":{\"colorbar\":{\"outlinewidth\":0,\"ticks\":\"\"}}}],\"scattermapbox\":[{\"type\":\"scattermapbox\",\"marker\":{\"colorbar\":{\"outlinewidth\":0,\"ticks\":\"\"}}}],\"scatterternary\":[{\"type\":\"scatterternary\",\"marker\":{\"colorbar\":{\"outlinewidth\":0,\"ticks\":\"\"}}}],\"scattercarpet\":[{\"type\":\"scattercarpet\",\"marker\":{\"colorbar\":{\"outlinewidth\":0,\"ticks\":\"\"}}}],\"carpet\":[{\"aaxis\":{\"endlinecolor\":\"#2a3f5f\",\"gridcolor\":\"white\",\"linecolor\":\"white\",\"minorgridcolor\":\"white\",\"startlinecolor\":\"#2a3f5f\"},\"baxis\":{\"endlinecolor\":\"#2a3f5f\",\"gridcolor\":\"white\",\"linecolor\":\"white\",\"minorgridcolor\":\"white\",\"startlinecolor\":\"#2a3f5f\"},\"type\":\"carpet\"}],\"table\":[{\"cells\":{\"fill\":{\"color\":\"#EBF0F8\"},\"line\":{\"color\":\"white\"}},\"header\":{\"fill\":{\"color\":\"#C8D4E3\"},\"line\":{\"color\":\"white\"}},\"type\":\"table\"}],\"barpolar\":[{\"marker\":{\"line\":{\"color\":\"#E5ECF6\",\"width\":0.5},\"pattern\":{\"fillmode\":\"overlay\",\"size\":10,\"solidity\":0.2}},\"type\":\"barpolar\"}],\"pie\":[{\"automargin\":true,\"type\":\"pie\"}]},\"layout\":{\"autotypenumbers\":\"strict\",\"colorway\":[\"#636efa\",\"#EF553B\",\"#00cc96\",\"#ab63fa\",\"#FFA15A\",\"#19d3f3\",\"#FF6692\",\"#B6E880\",\"#FF97FF\",\"#FECB52\"],\"font\":{\"color\":\"#2a3f5f\"},\"hovermode\":\"closest\",\"hoverlabel\":{\"align\":\"left\"},\"paper_bgcolor\":\"white\",\"plot_bgcolor\":\"#E5ECF6\",\"polar\":{\"bgcolor\":\"#E5ECF6\",\"angularaxis\":{\"gridcolor\":\"white\",\"linecolor\":\"white\",\"ticks\":\"\"},\"radialaxis\":{\"gridcolor\":\"white\",\"linecolor\":\"white\",\"ticks\":\"\"}},\"ternary\":{\"bgcolor\":\"#E5ECF6\",\"aaxis\":{\"gridcolor\":\"white\",\"linecolor\":\"white\",\"ticks\":\"\"},\"baxis\":{\"gridcolor\":\"white\",\"linecolor\":\"white\",\"ticks\":\"\"},\"caxis\":{\"gridcolor\":\"white\",\"linecolor\":\"white\",\"ticks\":\"\"}},\"coloraxis\":{\"colorbar\":{\"outlinewidth\":0,\"ticks\":\"\"}},\"colorscale\":{\"sequential\":[[0.0,\"#0d0887\"],[0.1111111111111111,\"#46039f\"],[0.2222222222222222,\"#7201a8\"],[0.3333333333333333,\"#9c179e\"],[0.4444444444444444,\"#bd3786\"],[0.5555555555555556,\"#d8576b\"],[0.6666666666666666,\"#ed7953\"],[0.7777777777777778,\"#fb9f3a\"],[0.8888888888888888,\"#fdca26\"],[1.0,\"#f0f921\"]],\"sequentialminus\":[[0.0,\"#0d0887\"],[0.1111111111111111,\"#46039f\"],[0.2222222222222222,\"#7201a8\"],[0.3333333333333333,\"#9c179e\"],[0.4444444444444444,\"#bd3786\"],[0.5555555555555556,\"#d8576b\"],[0.6666666666666666,\"#ed7953\"],[0.7777777777777778,\"#fb9f3a\"],[0.8888888888888888,\"#fdca26\"],[1.0,\"#f0f921\"]],\"diverging\":[[0,\"#8e0152\"],[0.1,\"#c51b7d\"],[0.2,\"#de77ae\"],[0.3,\"#f1b6da\"],[0.4,\"#fde0ef\"],[0.5,\"#f7f7f7\"],[0.6,\"#e6f5d0\"],[0.7,\"#b8e186\"],[0.8,\"#7fbc41\"],[0.9,\"#4d9221\"],[1,\"#276419\"]]},\"xaxis\":{\"gridcolor\":\"white\",\"linecolor\":\"white\",\"ticks\":\"\",\"title\":{\"standoff\":15},\"zerolinecolor\":\"white\",\"automargin\":true,\"zerolinewidth\":2},\"yaxis\":{\"gridcolor\":\"white\",\"linecolor\":\"white\",\"ticks\":\"\",\"title\":{\"standoff\":15},\"zerolinecolor\":\"white\",\"automargin\":true,\"zerolinewidth\":2},\"scene\":{\"xaxis\":{\"backgroundcolor\":\"#E5ECF6\",\"gridcolor\":\"white\",\"linecolor\":\"white\",\"showbackground\":true,\"ticks\":\"\",\"zerolinecolor\":\"white\",\"gridwidth\":2},\"yaxis\":{\"backgroundcolor\":\"#E5ECF6\",\"gridcolor\":\"white\",\"linecolor\":\"white\",\"showbackground\":true,\"ticks\":\"\",\"zerolinecolor\":\"white\",\"gridwidth\":2},\"zaxis\":{\"backgroundcolor\":\"#E5ECF6\",\"gridcolor\":\"white\",\"linecolor\":\"white\",\"showbackground\":true,\"ticks\":\"\",\"zerolinecolor\":\"white\",\"gridwidth\":2}},\"shapedefaults\":{\"line\":{\"color\":\"#2a3f5f\"}},\"annotationdefaults\":{\"arrowcolor\":\"#2a3f5f\",\"arrowhead\":0,\"arrowwidth\":1},\"geo\":{\"bgcolor\":\"white\",\"landcolor\":\"#E5ECF6\",\"subunitcolor\":\"white\",\"showland\":true,\"showlakes\":true,\"lakecolor\":\"white\"},\"title\":{\"x\":0.05},\"mapbox\":{\"style\":\"light\"}}},\"xaxis\":{\"anchor\":\"y\",\"domain\":[0.0,1.0],\"title\":{\"text\":\"OperatorNa\"}},\"yaxis\":{\"anchor\":\"x\",\"domain\":[0.0,1.0],\"title\":{\"text\":\"value\"}},\"legend\":{\"title\":{\"text\":\"variable\"},\"tracegroupgap\":0},\"title\":{\"text\":\"Wide-Form Input\"},\"barmode\":\"relative\"},                        {\"responsive\": true}                    ).then(function(){\n",
       "                            \n",
       "var gd = document.getElementById('e085f52e-2eab-4d4c-98d1-1977c89ec45c');\n",
       "var x = new MutationObserver(function (mutations, observer) {{\n",
       "        var display = window.getComputedStyle(gd).display;\n",
       "        if (!display || display === 'none') {{\n",
       "            console.log([gd, 'removed!']);\n",
       "            Plotly.purge(gd);\n",
       "            observer.disconnect();\n",
       "        }}\n",
       "}});\n",
       "\n",
       "// Listen for the removal of the full notebook cells\n",
       "var notebookContainer = gd.closest('#notebook-container');\n",
       "if (notebookContainer) {{\n",
       "    x.observe(notebookContainer, {childList: true});\n",
       "}}\n",
       "\n",
       "// Listen for the clearing of the current output cell\n",
       "var outputEl = gd.closest('.output');\n",
       "if (outputEl) {{\n",
       "    x.observe(outputEl, {childList: true});\n",
       "}}\n",
       "\n",
       "                        })                };                });            </script>        </div>"
      ]
     },
     "metadata": {},
     "output_type": "display_data"
    }
   ],
   "source": [
    "#only need one row per operator with active, idle, and new count. subset further to have one row of each operator\n",
    "#group by (command) - group by operator - can even manually create five rows in excel  \n",
    "fig = px.bar(oilsubset.head(5), x=\"OperatorNa\", y=[\"idle\", \"count_active\", \"count_new\"], title=\"Wide-Form Input\")\n",
    "fig.show()\n"
   ]
  },
  {
   "cell_type": "code",
   "execution_count": null,
   "id": "fa4e5908-7f3b-4ca3-ac93-0191116a28c9",
   "metadata": {},
   "outputs": [],
   "source": []
  }
 ],
 "metadata": {
  "kernelspec": {
   "display_name": "Python 3 (ipykernel)",
   "language": "python",
   "name": "python3"
  },
  "language_info": {
   "codemirror_mode": {
    "name": "ipython",
    "version": 3
   },
   "file_extension": ".py",
   "mimetype": "text/x-python",
   "name": "python",
   "nbconvert_exporter": "python",
   "pygments_lexer": "ipython3",
   "version": "3.10.8"
  }
 },
 "nbformat": 4,
 "nbformat_minor": 5
}
